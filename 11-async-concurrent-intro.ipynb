{
 "cells": [
  {
   "cell_type": "markdown",
   "id": "1bf136d7-8452-4243-b956-6418996cd75a",
   "metadata": {},
   "source": [
    "# An Introduction to **Asynchronous/Concurrent** Programming in Kotlin\n",
    "\n",
    "- A brief description of `runBlocking` and `coroutineScope` is given.\n",
    "- The concept of `suspend` functions is explained.\n",
    "- `launch`ing a coroutine is covered.\n",
    "\n",
    "**HINT**: You may need to read this section (and [Async/Concurrent: Basics](12-async-concurrent-basics.ipynb), [Async/Concurrent: Coroutine Context](13-async-concurrent-context.ipynb)) **multiple times** and revisit it for review and practice, as it can be **complex** for all to fully grasp on the first pass. Don't worry! This isn't a reflection of your ability; the concept itself can be quite **confusing** and often **requires careful consideration** and **experimentation** to fully understand."
   ]
  },
  {
   "cell_type": "code",
   "execution_count": 1,
   "id": "efdfc037-57db-4b6c-8948-95eef0239bd8",
   "metadata": {},
   "outputs": [],
   "source": [
    "// Importing some neccessary libs in jupyter notebook\n",
    "@file:DependsOn(\"org.jetbrains.kotlinx:kotlinx-coroutines-core:1.5.2\")\n",
    "import kotlinx.coroutines.*\n",
    "import java.util.concurrent.Executors"
   ]
  },
  {
   "cell_type": "markdown",
   "id": "6677c466-d8e4-472f-b0d5-431ff38e544e",
   "metadata": {},
   "source": [
    "## Introducing **suspend functions**, **coroutines**, `runBlocking` and `launch`\n",
    "\n",
    "- `runBlocking` is a **coroutine builder** with a given or inherited **context** that creates a **scope** for us `{...}`.\n",
    "- `coroutineScope` is a scope `{...}` with a given **context** where your **coroutines/codes** executed in.\n",
    "- **Coroutines** and **suspend functions** can be **launched/executed** in the `runBlocking {...}` scope `{...}` (or other coroutine scopes).\n",
    "- **Suspend functions** can be directly called or **launched** in a coroutine **scope** `{...}`.\n",
    "- `runBlocking` **blocks** the given thread for its own usage.\n",
    "- There are more concepts like `Dispatcher`, `job`, `contex`, ... that will be dicusses later."
   ]
  },
  {
   "cell_type": "code",
   "execution_count": 2,
   "id": "da5f8260-addd-45fa-af68-b0f3c77f916d",
   "metadata": {},
   "outputs": [
    {
     "name": "stdout",
     "output_type": "stream",
     "text": [
      "Hello World\n"
     ]
    }
   ],
   "source": [
    "// Creating the entry point using runBlocking\n",
    "\n",
    "/* \n",
    "'runBlocking' is a coroutine builder that bridges your program entry \n",
    "to an async/concurrent programming structure (coroutines).\n",
    "*/\n",
    "\n",
    "// Kotlin concurrent programs normally begin with a runBlocking {} bridge.\n",
    "// runBlocking, as its name suggests, blocks its thread in which the code is being executed.\n",
    "// runBlocking is a coroutine builder and defines a coroutine scope in '{...}' so other coroutines can be executed in it.\n",
    "fun main() = runBlocking { // A coroutine scope is defined here\n",
    "    //.............runBlocking coroutine scope.................\n",
    "    println(\"Hello World\")\n",
    "}\n",
    "main()"
   ]
  },
  {
   "cell_type": "code",
   "execution_count": 3,
   "id": "60d2b10b-25e7-4251-80a7-6f447c0fb42b",
   "metadata": {},
   "outputs": [],
   "source": [
    "// Creating a simple suspend function\n",
    "\n",
    "// The keyword 'suspend' is added to specify that the function might get suspended.\n",
    "suspend fun fetch() { \n",
    "    // There is no suspension point here in this function yet.\n",
    "    println(\"Hello World\")\n",
    "}"
   ]
  },
  {
   "cell_type": "markdown",
   "id": "c2c1d44b-0208-4578-83f8-dba137b65093",
   "metadata": {},
   "source": [
    "## The order of code execution in a **coroutine scope**\n",
    "\n",
    "1. Code execution continues with normal (non-suspend and non-coroutine) codes.\n",
    "   * `launch`ing a **job** won't **suspend** execution; just adds coroutines to the execution queue and skips the launched coroutine. \n",
    "3. If the code reaches at a **suspension point** and a **suspend** function pauses the code execution, it starts running all **already launched jobs** unitl *they complete or suspend again*.\n",
    "4. Then code execution *continues*; if there is no more suspending point at the end of the scope, all queued jobs that already have launched get executed *unitl they are all done*.\n",
    "5. Finally, coroutine scope finishes running *when verything is DONE* and then block returns."
   ]
  },
  {
   "cell_type": "code",
   "execution_count": 4,
   "id": "c4c44cdc-9575-4e9a-85ba-f541a8ce76b2",
   "metadata": {},
   "outputs": [
    {
     "name": "stdout",
     "output_type": "stream",
     "text": [
      "Program started.\n",
      "'fetch' started; wait for 3 sec ...\n",
      "Hello World\n",
      "Program finished.\n"
     ]
    }
   ],
   "source": [
    "// Manually suspending the function\n",
    "\n",
    "// Adding 'delay' to suspend the function\n",
    "suspend fun fetch() {  // This is a suspendable function\n",
    "    println(\"'fetch' started; wait for 3 sec ...\")\n",
    "    \n",
    "    // Delay is a 'suspending function' that suspends 'fetch'\n",
    "    delay(3_000)  // 1_000 = 1s\n",
    "    \n",
    "    println(\"Hello World\")\n",
    "}\n",
    "\n",
    "// This code runs as a regular code\n",
    "fun main() = runBlocking {\n",
    "    println(\"Program started.\")\n",
    "    // 'fetch' is executed in runBocking scope\n",
    "    fetch() // Program pauses (suspends) here, because coroutine scopes pause when they reach a suspendable function, then continues.\n",
    "    println(\"Program finished.\")\n",
    "}\n",
    "main()"
   ]
  },
  {
   "cell_type": "code",
   "execution_count": 5,
   "id": "266824b3-1a23-4d61-bf1f-a9949d134d1b",
   "metadata": {},
   "outputs": [
    {
     "name": "stdout",
     "output_type": "stream",
     "text": [
      "Program started.\n",
      "Program finished.\n",
      "'fetch' started; wait for 3 sec ...\n",
      "Hello World\n"
     ]
    }
   ],
   "source": [
    "// Using 'launch' to postpone 'suspend' function execution as a 'job'\n",
    "\n",
    "suspend fun fetch() {  \n",
    "    println(\"'fetch' started; wait for 3 sec ...\")\n",
    "    delay(3_000)  // 1_000 = 1s\n",
    "    println(\"Hello World\")\n",
    "}\n",
    "\n",
    "// Now, using 'launch' coroutine builder, the suspend function is launched as a job in runBlocking coroutine scope.\n",
    "fun main() = runBlocking { \n",
    "    println(\"Program started.\")\n",
    "    \n",
    "    // 'launch' is another coroutine builder that launches a coroutine and returns a 'job' in a given 'coroutineScope'.\n",
    "    /* \n",
    "    The coroutine 'job' will get executes:\n",
    "        - when all non-suspendable (normal) codes in the runBlocking block finish and there is nothing left in its scope.\n",
    "        - or when runBlocking gets suspended at some point. \n",
    "            In this case, all already launched jobs will start executing until they finish or suspend again.\n",
    "    */\n",
    "    // runBlocking will not pause here.\n",
    "    launch { // This launches a coroutine, returns a 'job' and postpones its execution (we have ignored the returned 'job' here).\n",
    "        fetch() \n",
    "    }\n",
    "    println(\"Program finished.\")\n",
    "}\n",
    "main()"
   ]
  },
  {
   "cell_type": "code",
   "execution_count": 6,
   "id": "b27773a9-35e0-4e0c-a9e1-20b9efa8e120",
   "metadata": {},
   "outputs": [
    {
     "name": "stdout",
     "output_type": "stream",
     "text": [
      "Program started.\n",
      "'fetch' started; wait for 3 sec ...\n",
      "Hello World\n",
      "Program finished.\n"
     ]
    }
   ],
   "source": [
    "// Adding another suspending point in runBlocking scope\n",
    "\n",
    "suspend fun fetch() {  \n",
    "    println(\"'fetch' started; wait for 3 sec ...\")\n",
    "    delay(3_000)  // 1_000 = 1s\n",
    "    println(\"Hello World\")\n",
    "}\n",
    "\n",
    "fun main() = runBlocking { \n",
    "    println(\"Program started.\")\n",
    "\n",
    "    // REMEMBER: 'launch' can only launch coroutines in a coroutine scope\n",
    "    launch { // This launches a coroutine and postpones its execution.\n",
    "        fetch() \n",
    "    }\n",
    "    \n",
    "    // runBlocking pauses here and the launched job will start running\n",
    "    delay(5_000) // Change 5000 to 1000 to see how execution order changes\n",
    "    println(\"Program finished.\")\n",
    "}\n",
    "main()"
   ]
  },
  {
   "cell_type": "markdown",
   "id": "088d1ae6-fc4d-4501-863a-edd28fb1930f",
   "metadata": {},
   "source": [
    "## Experimenting if `runBlocking` actally blocks its thread\n",
    "\n",
    "You can read a good [article about it here by Jim Steinberger](https://www.baeldung.com/kotlin/coroutines-runblocking-coroutinescope). I have used some ideas of this valuable resource.\n",
    "\n",
    "- **IMPORTANT NOTE:** Never block your threads unless you know what you are doing. `runBlocking` is designed for main program entry and bridging between normal and async/concurrent codes. This example is given to better illustrate how it works.\n"
   ]
  },
  {
   "cell_type": "code",
   "execution_count": 7,
   "id": "dc32ec27-cc0c-414c-b1a8-6733d40b7dd8",
   "metadata": {},
   "outputs": [
    {
     "name": "stdout",
     "output_type": "stream",
     "text": [
      "Program started.\n",
      "Program finihsed.\n",
      "Thread[#54,pool-1-thread-1,5,main] I'm not blocked 1\n",
      "Thread[#54,pool-1-thread-1,5,main] runBlockingCorScope launch; wait...\n",
      "Thread[#54,pool-1-thread-1,5,main] runBlockingCorScope finished\n",
      "Thread[#54,pool-1-thread-1,5,main] I'm not blocked 2\n",
      "Thread[#54,pool-1-thread-1,5,main] I'm not blocked 3\n",
      "Thread[#54,pool-1-thread-1,5,main] I'm not blocked 4\n",
      "Thread[#54,pool-1-thread-1,5,main] I'm not blocked 5\n",
      "Thread[#54,pool-1-thread-1,5,main] I'm not blocked 6\n",
      "Thread[#54,pool-1-thread-1,5,main] I'm not blocked 7\n",
      "Thread[#54,pool-1-thread-1,5,main] I'm not blocked 8\n",
      "Thread[#54,pool-1-thread-1,5,main] I'm not blocked 9\n",
      "Thread[#54,pool-1-thread-1,5,main] I'm not blocked 10\n",
      "Thread[#54,pool-1-thread-1,5,main] I'm not blocked 11\n",
      "Thread[#54,pool-1-thread-1,5,main] I'm not blocked 12\n",
      "Thread[#54,pool-1-thread-1,5,main] I'm not blocked 13\n",
      "Thread[#54,pool-1-thread-1,5,main] I'm not blocked 14\n",
      "Thread[#54,pool-1-thread-1,5,main] I'm not blocked 15\n",
      "Thread[#54,pool-1-thread-1,5,main] I'm not blocked 16\n",
      "Thread[#54,pool-1-thread-1,5,main] I'm not blocked 17\n",
      "Thread[#54,pool-1-thread-1,5,main] I'm not blocked 18\n",
      "Thread[#54,pool-1-thread-1,5,main] I'm not blocked 19\n",
      "Thread[#54,pool-1-thread-1,5,main] I'm not blocked 20\n"
     ]
    }
   ],
   "source": [
    "// Blocking thread\n",
    "\n",
    "val threadNo = 1 // Change to 2 threads to see what happens; you can see concurrent execution\n",
    "\n",
    "// Creating a custom coroutine context with threadNo thread\n",
    "val context = Executors.newFixedThreadPool(threadNo).asCoroutineDispatcher()\n",
    "\n",
    "/* \n",
    "'runBlocking' is a coroutine builder that inherits \n",
    "its 'context' from outer scope (the scope its is launched) unless a 'context' is given.\n",
    "The coroutine builder 'runBlocking {...}' does not return a suspend function.\n",
    "*/\n",
    "fun runBlockingCorScope() = runBlocking {\n",
    "    println(Thread.currentThread().toString()+\" runBlockingCorScope launch; wait...\")\n",
    "    delay(10_000)\n",
    "    println(Thread.currentThread().toString()+\" runBlockingCorScope finished\")\n",
    "}\n",
    "\n",
    "fun main() = runBlocking(context) { // the 'context' is given to the root 'runBlocking'\n",
    "    println(\"Program started.\")\n",
    "\n",
    "    // Launching jobs to check when thread gets block\n",
    "    launch {\n",
    "        for (k in 1..20) {\n",
    "            println(Thread.currentThread().toString()+\" I'm not blocked $k\")\n",
    "            delay(200)\n",
    "        }\n",
    "    }\n",
    "\n",
    "    launch { runBlockingCorScope() }\n",
    "    // runBlockingCorScope()  // Comment above code and uncomment this to see the difference\n",
    "\n",
    "    println(\"Program finihsed.\")\n",
    "}\n",
    "main()\n",
    "\n",
    "context.close()  // Gracefully close the coroutine dispatcher"
   ]
  },
  {
   "cell_type": "code",
   "execution_count": null,
   "id": "f5ce9124-f894-4648-a123-7022d83b6153",
   "metadata": {},
   "outputs": [],
   "source": []
  }
 ],
 "metadata": {
  "kernelspec": {
   "display_name": "Kotlin",
   "language": "kotlin",
   "name": "kotlin"
  },
  "language_info": {
   "codemirror_mode": "text/x-kotlin",
   "file_extension": ".kt",
   "mimetype": "text/x-kotlin",
   "name": "kotlin",
   "nbconvert_exporter": "",
   "pygments_lexer": "kotlin",
   "version": "1.9.23"
  }
 },
 "nbformat": 4,
 "nbformat_minor": 5
}
