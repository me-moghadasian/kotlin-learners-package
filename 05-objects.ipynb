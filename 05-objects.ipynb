{
 "cells": [
  {
   "cell_type": "markdown",
   "id": "cd7dd0e3-2937-4d4c-8158-fe354b2a4159",
   "metadata": {},
   "source": [
    "# Introducing **Objects**\n",
    "\n",
    "- Singlton objects are explained\n",
    "- Object expression is discussed.\n",
    "\n",
    "**NOTE**: Objects are instances of *classes* and/or *interfaces*; here, a specific way of creating objects is dicussed where there is no need to declare any class or interface explicitly.\n",
    "\n",
    "**NOTE**: *Interfaces* and *classes* will be dicussed in seperate sections later. For now, only simple objects will be explained."
   ]
  },
  {
   "cell_type": "markdown",
   "id": "66408df2-eec6-44b9-9354-fe4370c64398",
   "metadata": {},
   "source": [
    "## Singleton\n",
    "\n",
    " A singleton in Kotlin is a class that has only one instance. This is useful when you need a single, globally accessible instance, such as a configuration manager or a logging utility."
   ]
  },
  {
   "cell_type": "code",
   "execution_count": 1,
   "id": "3ab9ac19-7621-4571-af67-ca206057ad07",
   "metadata": {},
   "outputs": [
    {
     "name": "stdout",
     "output_type": "stream",
     "text": [
      "Value is 2024\n"
     ]
    }
   ],
   "source": [
    "// Singleton object\n",
    "\n",
    "object SomeSingleton {\n",
    "    var value: Int = 2024  // Declaring a variable in the object\n",
    "\n",
    "    fun printValue() { // Declaring a method in the object\n",
    "        println(\"Value is $value\")\n",
    "    }\n",
    "}\n",
    "\n",
    "SomeSingleton.printValue()"
   ]
  },
  {
   "cell_type": "markdown",
   "id": "9c00b2bb-e0a8-445c-b0a1-f5f830b3ae8c",
   "metadata": {},
   "source": [
    "## Object expressions\n",
    "\n",
    " An object expression is a way to create an instance of an anonymous class or an instance of an interface with implementation on the fly. It allows to define an object with specific behavior without having to create a separate class.\n",
    "\n",
    "**NOTE**: After introducing classes and interfaces, *object expressions* will be dicsussed further."
   ]
  },
  {
   "cell_type": "code",
   "execution_count": 2,
   "id": "9fecf9ef-4298-4f4f-a7cd-6454e6932814",
   "metadata": {},
   "outputs": [
    {
     "name": "stdout",
     "output_type": "stream",
     "text": [
      "Hello, World!\n"
     ]
    }
   ],
   "source": [
    " // Creating an object expression\n",
    "\n",
    " // This 'run' block is used because simply running the code in jupyter notebook will not work.\n",
    "run { \n",
    "    // Declaring an object using 'object {...}' structure\n",
    "    val obj = object {\n",
    "        val message = \"Hello, World!\" // Declaring a variable in the object\n",
    "        \n",
    "        fun printMessage() {  // Declaring a method in the object\n",
    "            println(message)\n",
    "        }\n",
    "    }\n",
    "\n",
    "    // Using the object\n",
    "    obj.printMessage() // Prints: Hello, World!\n",
    "}\n"
   ]
  },
  {
   "cell_type": "code",
   "execution_count": null,
   "id": "ec48e5f8-cca9-41c5-a306-1e004214ee53",
   "metadata": {},
   "outputs": [],
   "source": []
  }
 ],
 "metadata": {
  "kernelspec": {
   "display_name": "Kotlin",
   "language": "kotlin",
   "name": "kotlin"
  },
  "language_info": {
   "codemirror_mode": "text/x-kotlin",
   "file_extension": ".kt",
   "mimetype": "text/x-kotlin",
   "name": "kotlin",
   "nbconvert_exporter": "",
   "pygments_lexer": "kotlin",
   "version": "1.9.23"
  }
 },
 "nbformat": 4,
 "nbformat_minor": 5
}
