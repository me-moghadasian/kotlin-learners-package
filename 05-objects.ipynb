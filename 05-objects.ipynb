{
 "cells": [
  {
   "cell_type": "markdown",
   "id": "cd7dd0e3-2937-4d4c-8158-fe354b2a4159",
   "metadata": {},
   "source": [
    "# Introducing **Objects**\n"
   ]
  },
  {
   "cell_type": "code",
   "execution_count": 8,
   "id": "e9d557c8-aaf0-4b68-95b6-29d7ae389449",
   "metadata": {},
   "outputs": [
    {
     "name": "stdout",
     "output_type": "stream",
     "text": [
      "Do-While loop: Line_7_jupyter@4d9fae5f, Do-While loop: Line_7_jupyter@4d9fae5f, Do-While loop: Line_7_jupyter@4d9fae5f, Do-While loop: Line_7_jupyter@4d9fae5f, Do-While loop: Line_7_jupyter@4d9fae5f, "
     ]
    }
   ],
   "source": [
    "var counter = 0\n",
    "repeat(5) {\n",
    "    print(\"Do-While loop: ${this}, \") // Here we used print instead of println; println goes to new line\n",
    "    counter++\n",
    "    if (counter == 1) this\n",
    "}"
   ]
  },
  {
   "cell_type": "code",
   "execution_count": null,
   "id": "e2a1830e-6c41-4fdf-9c26-bc077d143eda",
   "metadata": {},
   "outputs": [],
   "source": []
  }
 ],
 "metadata": {
  "kernelspec": {
   "display_name": "Kotlin",
   "language": "kotlin",
   "name": "kotlin"
  },
  "language_info": {
   "codemirror_mode": "text/x-kotlin",
   "file_extension": ".kt",
   "mimetype": "text/x-kotlin",
   "name": "kotlin",
   "nbconvert_exporter": "",
   "pygments_lexer": "kotlin",
   "version": "1.9.23"
  }
 },
 "nbformat": 4,
 "nbformat_minor": 5
}
