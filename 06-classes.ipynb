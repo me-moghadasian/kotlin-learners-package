{
 "cells": [
  {
   "cell_type": "markdown",
   "id": "06d3646b-81a5-481c-bbf6-c2369251ca09",
   "metadata": {},
   "source": [
    "# Understanding Kotlin **Classes**\n",
    "\n",
    "- Kotlin **class** is introduced.\n",
    "- **Companion objects** are discussed.\n",
    "- Using **access modifier** is covered.\n",
    "- Using **multiple construcor** is explained.\n"
   ]
  },
  {
   "cell_type": "markdown",
   "id": "6e24ef11-0d9d-4577-99e2-6f1e6baa2a24",
   "metadata": {},
   "source": [
    "## Declaring Kotlin classes"
   ]
  },
  {
   "cell_type": "code",
   "execution_count": 1,
   "id": "9e3c7c3d-0459-4f60-8cf3-02c053544e63",
   "metadata": {},
   "outputs": [
    {
     "name": "stdout",
     "output_type": "stream",
     "text": [
      "Car\n"
     ]
    }
   ],
   "source": [
    "// Declaring a simple class without members [methods and parameters]\n",
    "class Car\n",
    "\n",
    "// Creating a class instance\n",
    "val myCar = Car()\n",
    "println(myCar::class.simpleName)"
   ]
  },
  {
   "cell_type": "code",
   "execution_count": 2,
   "id": "582320aa-04d0-40db-b35a-e69db5244876",
   "metadata": {},
   "outputs": [
    {
     "name": "stdout",
     "output_type": "stream",
     "text": [
      "BMW\n"
     ]
    }
   ],
   "source": [
    "// Declaring a class with properties\n",
    "\n",
    "class Car(val name: String)\n",
    "\n",
    "// Creating a class instance\n",
    "val myCar = Car(name = \"BMW\") // or val myCar = Car(\"BMW\")\n",
    "println(myCar.name)"
   ]
  },
  {
   "cell_type": "code",
   "execution_count": 3,
   "id": "ac485098-2836-4756-9232-a8ac781cc050",
   "metadata": {},
   "outputs": [
    {
     "name": "stdout",
     "output_type": "stream",
     "text": [
      "BMW:328\n"
     ]
    }
   ],
   "source": [
    "// Using parameters in class constructor\n",
    "\n",
    "// 'model' is not a class member and is used only for initiation.\n",
    "// 'name' is a class property.\n",
    "class Car(val name: String, model: String) { // The class body: this act as class's primary constructor.\n",
    "    val fullName = name + \":\" + model // 'fullName' is a class property too.\n",
    "}\n",
    "\n",
    "// Creating a class instance\n",
    "val myCar = Car(name = \"BMW\", model = \"328\") // or val myCar = Car(\"BMW\").\n",
    "println(myCar.fullName)\n",
    "// println(myCar.model) // Throws error since 'model' is not a class member."
   ]
  },
  {
   "cell_type": "code",
   "execution_count": 4,
   "id": "eff65798-e3b4-4d4f-b7fb-dacc52e56ad5",
   "metadata": {},
   "outputs": [
    {
     "name": "stdout",
     "output_type": "stream",
     "text": [
      "A class instance was inittiated with car name: BMW and model: 528\n",
      "Initiation finished.\n",
      "BMW:528\n"
     ]
    }
   ],
   "source": [
    "// Using 'init' blocks in the class body\n",
    "\n",
    "class Car(val name: String, model: String) { // The class body: this act as class primary constructor.\n",
    "    val fullName = name + \":\" + model  // 'fullName' is a class property.\n",
    "\n",
    "    // Bellow line throws an error if uncommentd.\n",
    "    // println(\"A class instance was inittiated with car name: ${name} and model: ${model}\")\n",
    "    \n",
    "    init { // We can execute codes here to initiate the class instance.\n",
    "        println(\"A class instance was inittiated with car name: ${name} and model: ${model}\")\n",
    "    }\n",
    "    init { // We can use multiple 'init' blocks.\n",
    "        println(\"Initiation finished.\")\n",
    "    }\n",
    "}\n",
    "\n",
    "// Creating a class instance\n",
    "val myCar = Car(name = \"BMW\", model = \"528\") // or val myCar = Car(\"BMW\")\n",
    "println(myCar.fullName)"
   ]
  },
  {
   "cell_type": "code",
   "execution_count": 5,
   "id": "efee0aba-04fe-41fc-92bb-c7db0b06ab83",
   "metadata": {},
   "outputs": [
    {
     "name": "stdout",
     "output_type": "stream",
     "text": [
      "A class instance was inittiated with car name: BMW and model: 528\n",
      "Initiation finished.\n",
      "The car is a 'BMW:528'.\n"
     ]
    }
   ],
   "source": [
    "// Adding methods to classes\n",
    "\n",
    "class Car(val name: String, model: String) { \n",
    "    val fullName = name + \":\" + model \n",
    "    \n",
    "    init { \n",
    "        println(\"A class instance was inittiated with car name: ${name} and model: ${model}\")\n",
    "    }\n",
    "    init { \n",
    "        println(\"Initiation finished.\")\n",
    "    }\n",
    "\n",
    "    fun printMessage() { // A simlpe public method\n",
    "        println(\"The car is a '${fullName}'.\")\n",
    "    }\n",
    "}\n",
    "\n",
    "// Creating a class instance\n",
    "val myCar = Car(name = \"BMW\", model = \"528\")\n",
    "myCar.printMessage() // Calling the public method"
   ]
  },
  {
   "cell_type": "markdown",
   "id": "38de791f-6c35-45da-8e46-6478c5f5785c",
   "metadata": {},
   "source": [
    "## Companion Object"
   ]
  },
  {
   "cell_type": "code",
   "execution_count": 6,
   "id": "3b073ac7-c52a-4354-a313-19d1ec072a38",
   "metadata": {},
   "outputs": [
    {
     "name": "stdout",
     "output_type": "stream",
     "text": [
      "Vehicle type is Electric.\n",
      "Electric cars use electricity power to work instead of petrol.\n"
     ]
    }
   ],
   "source": [
    "// Adding a companion object to the class\n",
    "\n",
    "// Companion object is a single instance object shared between class instances.\n",
    "class ElectricCar(val name: String, model: String) { \n",
    "    val fullName = name + \":\" + model \n",
    "\n",
    "    // Only one companion object can be added to a class.\n",
    "    // Companion objects can have name: 'companion object [NAME] {...}'.\n",
    "    companion object {\n",
    "        // We can define a compile-time constant using 'const val' here; it can only be applied to primitive types.\n",
    "        const val TAG = \"ELECTRIC\"\n",
    "        val vahicleType = \"Electric\"\n",
    "\n",
    "        fun describe() {\n",
    "            println(\"Electric cars use electricity power to work instead of petrol.\")\n",
    "        }\n",
    "    }\n",
    "}\n",
    "\n",
    "println(\"Vehicle type is ${ElectricCar.vahicleType}.\")\n",
    "/*\n",
    "  If a companion object has name, it can be used as: [ClassName].[CompanionName].[MethodName/PropertyName]\n",
    "otherwise, [ClassName].[MethodName/PropertyName].\n",
    "*/\n",
    "ElectricCar.describe() "
   ]
  },
  {
   "cell_type": "markdown",
   "id": "457be406-7f16-48ef-ac7b-9f31621d88cf",
   "metadata": {},
   "source": [
    "## Using Access Modifiers"
   ]
  },
  {
   "cell_type": "code",
   "execution_count": 7,
   "id": "cef1c777-77dc-4806-8e18-35c9c5ffa70d",
   "metadata": {},
   "outputs": [],
   "source": [
    "// Using access modifiers for classes\n",
    "\n",
    "// Default access modifier for top-level declarations is 'public', \n",
    "// which means the class is accessible from any other code.\n",
    "\n",
    "// This Car class can be accessed from anywhere.\n",
    "public class CarPublic()\n",
    "\n",
    "// This Car class can be accessed only in the file it is defined in.\n",
    "private class CarPrivate()\n",
    "\n",
    "// The 'internal' access modifier restricts visibility to the module in which it's defined.\n",
    "// This Car class can be accessed only within the same module (a module is a set of Kotlin files compiled together).\n",
    "internal class CarInternal()\n",
    "\n",
    "// The 'open' modifier allows the class to be inherited. By default, classes in Kotlin are final and cannot be inherited.\n",
    "open class CarInheritable()"
   ]
  },
  {
   "cell_type": "code",
   "execution_count": 8,
   "id": "0303ef69-418e-4c9d-a18d-de436ea37646",
   "metadata": {},
   "outputs": [
    {
     "name": "stdout",
     "output_type": "stream",
     "text": [
      "Private method was called.\n",
      "Protected method was called.\n"
     ]
    }
   ],
   "source": [
    "// Using access modifiers for class members\n",
    "\n",
    "// 'name' is private to the Car class, and it is not accessible outside of it.\n",
    "// Only the Car class can access 'name'.\n",
    "class CarWithPrivateProperty(private val name: String)\n",
    "\n",
    "// 'name' is protected, meaning it is accessible within the Car class and any subclasses, but not outside of them.\n",
    "class CarWithProtectedProperty(protected val name: String)\n",
    "\n",
    "// The same applies to methods\n",
    "class classWithPrivateMethod {\n",
    "    private fun describe() = println(\"Private method was called.\")\n",
    "    protected fun explain() = println(\"Protected method was called.\")\n",
    "\n",
    "    fun getInfo() { \n",
    "        describe()  // or 'this.describe()'; 'this' refers to the object instance.\n",
    "        explain()  // or 'this.explain()'; 'this' refers to the object instance.\n",
    "    }\n",
    "}\n",
    "\n",
    "val c = classWithPrivateMethod()\n",
    "c.getInfo()"
   ]
  },
  {
   "cell_type": "markdown",
   "id": "2c16225d-1372-4b22-a515-e87c6a15b571",
   "metadata": {},
   "source": [
    "## Class Constructors"
   ]
  },
  {
   "cell_type": "code",
   "execution_count": 9,
   "id": "c73cac08-616d-49d2-8adc-2fcf131c13c9",
   "metadata": {},
   "outputs": [
    {
     "name": "stdout",
     "output_type": "stream",
     "text": [
      "Creating an object instance using primary constructor.\n",
      "Primary constructor was called.\n",
      "The car is Mercedes-Benz: C200\n",
      "Creating an object instance using secondary constructor.\n",
      "Primary constructor was called.\n",
      "Secondary constructor was called.\n",
      "The car is Mercedes-Benz: NO MODEL PROVIDED\n"
     ]
    }
   ],
   "source": [
    "// Explaining class constructors\n",
    "\n",
    "// Classes without explicit constructor; Kotlin creates a default constructor for it.\n",
    "class SimpleCar1\n",
    "// or\n",
    "class SimpleCar2 {\n",
    "    val name = \"Simple Car\"\n",
    "}\n",
    "\n",
    "// A Class with a primary constructor\n",
    "class DefaultCar() {\n",
    "    /*\n",
    "    The Primary Constructor Implementation\n",
    "    */\n",
    "}\n",
    "\n",
    "// A Class with a secondary constructor\n",
    "class SecondaryConstructorCar(val name: String, val model: String) { // Primary constructor parameters\n",
    "    /*\n",
    "    Primary Constructor Implementation\n",
    "    */\n",
    "    init {\n",
    "        println(\"Primary constructor was called.\")\n",
    "    }\n",
    "\n",
    "    // Class property initialized\n",
    "    val fullName = \"$name: $model\"\n",
    "\n",
    "    // Secondary constructor\n",
    "    /*\n",
    "    A secondary constructor must call the primary constructor or\n",
    "    another secondary constructor that directly or indirectly calls primary constructor.\n",
    "    We can use: 'constructor ([param1], ...): this([param1], [param2], ...)'\n",
    "    */\n",
    "    constructor (name: String): this(name, \"NO MODEL PROVIDED\") { // 'this()' refers to a constructor\n",
    "        // First, 'this(name, \"NO MODEL PROVIDED\")' is called and then this block will be executed.\n",
    "        /*\n",
    "        Secondary Constructor Implementation\n",
    "        */\n",
    "        println(\"Secondary constructor was called.\")\n",
    "    }\n",
    "}\n",
    "\n",
    "println(\"Creating an object instance using primary constructor.\")\n",
    "val c1 = SecondaryConstructorCar(\"Mercedes-Benz\",\"C200\")\n",
    "println(\"The car is ${c1.fullName}\")\n",
    "\n",
    "println(\"Creating an object instance using secondary constructor.\")\n",
    "val c2 = SecondaryConstructorCar(\"Mercedes-Benz\")\n",
    "println(\"The car is ${c2.fullName}\")"
   ]
  },
  {
   "cell_type": "code",
   "execution_count": 10,
   "id": "5401348a-c75d-41b6-a69a-84d3146664bb",
   "metadata": {},
   "outputs": [
    {
     "name": "stdout",
     "output_type": "stream",
     "text": [
      "Creating an object instance using secondary constructor.\n",
      "Default constructor was called.\n",
      "Secondary constructor was called.\n",
      "The car is Mercedes-Benz: C200\n"
     ]
    }
   ],
   "source": [
    "// A Class that only has a secondary constructor\n",
    "\n",
    "class OnlySecondaryConstructorCar {\n",
    "    /*\n",
    "    Default Constructor Implementation: Primary constructor is not defined.\n",
    "    */\n",
    "    init {\n",
    "        println(\"Default constructor was called.\")\n",
    "    }\n",
    "\n",
    "    // Class property initialized\n",
    "    var fullName = \"\"\n",
    "\n",
    "    // Secondary constructor\n",
    "    /*\n",
    "    No need to explictly call the primary constructor; There is no primary constructor defined.\n",
    "    */\n",
    "    constructor (name: String, model: String) {\n",
    "        // First default constructor is called automatically and then this block will be executed.\n",
    "        /*\n",
    "        Secondary Constructor Implementation\n",
    "        */\n",
    "        this.fullName = \"$name: $model\" // or fullName = \"$name: $model\"\n",
    "        println(\"Secondary constructor was called.\")\n",
    "    }\n",
    "}\n",
    "\n",
    "println(\"Creating an object instance using secondary constructor.\")\n",
    "val c = OnlySecondaryConstructorCar(\"Mercedes-Benz\",\"S500\")\n",
    "println(\"The car is ${c1.fullName}\")"
   ]
  },
  {
   "cell_type": "markdown",
   "id": "44a3fb7f-ffa7-4e9c-ba26-69a940ca0268",
   "metadata": {},
   "source": [
    "## Property Setter and Getters"
   ]
  },
  {
   "cell_type": "code",
   "execution_count": 11,
   "id": "6c3d420a-85aa-4062-9a08-ad95e395f7f5",
   "metadata": {},
   "outputs": [
    {
     "name": "stdout",
     "output_type": "stream",
     "text": [
      "The car is a `BMW`\n"
     ]
    }
   ],
   "source": [
    "// Properties with setter and getter\n",
    "\n",
    "class Car {\n",
    "    /*\n",
    "    Defining a property:\n",
    "    'field' is backing field for the property; DO NOT directly refer to the property in setter and getter. \n",
    "    'set' and 'get' can also be marked with access modifiers like 'private'.\n",
    "    */\n",
    "    var name: String = \"NOT_SPECIFIED\" // Initializing\n",
    "        set(value) { field = value.uppercase() } // Adding a setter for the property; use 'field' to assign the value.\n",
    "        get() { return \"`${field}`\" } // Adding a getter; use 'field' to return the value.\n",
    "}\n",
    "\n",
    "val car = Car()\n",
    "car.name = \"bmw\"\n",
    "val carName = car.name\n",
    "println(\"The car is a ${carName}\")"
   ]
  },
  {
   "cell_type": "markdown",
   "id": "a1da6e27-7f0b-420a-b4a7-a42178b0d386",
   "metadata": {},
   "source": [
    "## Using Backing Properties"
   ]
  },
  {
   "cell_type": "code",
   "execution_count": 12,
   "id": "1b38e144-a8a0-4e97-a8fb-207bb7becc72",
   "metadata": {},
   "outputs": [
    {
     "name": "stdout",
     "output_type": "stream",
     "text": [
      "The car is a `Ferrari`\n"
     ]
    }
   ],
   "source": [
    "// Using private backing properties\n",
    "\n",
    "class Car {\n",
    "    // Defining a private backing property\n",
    "    private var _name: String = \"NOT_SPECIFIED\"\n",
    "    // Defining the public property\n",
    "    val name // Does not need initialisation since it is already initialised by '_name'\n",
    "        get() = \"`$_name`\"\n",
    "\n",
    "    // Adding a public function to set '_name' value; or it can be set internally, in the class logic.\n",
    "    fun setName(carName: String) { _name = carName }\n",
    "}\n",
    "\n",
    "val car = Car()\n",
    "car.setName(\"Ferrari\")\n",
    "val carName = car.name\n",
    "println(\"The car is a ${carName}\")"
   ]
  },
  {
   "cell_type": "code",
   "execution_count": null,
   "id": "f65d0975-2f5b-4b62-8a1a-7e388ce4c8e3",
   "metadata": {},
   "outputs": [],
   "source": []
  }
 ],
 "metadata": {
  "kernelspec": {
   "display_name": "Kotlin",
   "language": "kotlin",
   "name": "kotlin"
  },
  "language_info": {
   "codemirror_mode": "text/x-kotlin",
   "file_extension": ".kt",
   "mimetype": "text/x-kotlin",
   "name": "kotlin",
   "nbconvert_exporter": "",
   "pygments_lexer": "kotlin",
   "version": "1.9.23"
  }
 },
 "nbformat": 4,
 "nbformat_minor": 5
}
