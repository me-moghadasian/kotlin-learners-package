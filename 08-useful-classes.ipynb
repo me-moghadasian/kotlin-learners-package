{
 "cells": [
  {
   "cell_type": "markdown",
   "id": "d368467b-4b9b-4837-9936-a00e3e2b19fa",
   "metadata": {},
   "source": [
    "# An introduction to **Enum**, **Data** and **Sealed** classes\n",
    "\n",
    "- **Enums**, **Data** and **Sealed** classes are introduced."
   ]
  },
  {
   "cell_type": "markdown",
   "id": "081736a2-7cd3-42f7-a46b-bdbecc5b3b19",
   "metadata": {},
   "source": [
    "## Enums\n",
    "\n",
    "- Enums in Kotlin provide a way to define a fixed set of constants that represent different values of a particular type. They are often used to model categorical data or states."
   ]
  },
  {
   "cell_type": "code",
   "execution_count": 1,
   "id": "ecda3746-2b8b-413c-91e9-c53dee006254",
   "metadata": {},
   "outputs": [
    {
     "name": "stdout",
     "output_type": "stream",
     "text": [
      "My car is RED\n",
      "My car is RED\n",
      "My car's color ordinal position is: 0\n",
      "Color enum items: [RED, GREEN, BLUE]\n",
      "Color enum items: [RED, GREEN, BLUE]\n",
      "Your car is GREEN\n"
     ]
    }
   ],
   "source": [
    "// Basic syntax\n",
    "\n",
    "// Defining an enum \n",
    "enum class Color {\n",
    "    RED,\n",
    "    GREEN,\n",
    "    BLUE\n",
    "}\n",
    "\n",
    "// Creating the enum's instance\n",
    "val myCarColor = Color.RED\n",
    "val myCarColorName = myCarColor.name // Gets the name of the enum as a String\n",
    "println(\"My car is ${myCarColor}\")\n",
    "println(\"My car is ${myCarColorName}\")\n",
    "\n",
    "// Getting ordinal position\n",
    "val ordPos = myCarColor.ordinal\n",
    "println(\"My car's color ordinal position is: $ordPos\")\n",
    "\n",
    "// Getting items\n",
    "val enumEntries = Color.entries\n",
    "val enumValues = Color.values() // Retruns Color.values() Array<Color>.\n",
    "println(\"Color enum items: ${enumEntries}\")\n",
    "println(\"Color enum items: ${enumValues.toList()}\")\n",
    "\n",
    "// Creating enum isntance from string\n",
    "try {\n",
    "    val yourCarColor = Color.valueOf(\"GREEN\")\n",
    "    println(\"Your car is ${yourCarColor}\")\n",
    "} catch(e: Exception) {\n",
    "    println(\"Your car's color is not handled\")\n",
    "}\n"
   ]
  },
  {
   "cell_type": "code",
   "execution_count": 2,
   "id": "9bcbbbfe-5f34-4471-bb85-3aa00ea0b5aa",
   "metadata": {},
   "outputs": [
    {
     "name": "stdout",
     "output_type": "stream",
     "text": [
      "My car is red.\n"
     ]
    }
   ],
   "source": [
    "// Using 'When' with 'Enums'\n",
    "\n",
    "enum class Color {\n",
    "    RED,\n",
    "    GREEN,\n",
    "    BLUE\n",
    "}\n",
    "\n",
    "val myCarColor = Color.RED\n",
    "\n",
    "when(myCarColor) {\n",
    "    Color.RED -> println(\"My car is red.\")\n",
    "    Color.BLUE -> println(\"My car is blue.\")\n",
    "    Color.GREEN -> println(\"My car is green.\")\n",
    "}"
   ]
  },
  {
   "cell_type": "code",
   "execution_count": 3,
   "id": "9b6e6746-7fda-41fd-9fbb-9834ebd3a1d7",
   "metadata": {},
   "outputs": [
    {
     "name": "stdout",
     "output_type": "stream",
     "text": [
      "Color is: RED with alpha: 100\n"
     ]
    }
   ],
   "source": [
    "// Adding properties to enum class\n",
    "\n",
    "enum class Color(val alpha: Int) { // Parameters can be added to the class constructor\n",
    "    RED(100), // Paramaters must be initialized\n",
    "    GREEN(250), // Paramaters must be initialized\n",
    "    BLUE(25) // Paramaters must be initialized\n",
    "}\n",
    "\n",
    "val color = Color.RED\n",
    "println(\"Color is: ${color} with alpha: ${color.alpha}\")"
   ]
  },
  {
   "cell_type": "code",
   "execution_count": 4,
   "id": "5fc2118e-9c29-46ac-aca1-600d733ae9e5",
   "metadata": {},
   "outputs": [
    {
     "name": "stdout",
     "output_type": "stream",
     "text": [
      "Description: The chosen is red.\n",
      "Description: The chosen is blue.\n",
      "color 'c' paramter is 0\n",
      "otherColor 'c' paramter is 0\n",
      "color 'c' paramter is 10\n",
      "otherColor 'c' paramter is 0\n"
     ]
    }
   ],
   "source": [
    "// Adding a body to the enum\n",
    "\n",
    "enum class Color(val alpha: Int) { // Parameters can be added to the class constructor\n",
    "    RED(100),\n",
    "    GREEN(250),\n",
    "    BLUE(25); // Use ';' here\n",
    "\n",
    "    var c = 0 // A variable \n",
    "    \n",
    "    // Adding a method\n",
    "    fun desc() {\n",
    "        when(this) {\n",
    "            Color.RED -> println(\"Description: The chosen is red.\")\n",
    "            Color.BLUE -> println(\"Description: The chosen is blue.\")\n",
    "            Color.GREEN -> println(\"Description: The chosen is green.\")\n",
    "        }\n",
    "    }\n",
    "}\n",
    "\n",
    "val color = Color.RED\n",
    "val otherColor = Color.BLUE\n",
    "\n",
    "color.desc()\n",
    "otherColor.desc()\n",
    "println(\"color 'c' paramter is ${color.c}\")\n",
    "println(\"otherColor 'c' paramter is ${otherColor.c}\")\n",
    "\n",
    "// Changing c\n",
    "color.c = 10\n",
    "println(\"color 'c' paramter is ${color.c}\")\n",
    "println(\"otherColor 'c' paramter is ${otherColor.c}\")"
   ]
  },
  {
   "cell_type": "code",
   "execution_count": 5,
   "id": "c10f2320-69e7-4dba-b469-db5f614c3fcf",
   "metadata": {},
   "outputs": [
    {
     "name": "stdout",
     "output_type": "stream",
     "text": [
      "This enum handles: [RED, GREEN, BLUE]\n"
     ]
    }
   ],
   "source": [
    "// Adding a companion object\n",
    "\n",
    "enum class Color(val alpha: Int) { // Parameters can be added to the class constructor\n",
    "    RED(100),\n",
    "    GREEN(250),\n",
    "    BLUE(25); // Use ';' here\n",
    "\n",
    "    companion object {\n",
    "        val TAG = \"SOME_TAG\" // A constant \n",
    "\n",
    "        fun desc() {\n",
    "            println(\"This enum handles: ${Color.entries}\")\n",
    "        }\n",
    "    }\n",
    "}\n",
    "\n",
    "Color.desc()"
   ]
  },
  {
   "cell_type": "markdown",
   "id": "2134de34-2f06-4757-b644-884b4ad61a94",
   "metadata": {},
   "source": [
    "## Data classes\n",
    "\n",
    "- Data classes are a concise way to declare classes that primarily serve as **data holders**. They automatically generate several boilerplate methods, such as `equals`, `hashCode`, `toString`, `copy`, and `componentN` functions."
   ]
  },
  {
   "cell_type": "code",
   "execution_count": 6,
   "id": "1271c863-1d4c-4de1-876e-cd8f8458d1b3",
   "metadata": {},
   "outputs": [
    {
     "name": "stdout",
     "output_type": "stream",
     "text": [
      "The person is: Person(name=Arashk, age=18)\n"
     ]
    }
   ],
   "source": [
    "// Decalring data classes\n",
    "\n",
    "// The keyword 'data class' is used for this purpose\n",
    "data class Person(val name: String, val age: Int)\n",
    "\n",
    "// Creating an instance\n",
    "val someone = Person(\"Arashk\", 18)\n",
    "println(\"The person is: $someone\")"
   ]
  },
  {
   "cell_type": "code",
   "execution_count": 7,
   "id": "9087c6e9-da94-44ad-8ae3-c3fc6e56af52",
   "metadata": {},
   "outputs": [
    {
     "name": "stdout",
     "output_type": "stream",
     "text": [
      "The person is: Person(name=Arashk, age=18)\n",
      "arashk and pacino are the same persons.\n",
      "pacino2 and pacino are the same persons.\n",
      "Older arashk: Person(name=Arashk, age=32)\n"
     ]
    }
   ],
   "source": [
    "// Equality and Copy\n",
    "\n",
    "data class Person(val name: String, val age: Int)\n",
    "\n",
    "// Creating an instance\n",
    "val arashk = Person(\"Arashk\", 18)\n",
    "println(\"The person is: $arashk\")\n",
    "\n",
    "// Equality comparison\n",
    "val pacino = Person(\"Arashk\", 18)\n",
    "val pacino2 = pacino\n",
    "if (arashk == pacino) println(\"arashk and pacino are the same persons.\")\n",
    "if (pacino2 == pacino) println(\"pacino2 and pacino are the same persons.\")\n",
    "\n",
    "// Copy\n",
    "val olderArashk = arashk.copy(\n",
    "    age = 32\n",
    ")\n",
    "println(\"Older arashk: $olderArashk\")"
   ]
  },
  {
   "cell_type": "code",
   "execution_count": 8,
   "id": "4e9046d0-7956-4c37-9af3-633139c9f84b",
   "metadata": {},
   "outputs": [
    {
     "name": "stdout",
     "output_type": "stream",
     "text": [
      "Person with name Arashk and age 18.\n"
     ]
    }
   ],
   "source": [
    "// Adding body to data classes\n",
    "\n",
    "data class Person(val name: String, val age: Int) {\n",
    "    fun desc() {\n",
    "        println(\"Person with name $name and age $age.\")\n",
    "    }\n",
    "}\n",
    "\n",
    "val arashk = Person(\"Arashk\", 18)\n",
    "arashk.desc()"
   ]
  },
  {
   "cell_type": "markdown",
   "id": "59137592-d96b-4846-8f26-35282398bfb7",
   "metadata": {},
   "source": [
    "## Sealed classes\n",
    "\n",
    "- Sealed classes are a special type of class that restrict the subclasses to a fixed set defined within the same file. This helps in creating more controlled and predictable hierarchies, especially when dealing with state machines or discriminated unions.\n",
    "- Sealed classes are very useful when used with `when` structure."
   ]
  },
  {
   "cell_type": "code",
   "execution_count": 10,
   "id": "73cf8f70-87f8-4356-a533-23198497d8c1",
   "metadata": {},
   "outputs": [
    {
     "name": "stdout",
     "output_type": "stream",
     "text": [
      "Shape is circle with radius 12.0\n",
      "Shape is rectangle with width 10.0 and height 5.0\n"
     ]
    }
   ],
   "source": [
    "// Declaring sealed classes\n",
    "\n",
    "// To create a sealed class, 'sealed' keyword is used.\n",
    "sealed class Shape {\n",
    "    class Circle(val radius: Double) : Shape() // Superclass constructor must be called\n",
    "    class Rectangle(val width: Double, val height: Double) : Shape() // Superclass constructor must be called\n",
    "    class Triangle(val base: Double, val height: Double) : Shape() // Superclass constructor must be called   \n",
    "}\n",
    "\n",
    "val shape = Shape.Circle(12.0)\n",
    "\n",
    "// Combining with 'when'\n",
    "val anotherShape1: Shape = Shape.Circle(12.0)\n",
    "when (anotherShape1) {\n",
    "    is Shape.Circle -> println(\"Shape is circle with radius ${anotherShape1.radius}\")\n",
    "    is Shape.Rectangle -> println(\"Shape is rectangle with width ${anotherShape1.width} and height ${anotherShape1.height}\")\n",
    "    is Shape.Triangle -> println(\"Shape is Triangle wtih base ${anotherShape1.base} and height ${anotherShape1.height}\")\n",
    "}\n",
    "\n",
    "val anotherShape2: Shape = Shape.Rectangle(10.0, 5.0)\n",
    "when (anotherShape2) {\n",
    "    is Shape.Circle -> println(\"Shape is circle with radius ${anotherShape2.radius}\")\n",
    "    is Shape.Rectangle -> println(\"Shape is rectangle with width ${anotherShape2.width} and height ${anotherShape2.height}\")\n",
    "    is Shape.Triangle -> println(\"Shape is Triangle wtih base ${anotherShape2.base} and height ${anotherShape2.height}\")\n",
    "}"
   ]
  },
  {
   "cell_type": "code",
   "execution_count": 17,
   "id": "0d1ace2c-a5ee-4ef7-a958-fdadb285fe32",
   "metadata": {},
   "outputs": [
    {
     "name": "stdout",
     "output_type": "stream",
     "text": [
      "...Successful..\n",
      "The api response data is: 10\n"
     ]
    }
   ],
   "source": [
    "// A more complex implemenation of a generic sealed class combined with enum\n",
    "// In later sections, generics will be introduced.\n",
    "\n",
    "// Use this structure in your code to better organise your projects.\n",
    "\n",
    "/**\n",
    " * The class **Envelope** is used to encapsulate APIs responses.\n",
    " *\n",
    " * This handled Success and Error results from and API call.\n",
    " * @param T the success returned object extension.\n",
    " * @property data In case of success, data contains an object of extension [T].\n",
    " * @property tag In case of failure, a specific tag should be specified with regard to [Tag] enum.\n",
    " * @property message carries failure message.\n",
    " */\n",
    "sealed class Envelope<T>(\n",
    "    val progress: Int = -2,\n",
    "    val data: T? = null,\n",
    "    val tag: Tag = Tag.NONE,\n",
    "    val message: String? = null,\n",
    ") {\n",
    "\n",
    "    // We'll wrap our data in this 'Success'\n",
    "    // class in case of success response from api\n",
    "    class Success<T>(data: T) :\n",
    "        Envelope<T>(progress = 100, data = data, tag = Tag.NONE, null)\n",
    "\n",
    "    // We'll pass error message wrapped in this 'Error'\n",
    "    // class in case of failure response\n",
    "    class Error<T>(tag: Tag, message: String?, data: T? = null) :\n",
    "        Envelope<T>(progress = -100, data = data, tag = tag, message = message)\n",
    "\n",
    "    // We'll just pass object of this Loading\n",
    "    // class, when initiating or loading data\n",
    "    class Loading<T>(progress: Int, data: T? = null) :\n",
    "        Envelope<T>(progress = progress, data = data, tag = Tag.NONE, null)\n",
    "\n",
    "    enum class Tag {\n",
    "        NONE, // No error\n",
    "        GENERAL, // Ignored error\n",
    "        UNKNOWN, // Unknown error\n",
    "\n",
    "        CANCELLED,\n",
    "        INVALID_USER,\n",
    "        CONNECTION,\n",
    "        TIMEOUT,\n",
    "\n",
    "        FILE_NOT_FOUND,\n",
    "        INCONSISTENT_SETTING,\n",
    "\n",
    "        DATABASE, // General database error\n",
    "    }\n",
    "}\n",
    "\n",
    "val response: Envelope<Int> = Envelope.Success(10)\n",
    "when (response) {\n",
    "    is Envelope.Loading -> println(\"...Failed...\")\n",
    "    is Envelope.Error -> println(\"...Loading...\")\n",
    "    is Envelope.Success -> println(\"...Successful..\")\n",
    "}\n",
    "println(\"The api response data is: ${response.data}\")"
   ]
  },
  {
   "cell_type": "code",
   "execution_count": null,
   "id": "14eb04bc-dc96-4c1b-8518-41f4d988e993",
   "metadata": {},
   "outputs": [],
   "source": []
  }
 ],
 "metadata": {
  "kernelspec": {
   "display_name": "Kotlin",
   "language": "kotlin",
   "name": "kotlin"
  },
  "language_info": {
   "codemirror_mode": "text/x-kotlin",
   "file_extension": ".kt",
   "mimetype": "text/x-kotlin",
   "name": "kotlin",
   "nbconvert_exporter": "",
   "pygments_lexer": "kotlin",
   "version": "1.9.23"
  }
 },
 "nbformat": 4,
 "nbformat_minor": 5
}
