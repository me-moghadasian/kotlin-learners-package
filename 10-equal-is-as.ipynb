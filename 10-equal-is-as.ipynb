{
 "cells": [
  {
   "cell_type": "markdown",
   "id": "3bcb9ce4-d1d0-4f52-818d-ff6f85a821a0",
   "metadata": {},
   "source": [
    "# Investigating **Equality**, **is** and **as**"
   ]
  },
  {
   "cell_type": "markdown",
   "id": "e677ed56-e9a9-4f93-81f3-b8fe03604da8",
   "metadata": {},
   "source": [
    "## About **is** and **as** considering inheritance"
   ]
  },
  {
   "cell_type": "code",
   "execution_count": 1,
   "id": "9e42fb27-f4a3-4ae7-beef-1eb1b8ff2d4f",
   "metadata": {},
   "outputs": [
    {
     "name": "stdout",
     "output_type": "stream",
     "text": [
      "`cat` is a Cat\n",
      "`cat` is also an Animal\n"
     ]
    }
   ],
   "source": [
    "// Investigating 'is'\n",
    "\n",
    "open class Animal\n",
    "class Cat: Animal()\n",
    "class Dog: Animal()\n",
    "\n",
    "// Declaring some instances\n",
    "val anim = Animal()\n",
    "val cat = Cat()\n",
    "val anotherCat = Cat()\n",
    "val dog = Dog()\n",
    "\n",
    "// Checking 'is' results\n",
    "if (cat is Cat) println(\"`cat` is a Cat\")\n",
    "if (cat is Animal) println(\"`cat` is also an Animal\")\n",
    "// if (cat !is Dog) println(\"`cat` is not a Dog\")  // throws incompatible types exception because these two are not related"
   ]
  },
  {
   "cell_type": "markdown",
   "id": "1e34553a-0841-4a18-8e67-0c8dec8d143b",
   "metadata": {},
   "source": [
    "# **Still working on it...**"
   ]
  },
  {
   "cell_type": "code",
   "execution_count": null,
   "id": "99dcc317-d7e8-49ff-bfc8-41b9fae165b0",
   "metadata": {},
   "outputs": [],
   "source": []
  }
 ],
 "metadata": {
  "kernelspec": {
   "display_name": "Kotlin",
   "language": "kotlin",
   "name": "kotlin"
  },
  "language_info": {
   "codemirror_mode": "text/x-kotlin",
   "file_extension": ".kt",
   "mimetype": "text/x-kotlin",
   "name": "kotlin",
   "nbconvert_exporter": "",
   "pygments_lexer": "kotlin",
   "version": "1.9.23"
  }
 },
 "nbformat": 4,
 "nbformat_minor": 5
}
