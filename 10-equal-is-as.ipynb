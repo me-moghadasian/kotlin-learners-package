{
 "cells": [
  {
   "cell_type": "markdown",
   "id": "3bcb9ce4-d1d0-4f52-818d-ff6f85a821a0",
   "metadata": {},
   "source": [
    "# Investigating **Equality**, **is** and **as**"
   ]
  },
  {
   "cell_type": "markdown",
   "id": "e677ed56-e9a9-4f93-81f3-b8fe03604da8",
   "metadata": {},
   "source": [
    "## Another aspect of **polymorphism**: `is`, `as` and inheritance\n",
    "\n",
    "- The `is` operator is used to check if an object is of a specific type. This is particularly useful when you're working with inheritance, and you need to determine whether an object belongs to a subclass, superclass, or an interface.\n",
    "- The `is` and `!is` operators don't perform any kind of direct type conversion or type incompatibility check between two unrelated types (like Cat and Dog), but just check whether the object is of a certain type in its inheritance hierarchy."
   ]
  },
  {
   "cell_type": "code",
   "execution_count": 2,
   "id": "9e42fb27-f4a3-4ae7-beef-1eb1b8ff2d4f",
   "metadata": {},
   "outputs": [
    {
     "name": "stdout",
     "output_type": "stream",
     "text": [
      "`cat` is a Cat\n",
      "`cat` is also an Animal\n"
     ]
    }
   ],
   "source": [
    "// Investigating 'is'\n",
    "\n",
    "open class Animal\n",
    "class Cat: Animal()\n",
    "class Dog: Animal()\n",
    "\n",
    "// Declaring some instances\n",
    "val anim = Animal()\n",
    "val cat = Cat()\n",
    "val anotherCat = Cat()\n",
    "val dog = Dog()\n",
    "\n",
    "// Checking 'is' results\n",
    "if (cat is Cat) println(\"`cat` is a Cat\")\n",
    "if (cat is Animal) println(\"`cat` is also an Animal\")\n",
    "// if (cat !is Dog) println(\"`cat` is not a Dog\")  // throws compile-time incompatible types error because these two are not related"
   ]
  },
  {
   "cell_type": "code",
   "execution_count": 24,
   "id": "e9377cb2-df2f-44f6-b8d9-7671a93d4410",
   "metadata": {},
   "outputs": [
    {
     "name": "stdout",
     "output_type": "stream",
     "text": [
      "`anim` is a Cat\n",
      "`anim` is also an Animal\n",
      "`anim` is not a Dog\n",
      "Meow level is 1\n",
      "`originalAnim` is not a Cat\n",
      "`originalAnim` is just an Animal\n",
      "`originalAnim` is not a Dog\n"
     ]
    }
   ],
   "source": [
    "// Investigating 'is' along with 'as' in more complicated situation\n",
    "\n",
    "// Let's define classes\n",
    "open class Animal(val name: String)\n",
    "class Cat(name: String, val bread: String, val meowLevel: Int = 0) : Animal(name) {\n",
    "    \n",
    "}\n",
    "class Dog(name: String, val bread : String, val barkLevel: Int = 0) : Animal(name) {\n",
    "}\n",
    "\n",
    "// Declaring an Animal instance using Cat\n",
    "val anim: Animal = Cat(\"Teddy\", \"Persian\", 1)\n",
    "//println(\"Meow level is ${anim.meowLevel}\") // Throws error since anim does not have 'meowLevel' property\n",
    "\n",
    "if (anim is Cat) println(\"`anim` is a Cat\")\n",
    "if (anim is Animal) println(\"`anim` is also an Animal\")\n",
    "if (anim !is Dog) println(\"`anim` is not a Dog\")\n",
    "\n",
    "// The instance 'anim' preserves 'Cat' specs. so it should have 'meowLevel'.\n",
    "// But is should be casted bac to 'Cat'.\n",
    "val cat = anim as? Cat\n",
    "cat?.let { c ->\n",
    "    println(\"Meow level is ${c.meowLevel}\")\n",
    "}\n",
    "\n",
    "// But superclass instance cannot be subclass equivalent\n",
    "// Declaring an animal instance using Animal\n",
    "val originalAnim: Animal = Animal(\"Casper\")\n",
    "if (originalAnim !is Cat) println(\"`originalAnim` is not a Cat\")\n",
    "if (originalAnim is Animal) println(\"`originalAnim` is just an Animal\")\n",
    "if (originalAnim !is Dog) println(\"`originalAnim` is not a Dog\")"
   ]
  },
  {
   "cell_type": "code",
   "execution_count": 22,
   "id": "863ce98e-5529-4a19-b5f0-ee8a16545222",
   "metadata": {},
   "outputs": [
    {
     "name": "stdout",
     "output_type": "stream",
     "text": [
      "`catBacksAsCat` is a Cat\n",
      "`catBacksAsCat` is also an Animal\n",
      "Meow level is 1\n"
     ]
    }
   ],
   "source": [
    "// Conversion preservation\n",
    "\n",
    "// Let's define classes\n",
    "open class Animal(val name: String)\n",
    "class Cat(name: String, val bread: String, val meowLevel: Int = 0) : Animal(name) {\n",
    "    \n",
    "}\n",
    "class Dog(name: String, val bread : String, val barkLevel: Int = 0) : Animal(name) {\n",
    "}\n",
    "\n",
    "// Declaring a Cat instance using Cat\n",
    "val cat: Cat = Cat(\"Teddy\", \"Persian\", 1)\n",
    "val anim: Animal = cat as Animal\n",
    "val catBacksAsCat: Cat = anim as Cat\n",
    "\n",
    "if (catBacksAsCat is Cat) println(\"`catBacksAsCat` is a Cat\")\n",
    "if (catBacksAsCat is Animal) println(\"`catBacksAsCat` is also an Animal\")\n",
    "\n",
    "println(\"Meow level is ${catBacksAsCat.meowLevel}\")"
   ]
  },
  {
   "cell_type": "markdown",
   "id": "1e34553a-0841-4a18-8e67-0c8dec8d143b",
   "metadata": {},
   "source": [
    "# Equality: `==` and `===`\n",
    "\n",
    " - `==` operator (Structural Equality):\n",
    "\n",
    "    * Compares the values of two objects.\n",
    "    * For primitive types (e.g., `Int`, `Double`, `Boolean`), `==` directly compares their values.\n",
    "    * For non-primitive types (e.g., objects), `==` usually calls the `equals()` method of the left-hand operand to determine equality.\n",
    "    * By default, `==` in Kotlin uses the `equals()` method to check for **structural equality**. But in a regular class (not a **data class**), the default `equals()` method from `Any` is used, which **checks for referential equality** (i.e., whether both objects are the same instance).\n",
    "\n",
    "- `===` operator (Referential Equality):\n",
    "\n",
    "    * Compares the references of two objects.\n",
    "    * Returns true only if the two objects are exactly the same object (same reference).\n",
    "    * It's primarily used for identity checks, such as determining if two variables refer to the same instance of an object.\n",
    "      \n",
    "      \n",
    "- Key differences:\n",
    "\n",
    "    * `==` compares values, while `===` compares references.\n",
    "    * `==` is often used for general equality checks, while `===` is used for identity checks.\n",
    "    * `==` can be customized by overriding the `equals()` method, while `===` is always based on object references."
   ]
  },
  {
   "cell_type": "code",
   "execution_count": 18,
   "id": "99dcc317-d7e8-49ff-bfc8-41b9fae165b0",
   "metadata": {},
   "outputs": [
    {
     "name": "stdout",
     "output_type": "stream",
     "text": [
      "'pet1' and 'pet2' do not refer to the same reference.\n",
      "'pet1' and 'pet4' are the same.\n",
      "'pet1' and 'pet2' do not refer to the same reference.\n",
      "'pet1' and 'pet4' are the same.\n"
     ]
    }
   ],
   "source": [
    "// Checking equalities with regular classes\n",
    "\n",
    "class Animal(val name: String)\n",
    "\n",
    "// Declaring some animals\n",
    "val pet1 = Animal(\"Chicco\")\n",
    "val pet2 = Animal(\"Chicco\")\n",
    "val pet3 = pet1\n",
    "\n",
    "\n",
    "// Checking\n",
    "if (pet1 == pet2) println(\"'pet1' and 'pet2' are the same.\") else println(\"'pet1' and 'pet2' do not refer to the same reference.\")\n",
    "if (pet1 == pet3) println(\"'pet1' and 'pet3' are the same.\") else println(\"'pet1' and 'pet3' do not refer to the same reference.\")\n",
    "\n",
    "if (pet1 === pet2) println(\"'pet1' and 'pet2' are the same.\") else println(\"'pet1' and 'pet2' do not refer to the same reference.\")\n",
    "if (pet1 === pet3) println(\"'pet1' and 'pet3' are the same.\") else println(\"'pet1' and 'pet3' do not refer to the same reference.\")"
   ]
  },
  {
   "cell_type": "code",
   "execution_count": 19,
   "id": "014f14cf-9d86-4f73-9de5-efe29cb00104",
   "metadata": {},
   "outputs": [
    {
     "name": "stdout",
     "output_type": "stream",
     "text": [
      "'pet1' and 'pet2' are the same.\n",
      "'pet1' and 'pet3' are the same.\n",
      "'pet1' and 'pet2' do not refer to the same reference.\n",
      "'pet1' and 'pet3' are the same.\n"
     ]
    }
   ],
   "source": [
    "// Checking equalities with data classes\n",
    "\n",
    "data class Animal(val name: String)\n",
    "\n",
    "// Declaring some animals\n",
    "val pet1 = Animal(\"Chicco\")\n",
    "val pet2 = Animal(\"Chicco\")\n",
    "val pet3 = pet1\n",
    "\n",
    "\n",
    "// Checking\n",
    "if (pet1 == pet2) println(\"'pet1' and 'pet2' are the same.\") else println(\"'pet1' and 'pet2' do not refer to the same reference.\")\n",
    "if (pet1 == pet3) println(\"'pet1' and 'pet3' are the same.\") else println(\"'pet1' and 'pet3' do not refer to the same reference.\")\n",
    "\n",
    "if (pet1 === pet2) println(\"'pet1' and 'pet2' are the same.\") else println(\"'pet1' and 'pet2' do not refer to the same reference.\")\n",
    "if (pet1 === pet3) println(\"'pet1' and 'pet3' are the same.\") else println(\"'pet1' and 'pet3' do not refer to the same reference.\")"
   ]
  },
  {
   "cell_type": "code",
   "execution_count": null,
   "id": "b6dc9fd6-f0f8-4f8c-aea4-ac362dc69805",
   "metadata": {},
   "outputs": [],
   "source": []
  }
 ],
 "metadata": {
  "kernelspec": {
   "display_name": "Kotlin",
   "language": "kotlin",
   "name": "kotlin"
  },
  "language_info": {
   "codemirror_mode": "text/x-kotlin",
   "file_extension": ".kt",
   "mimetype": "text/x-kotlin",
   "name": "kotlin",
   "nbconvert_exporter": "",
   "pygments_lexer": "kotlin",
   "version": "1.9.23"
  }
 },
 "nbformat": 4,
 "nbformat_minor": 5
}
