{
 "cells": [
  {
   "cell_type": "markdown",
   "id": "ec5e1d53-e615-4fb7-aa22-89779e33e7cf",
   "metadata": {},
   "source": [
    "# A Brief Introduction: Reading and Writing Files\n",
    "\n",
    "- **Coroutine-friendly** files reading and writing are briefly introduces. "
   ]
  },
  {
   "cell_type": "code",
   "execution_count": 1,
   "id": "12ea6a81-acfb-4d84-b4ef-6228ac066a39",
   "metadata": {},
   "outputs": [],
   "source": [
    "@file:DependsOn(\"org.jetbrains.kotlinx:kotlinx-coroutines-core:1.5.2\")\n",
    "import kotlinx.coroutines.*\n",
    "import kotlin.coroutines.CoroutineContext\n",
    "import java.io.File\n",
    "import java.io.IOException\n",
    "import java.io.FileInputStream\n",
    "import java.io.FileOutputStream\n",
    "import java.io.ByteArrayOutputStream"
   ]
  },
  {
   "cell_type": "markdown",
   "id": "c5abf0d1-80ef-4e57-9f09-d3625f8d11eb",
   "metadata": {},
   "source": [
    "## Getting File Full Absolute Path"
   ]
  },
  {
   "cell_type": "code",
   "execution_count": 2,
   "id": "11297d5b-7c14-4b12-91b2-b65e7c9e1318",
   "metadata": {},
   "outputs": [],
   "source": [
    "// Creating a function to get a file's full absolute path in the working dir.\n",
    "\n",
    "fun buildWDPath(folderName: String, fileName: String): String {\n",
    "    // Use File.separator to concatenate the folder and file names\n",
    "    return \".${File.separator}$folderName${File.separator}$fileName\"\n",
    "}"
   ]
  },
  {
   "cell_type": "markdown",
   "id": "fc23825f-1bce-4c19-9a6c-28f5fb441934",
   "metadata": {},
   "source": [
    "## Reading and Writing Text Files"
   ]
  },
  {
   "cell_type": "code",
   "execution_count": 3,
   "id": "6e2a6e38-fb9a-48db-be94-acb804630d1e",
   "metadata": {},
   "outputs": [],
   "source": [
    "// Preparing read and write functions\n",
    "\n",
    "suspend fun writeTextFile(filePath: String, content: String): Boolean {\n",
    "    return withContext(Dispatchers.IO) { // Switch to the I/O dispatcher\n",
    "        try {\n",
    "            // Write the provided content to the specified file\n",
    "            File(filePath).writeText(content) // Writes a text\n",
    "            println(\"Text data written successfully!\") // Confirmation message\n",
    "            true // Return true to indicate success\n",
    "        } catch (e: IOException) {\n",
    "            // Handle file write errors\n",
    "            println(\"Error writing to file: ${e.message}\") // Error message\n",
    "            false // Return false to indicate failure\n",
    "        }\n",
    "    }\n",
    "}\n",
    "\n",
    "// Function to append text content to a file using coroutines\n",
    "suspend fun appendTextFile(filePath: String, content: String): Boolean {\n",
    "    return withContext(Dispatchers.IO) { // Switch to the I/O dispatcher\n",
    "        try {\n",
    "            // Append the provided content to the specified file\n",
    "            File(filePath).appendText(content) // Appends a text\n",
    "            println(\"Text data appended successfully!\") // Confirmation message\n",
    "            true // Return true to indicate success\n",
    "        } catch (e: IOException) {\n",
    "            // Handle file write errors\n",
    "            println(\"Error writing to file: ${e.message}\") // Error message\n",
    "            false // Return false to indicate failure\n",
    "        }\n",
    "    }\n",
    "}\n",
    "\n",
    "// Function to read text content from a file using coroutines\n",
    "suspend fun readTextFile(filePath: String): String? {\n",
    "    return withContext(Dispatchers.IO) { // Switch to the I/O dispatcher\n",
    "        try {\n",
    "            // Read the entire content of the file as text\n",
    "            val content = File(filePath).readText() // Reads as text\n",
    "            println(\"Text data read successfully!\") // Confirmation message\n",
    "            content // Return the read content\n",
    "        } catch (e: IOException) {\n",
    "            // Handle file read errors\n",
    "            println(\"Error reading file: ${e.message}\") // Error message\n",
    "            null // Return null in case of an error\n",
    "        }\n",
    "    }\n",
    "}"
   ]
  },
  {
   "cell_type": "code",
   "execution_count": 4,
   "id": "253d3b9e-6fed-4b88-87d1-76cf37438d72",
   "metadata": {},
   "outputs": [
    {
     "name": "stdout",
     "output_type": "stream",
     "text": [
      "Text data written successfully!\n",
      "Text data appended successfully!\n"
     ]
    },
    {
     "data": {
      "text/plain": [
       "true"
      ]
     },
     "execution_count": 4,
     "metadata": {},
     "output_type": "execute_result"
    }
   ],
   "source": [
    "// Writing and appending to a text file\n",
    "\n",
    "fun main() = runBlocking {\n",
    "    val folderName = \"files\"\n",
    "    val fileName = \"write-read-text.txt\"\n",
    "    val filePath = buildWDPath(folderName, fileName)\n",
    "    val message = \"Hello World: Text\"\n",
    "\n",
    "    // Writing \n",
    "    writeTextFile(filePath, message) // Does not append but replaces existing file or create a new file\n",
    "    // Appending \n",
    "    appendTextFile(filePath, \"\\n\" + message) // Appends to existing file\n",
    "}\n",
    "\n",
    "main()"
   ]
  },
  {
   "cell_type": "code",
   "execution_count": 5,
   "id": "4d9644dc-9ee8-4425-ac22-cf8f2ec92f52",
   "metadata": {},
   "outputs": [
    {
     "name": "stdout",
     "output_type": "stream",
     "text": [
      "Text data read successfully!\n",
      "Hello World: Text\n",
      "Hello World: Text\n"
     ]
    }
   ],
   "source": [
    "// Reading a text file\n",
    "fun main() = runBlocking {\n",
    "    val folderName = \"files\"\n",
    "    val fileName = \"write-read-text.txt\"\n",
    "    val filePath = buildWDPath(folderName, fileName)\n",
    "\n",
    "    val output = readTextFile(filePath)\n",
    "    println(output)\n",
    "}\n",
    "\n",
    "main()"
   ]
  },
  {
   "cell_type": "code",
   "execution_count": 6,
   "id": "99580ce3-6e79-4fae-9cf9-e53596bf0ac9",
   "metadata": {},
   "outputs": [
    {
     "name": "stdout",
     "output_type": "stream",
     "text": [
      "File .\\files\\write-read-text.txt was removed.\n"
     ]
    }
   ],
   "source": [
    "// Removing the file\n",
    "\n",
    "fun main() = runBlocking {\n",
    "    val folderName = \"files\"\n",
    "    val fileName = \"write-read-text.txt\"\n",
    "    val filePath = buildWDPath(folderName, fileName)\n",
    "    \n",
    "    withContext(Dispatchers.IO) {\n",
    "        try {\n",
    "            File(filePath).delete()\n",
    "            println(\"File ${filePath} was removed.\")\n",
    "        } catch (e: IOException) {\n",
    "            println(\"Error removing file: ${e.message}\")\n",
    "        }\n",
    "    }\n",
    "}\n",
    "\n",
    "main()"
   ]
  },
  {
   "cell_type": "markdown",
   "id": "fc158977-fb04-4e1e-85f4-8e6715a44f34",
   "metadata": {},
   "source": [
    "## Reading and Writing Binary Files"
   ]
  },
  {
   "cell_type": "code",
   "execution_count": 7,
   "id": "a8a1259e-c2c6-4135-9569-6e682fcd9c67",
   "metadata": {},
   "outputs": [],
   "source": [
    "// Preparing the function to read and write binary files\n",
    "\n",
    "// Function to write binary data to a file using coroutines\n",
    "suspend fun writeBinaryFile(filePath: String, binaryData: ByteArray): Boolean {\n",
    "    return withContext(Dispatchers.IO) { // Switch to the I/O dispatcher\n",
    "        try {\n",
    "            // Write binary data (ByteArray) directly to the file\n",
    "            File(filePath).writeBytes(binaryData) // Writes binary data\n",
    "            println(\"Binary data written successfully!\") // Confirmation message\n",
    "            true // Return true to indicate success\n",
    "        } catch (e: IOException) {\n",
    "            // Handle any I/O errors during writing\n",
    "            println(\"Error writing binary data to file: ${e.message}\") // Error message\n",
    "            false // Return false to indicate failure\n",
    "        }\n",
    "    }\n",
    "}\n",
    "\n",
    "// Function to read binary data from a file using coroutines\n",
    "suspend fun readBinaryFile(filePath: String): ByteArray? {\n",
    "    return withContext(Dispatchers.IO) { // Switch to the I/O dispatcher\n",
    "        try {\n",
    "            // Read binary data (ByteArray) from the file\n",
    "            val data = File(filePath).readBytes() // Reads binary data\n",
    "            println(\"Binary data read successfully!\") // Confirmation message\n",
    "            data // Return the read binary data\n",
    "        } catch (e: IOException) {\n",
    "            // Handle any I/O errors during reading\n",
    "            println(\"Error reading binary data from file: ${e.message}\") // Error message\n",
    "            null // Return null in case of an error\n",
    "        }\n",
    "    }\n",
    "}\n"
   ]
  },
  {
   "cell_type": "code",
   "execution_count": 8,
   "id": "046dbd43-584a-446a-b46d-01a7d88ee97f",
   "metadata": {},
   "outputs": [
    {
     "name": "stdout",
     "output_type": "stream",
     "text": [
      "Binary data written successfully!\n"
     ]
    },
    {
     "data": {
      "text/plain": [
       "true"
      ]
     },
     "execution_count": 8,
     "metadata": {},
     "output_type": "execute_result"
    }
   ],
   "source": [
    "// Writing data to file\n",
    "\n",
    "fun main() = runBlocking {\n",
    "    val folderName = \"files\"\n",
    "    val fileName = \"write-read-binary\"\n",
    "    val filePath = buildWDPath(folderName, fileName)\n",
    "    val message = \"Hello World: Binary\"\n",
    "    val binaryData = message.toByteArray(Charsets.UTF_8)\n",
    "\n",
    "    // Writing \"Hello World: Binary\" as binary data\n",
    "    writeBinaryFile(filePath, binaryData) \n",
    "}\n",
    "\n",
    "main()"
   ]
  },
  {
   "cell_type": "code",
   "execution_count": 9,
   "id": "ceb140fe-8995-4005-a2bf-ab04c14704b5",
   "metadata": {},
   "outputs": [
    {
     "name": "stdout",
     "output_type": "stream",
     "text": [
      "Binary data read successfully!\n",
      "Hello World: Binary\n"
     ]
    }
   ],
   "source": [
    "// Reading a binary file\n",
    "\n",
    "fun main() = runBlocking {\n",
    "    val folderName = \"files\"\n",
    "    val fileName = \"write-read-binary\"\n",
    "    val filePath = buildWDPath(folderName, fileName)\n",
    "    \n",
    "    val output = readBinaryFile(filePath)\n",
    "    output?.let { it ->\n",
    "        // Convert binary data back to text using UTF-8 encoding\n",
    "        // We already know data is UTF_8 text\n",
    "        val textRead = String(it, Charsets.UTF_8)\n",
    "        println(textRead)\n",
    "    }\n",
    "}\n",
    "\n",
    "main()"
   ]
  },
  {
   "cell_type": "code",
   "execution_count": 10,
   "id": "824225fe-7f82-45fb-b239-8945abb78252",
   "metadata": {},
   "outputs": [
    {
     "name": "stdout",
     "output_type": "stream",
     "text": [
      "File .\\files\\write-read-binary was removed.\n"
     ]
    }
   ],
   "source": [
    "// Removing the file\n",
    "\n",
    "fun main() = runBlocking {\n",
    "    val folderName = \"files\"\n",
    "    val fileName = \"write-read-binary\"\n",
    "    val filePath = buildWDPath(folderName, fileName)\n",
    "    \n",
    "    withContext(Dispatchers.IO) {\n",
    "        try {\n",
    "            File(filePath).delete()\n",
    "            println(\"File ${filePath} was removed.\")\n",
    "        } catch (e: IOException) {\n",
    "            println(\"Error removing file: ${e.message}\")\n",
    "        }\n",
    "    }\n",
    "}\n",
    "\n",
    "main()"
   ]
  },
  {
   "cell_type": "markdown",
   "id": "05e93b62-4655-432b-9abe-2c991c1fa121",
   "metadata": {},
   "source": [
    "## Reading and Writing Files by Streams"
   ]
  },
  {
   "cell_type": "code",
   "execution_count": 11,
   "id": "eff6cbdf-ec2a-48a1-ab5c-1d146c48844a",
   "metadata": {},
   "outputs": [],
   "source": [
    "// Preparing read and write by streaming functions \n",
    "\n",
    "// Function to read file with streaming using a buffer\n",
    "suspend fun readBinaryFileWithStreaming(filePath: String): ByteArray? {\n",
    "    // Switch to the IO dispatcher for executing blocking I/O operations\n",
    "    return withContext(Dispatchers.IO) {\n",
    "        // Initialize a buffer of 1024 bytes (1 KB) to temporarily hold data read from the file\n",
    "        val buffer = ByteArray(1024)\n",
    "\n",
    "        // Create a ByteArrayOutputStream to collect all read bytes into a single array\n",
    "        val outputStream = ByteArrayOutputStream()\n",
    "\n",
    "        try {\n",
    "            // Open a FileInputStream to read the specified file\n",
    "            FileInputStream(File(filePath)).use { inputStream -> // 'use' automatically closes the stream.\n",
    "                /* \n",
    "                The use function is a Kotlin extension function that is called on the AutoCloseable\n",
    "                object (in this case, FileInputStream). \n",
    "                It takes a lambda expression as its argument and ensures that the resource \n",
    "                is closed automatically when the block of code is exited, \n",
    "                whether it exits normally or due to an exception.\n",
    "                */\n",
    "                var bytesRead: Int // Variable to track the number of bytes read in each iteration\n",
    "\n",
    "                // Continuously read data into the buffer until the end of the file is reached\n",
    "                while (\n",
    "                    inputStream.read(buffer).also { it -> // Read bytes into the buffer\n",
    "                        bytesRead = it // Store the number of bytes read\n",
    "                    } != -1 // Continue looping until -1 is returned (end of file)\n",
    "                ) {\n",
    "                    // Write the bytes read into the ByteArrayOutputStream\n",
    "                    outputStream.write(buffer, 0, bytesRead) // Write only the number of bytes read\n",
    "                }\n",
    "            } // The inputStream is automatically closed after this block due to 'use'\n",
    "\n",
    "            // Convert the collected bytes from the output stream to a ByteArray and return it\n",
    "            outputStream.toByteArray()\n",
    "            /*\n",
    "            The ByteArrayOutputStream class is designed to write data to a byte array in memory. \n",
    "            It does not hold any system resources like file descriptors, \n",
    "            so closing it is not strictly necessary.\n",
    "            */\n",
    "        } catch (e: IOException) { // Catch any IOException that may occur\n",
    "            // Print an error message if reading the file fails\n",
    "            println(\"Error reading file: ${e.message}\")\n",
    "            // Return null to indicate that an error occurred during the read operation\n",
    "            null\n",
    "        }\n",
    "    }\n",
    "}\n",
    "\n",
    "// Function to write content to a file using streaming\n",
    "suspend fun writeBinaryFileWithStreaming(filePath: String, content: ByteArray): Boolean {\n",
    "    return withContext(Dispatchers.IO) {\n",
    "        try {\n",
    "            FileOutputStream(File(filePath)).use { outputStream ->\n",
    "                // Write the buffer (binary data) to the file\n",
    "                outputStream.write(content) // Write binary data\n",
    "            } // outputStream is automatically closed by 'use'\n",
    "            true // Indicate successful write operation\n",
    "        } catch (e: IOException) {\n",
    "            println(\"Error writing to file: ${e.message}\") // Handle any I/O errors\n",
    "            false // Indicate failure\n",
    "        }\n",
    "    }\n",
    "}\n"
   ]
  },
  {
   "cell_type": "code",
   "execution_count": 12,
   "id": "29e3fdd4-179a-451a-bde5-36e771fdb2eb",
   "metadata": {},
   "outputs": [
    {
     "data": {
      "text/plain": [
       "true"
      ]
     },
     "execution_count": 12,
     "metadata": {},
     "output_type": "execute_result"
    }
   ],
   "source": [
    "// Writing binary data to file with streaming\n",
    "\n",
    "fun main() = runBlocking {\n",
    "    val folderName = \"files\"\n",
    "    val fileName = \"write-read-binary-streaming\"\n",
    "    val filePath = buildWDPath(folderName, fileName)\n",
    "    val message = \"Hello World: Binary Streaming\"\n",
    "    val binaryData = message.toByteArray(Charsets.UTF_8)\n",
    "\n",
    "    // Writing \"Hello World: Binary Streaming\" as binary data\n",
    "    writeBinaryFileWithStreaming(filePath, binaryData) // Does not append but replaces existing file or create a new file\n",
    "}\n",
    "\n",
    "main()"
   ]
  },
  {
   "cell_type": "code",
   "execution_count": 13,
   "id": "d1f97543-fe07-481d-bdb2-082aeba5d2d0",
   "metadata": {},
   "outputs": [
    {
     "name": "stdout",
     "output_type": "stream",
     "text": [
      "Hello World: Binary Streaming\n"
     ]
    }
   ],
   "source": [
    "// Reading a binary file with streaming\n",
    "fun main() = runBlocking {\n",
    "    val folderName = \"files\"\n",
    "    val fileName = \"write-read-binary-streaming\"\n",
    "    val filePath = buildWDPath(folderName, fileName)\n",
    "    \n",
    "    val output = readBinaryFileWithStreaming(filePath)\n",
    "    output?.let { it ->\n",
    "        // Convert binary data back to text using UTF-8 encoding\n",
    "        // We already know data is UTF_8 text\n",
    "        val textRead = String(it, Charsets.UTF_8)\n",
    "        println(textRead)\n",
    "    }\n",
    "}\n",
    "\n",
    "main()"
   ]
  },
  {
   "cell_type": "code",
   "execution_count": 14,
   "id": "e4163d8f-e2ae-4477-a69f-5f68f3ef1738",
   "metadata": {},
   "outputs": [
    {
     "name": "stdout",
     "output_type": "stream",
     "text": [
      "File .\\files\\write-read-binary-streaming was removed.\n"
     ]
    }
   ],
   "source": [
    "// Removing the file\n",
    "fun main() = runBlocking {\n",
    "    val folderName = \"files\"\n",
    "    val fileName = \"write-read-binary-streaming\"\n",
    "    val filePath = buildWDPath(folderName, fileName)\n",
    "    \n",
    "    withContext(Dispatchers.IO) {\n",
    "        try {\n",
    "            File(filePath).delete()\n",
    "            println(\"File ${filePath} was removed.\")\n",
    "        } catch (e: IOException) {\n",
    "            println(\"Error removing file: ${e.message}\")\n",
    "        }\n",
    "    }\n",
    "}\n",
    "\n",
    "main()"
   ]
  },
  {
   "cell_type": "code",
   "execution_count": null,
   "id": "040cece7-dfbb-4fc3-a394-5dcf62d8bed6",
   "metadata": {},
   "outputs": [],
   "source": []
  }
 ],
 "metadata": {
  "kernelspec": {
   "display_name": "Kotlin",
   "language": "kotlin",
   "name": "kotlin"
  },
  "language_info": {
   "codemirror_mode": "text/x-kotlin",
   "file_extension": ".kt",
   "mimetype": "text/x-kotlin",
   "name": "kotlin",
   "nbconvert_exporter": "",
   "pygments_lexer": "kotlin",
   "version": "1.9.23"
  }
 },
 "nbformat": 4,
 "nbformat_minor": 5
}
