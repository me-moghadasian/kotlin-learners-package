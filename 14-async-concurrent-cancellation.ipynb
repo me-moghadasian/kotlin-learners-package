{
 "cells": [
  {
   "cell_type": "markdown",
   "id": "793653d6-8900-460b-a23c-566b388c1e8a",
   "metadata": {},
   "source": [
    "# Discussing **Cooperative Cancellation**\n",
    "\n",
    "- **Structured concurrency** is discussed.\n",
    "- **Cancelling** jobs and **timeout** cancellation are briefly covered."
   ]
  },
  {
   "cell_type": "markdown",
   "id": "c46c3df7-23e8-41a2-b702-57fe1f323a54",
   "metadata": {},
   "source": [
    "## **Structured Concurrency** and **Cooperative Cancellation**\n",
    "\n",
    "1. **Coroutines Must Have a Well-Defined Scope**: All coroutines must be launched within a specific **scope** (e.g., `CoroutineScope`, `runBlocking`, or a lifecycle scope). When this scope is **cancelled**, *all coroutines launched within it are automatically cancelled.*\n",
    "2. **Cancellation Propagation**: If the *parent scope* is cancelled, all the coroutines within that scope are cancelled as well. This helps *prevent memory leaks* by ensuring that no coroutines are left running without control (There is an exception that will be discussed).\n",
    "3. **Hierarchy of Coroutines**: Child coroutines are bound to their parent coroutines. If a parent coroutine is cancelled or fails, *all its child coroutines are cancelled as well*. This creates a structured tree of coroutines, where failures and cancellations are propagated correctly.\n",
    "4. **Exceptions Handling**: In structured concurrency, *exceptions are propagated through the coroutine hierarchy*. If a child coroutine throws an exception, it affects the parent coroutine unless caught.\n",
    "\n",
    "**NOTE**: When cancellation request is sent by calling `cancel()`, it is JUST initiated; The point at which the parent coroutine and its children cancel, **depends on the structure of the code**."
   ]
  },
  {
   "cell_type": "code",
   "execution_count": 1,
   "id": "c4061d17-8674-4899-aaba-ef3cc17417ee",
   "metadata": {},
   "outputs": [],
   "source": [
    "// Importing some neccessary libs in jupyter notebook\n",
    "@file:DependsOn(\"org.jetbrains.kotlinx:kotlinx-coroutines-core:1.5.2\")\n",
    "import kotlinx.coroutines.*"
   ]
  },
  {
   "cell_type": "code",
   "execution_count": 2,
   "id": "9d634088-d9fb-42f6-9dc2-403a09cf0c30",
   "metadata": {},
   "outputs": [
    {
     "name": "stdout",
     "output_type": "stream",
     "text": [
      "Hello "
     ]
    },
    {
     "data": {
      "text/plain": [
       "StandaloneCoroutine{Cancelled}@329c3122"
      ]
     },
     "execution_count": 2,
     "metadata": {},
     "output_type": "execute_result"
    }
   ],
   "source": [
    "// Cancelling a job\n",
    "\n",
    "/*\n",
    "'cancel()' command is managed by kotlin. \n",
    "It activates on suspension points or when a coroutine scope reaches to the end of its blaock {}.\n",
    "*/\n",
    "fun main() = runBlocking { \n",
    "    launch {\n",
    "        print(\"Hello \")\n",
    "        cancel()  // Cancels the coroutine when it gets suspended or scope reached to the end.\n",
    "        delay(1_000) // If commented, next line will be shown.\n",
    "        print(\"Word\")  // Will not be shown\n",
    "    } \n",
    "}\n",
    "\n",
    "main()"
   ]
  },
  {
   "cell_type": "code",
   "execution_count": 3,
   "id": "20c94dde-1384-4ae9-8b6f-ca70e76560f0",
   "metadata": {},
   "outputs": [
    {
     "name": "stdout",
     "output_type": "stream",
     "text": [
      "Hello Word"
     ]
    },
    {
     "data": {
      "text/plain": [
       "StandaloneCoroutine{Cancelled}@1b12d691"
      ]
     },
     "execution_count": 3,
     "metadata": {},
     "output_type": "execute_result"
    }
   ],
   "source": [
    "// Cancelling a job without suspend point\n",
    "\n",
    "/*\n",
    "'cancel()' command is managed by kotlin. It activates when a coroutine suspends or its scope finishes.\n",
    "*/\n",
    "fun main() = runBlocking { \n",
    "    launch {\n",
    "        print(\"Hello \")\n",
    "        cancel()  // Cancels the coroutine and its children when it gets to the end of the scope.\n",
    "        print(\"Word\")  // Will be shown\n",
    "\n",
    "        // Will not get executed\n",
    "        launch {\n",
    "            println(\"Inner coroutine\") \n",
    "        }\n",
    "    } // <-- Cancellation activates here; end of the coroutine scope\n",
    "}\n",
    "\n",
    "main()"
   ]
  },
  {
   "cell_type": "code",
   "execution_count": 4,
   "id": "bfbbcbbc-cab5-42ba-8469-c97158f79cb6",
   "metadata": {},
   "outputs": [
    {
     "name": "stdout",
     "output_type": "stream",
     "text": [
      "Hello Word \n",
      "susFun1 got executed\n"
     ]
    },
    {
     "data": {
      "text/plain": [
       "StandaloneCoroutine{Cancelled}@5f6a2269"
      ]
     },
     "execution_count": 4,
     "metadata": {},
     "output_type": "execute_result"
    }
   ],
   "source": [
    "// Cancellation when reaching to a suspend function\n",
    "\n",
    "fun main() = runBlocking { \n",
    "    launch {\n",
    "        print(\"Hello \")\n",
    "        cancel()  \n",
    "        print(\"Word \\n\")  // Will be shown\n",
    "\n",
    "        susFun1()  // Will get executed because this function never gets suspended.\n",
    "        susFun2()  // Cancellation happens here because there is a suspention point in the function.\n",
    "    } \n",
    "}\n",
    "\n",
    "suspend fun susFun1() {\n",
    "    println(\"susFun1 got executed\") \n",
    "}\n",
    "\n",
    "suspend fun susFun2() {\n",
    "    delay(1000) // Suspends function and cancellation happens.\n",
    "    println(\"susFun2 got executed\")  // Won't be shown.\n",
    "}\n",
    "\n",
    "main()"
   ]
  },
  {
   "cell_type": "markdown",
   "id": "02569598-65d9-4208-88df-95734802ccf3",
   "metadata": {},
   "source": [
    "## Cancellation and Custom **Corotoutine Scope**\n",
    "\n",
    " - `coroutineScope` in another scope, inherit its job and cancellation applies when:\n",
    "    1. IF the `coroutineScope` **suspends** in the parent scope:\n",
    "        > Cancellation happens at the point of suspension. It is actually just a suspend function with a coroutine scope.\n",
    "    4. IF the `coroutineScope` has **no suspension point**:    \n",
    "       > Cancellation happens **AT THE END OF** the scope.\n",
    "       Because the coroutine scope has inheritted outer scope's job that is already received\n",
    "       cancellation request. \n",
    " - A custom `CorotuineScope` can act independently based on its configurations."
   ]
  },
  {
   "cell_type": "code",
   "execution_count": 5,
   "id": "b2e5ebc3-74d1-4fd4-a269-ef76d7f48173",
   "metadata": {},
   "outputs": [
    {
     "name": "stdout",
     "output_type": "stream",
     "text": [
      "Program Started.\n",
      "Hello Word \n",
      "corScopeFun got executed\n"
     ]
    },
    {
     "data": {
      "text/plain": [
       "StandaloneCoroutine{Cancelled}@3303f449"
      ]
     },
     "execution_count": 5,
     "metadata": {},
     "output_type": "execute_result"
    }
   ],
   "source": [
    "// Cancellation when reaching to a child 'coroutineScope' with inheretted 'Job'\n",
    "\n",
    "fun main() = runBlocking { \n",
    "    launch {\n",
    "        println(\"Program Started.\")\n",
    "        print(\"Hello \")\n",
    "        cancel()  // Cancels the coroutine and its children when it gets to the end of the scope.\n",
    "        print(\"Word \\n\")  // Will be shown\n",
    "\n",
    "        /* \n",
    "        IF 'corScopeFun' suspends:\n",
    "            cancellation happens at the point of suspension like before.\n",
    "            \n",
    "        IF 'corScopeFun' has no suspension point:    \n",
    "            Cancellation happens at the end of corScopeFun's scope '{}'.\n",
    "        */\n",
    "        corScopeFun()  \n",
    "        println(\"Program finished.\") // Won't be shown.\n",
    "    }\n",
    "}\n",
    "\n",
    "suspend fun corScopeFun() = coroutineScope {\n",
    "    // delay(1000)  // Uncomment to see the difference.\n",
    "    println(\"corScopeFun got executed\") \n",
    "    launch {\n",
    "        println(\"corScopeFun launched a coroutine\") // Won't be shown\n",
    "    }\n",
    "} // Will cancels here before any launches if there was no suspension point.\n",
    "\n",
    "main()"
   ]
  },
  {
   "cell_type": "code",
   "execution_count": 6,
   "id": "bd8bed1c-dfc3-417f-883b-88404dd3c6c6",
   "metadata": {},
   "outputs": [
    {
     "name": "stdout",
     "output_type": "stream",
     "text": [
      "Program Started.\n",
      "Hello Word \n",
      "myScope second coroutine got executed\n",
      "myScope first coroutine got executed\n"
     ]
    }
   ],
   "source": [
    "// Cancellation when reaching to a custom 'coroutineScope' with its own 'Job'\n",
    "\n",
    "// Creating a custom context\n",
    "val myScopeJob = Job();\n",
    "val context = Dispatchers.IO + myScopeJob + CoroutineName(\"MyContext\")\n",
    "val myScope = CoroutineScope(context)\n",
    "\n",
    "fun main() = runBlocking { \n",
    "    \n",
    "    val outerJob = myScope.launch {\n",
    "        delay(3000) \n",
    "        println(\"myScope first coroutine got executed\") \n",
    "    }    \n",
    "    \n",
    "    var innerJob: Job? = null \n",
    "    \n",
    "    launch mainJob@{\n",
    "        println(\"Program Started.\")\n",
    "        print(\"Hello \")\n",
    "        cancel()  \n",
    "        print(\"Word \\n\")  // Will be shown\n",
    "\n",
    "        // delay(1000)  // Uncomment to see the difference; 'launch' gets cancelled here and 'innerJob' never gets initiated.\n",
    "        \n",
    "        /*\n",
    "        'myScope' has its own context and job, so 'cancel()' command above won't apply on it.\n",
    "        'innerJob' is tied to 'myScopeJob' of 'myScope' not the coroutine it is launched in (mainJob).\n",
    "        */\n",
    "        innerJob = myScope.launch {\n",
    "            delay(1000) \n",
    "            println(\"myScope second coroutine got executed\") \n",
    "        }\n",
    "        delay(1000)\n",
    "        println(\"Program finished.\") // Won't be shown.\n",
    "    }.join()\n",
    "\n",
    "    innerJob?.join()\n",
    "    outerJob.join()\n",
    "    \n",
    "    myScope.cancel()\n",
    "}\n",
    "\n",
    "main()"
   ]
  },
  {
   "cell_type": "markdown",
   "id": "71e3a275-0d6d-47aa-86db-534b11c33a17",
   "metadata": {},
   "source": [
    "## Cancellation Request from a `coroutineScope` and `JobCancellationException`\n",
    "\n",
    "- When a cancellation request is sent, a `JobCancellationException` will be thrown at the **cancelation point** that most of the time Kotlin catches (as its normal behaviour) and cancels related jobs.\n",
    "- We can use `try-catch-finaly` to close any resources or prevent cancellation at that specific point; the cancelation will get **postponed to the next point** of suspension or the end of the scope.\n",
    "- Cancellation is not **Immediate** but it is **Cooperative**.\n",
    "- `coroutineScope`s builder **inherit its job**, so cancellation request inside a coroutine scope, will cancel its inherited job.\n",
    "- So if a `coroutineScope` builder is used directly inside a `runBlocking`, it will lead to **uncaught** `JobCancellationException` error because the program's root job has been cancelled."
   ]
  },
  {
   "cell_type": "code",
   "execution_count": 7,
   "id": "f2766b0b-b71e-46c0-bc13-b1c6fda48210",
   "metadata": {},
   "outputs": [
    {
     "name": "stdout",
     "output_type": "stream",
     "text": [
      "Program Started.\n",
      "Scope started.\n",
      "Scope finished.\n"
     ]
    },
    {
     "name": "stderr",
     "output_type": "stream",
     "text": [
      "ScopeCoroutine was cancelled\n",
      "kotlinx.coroutines.JobCancellationException: ScopeCoroutine was cancelled; job=ScopeCoroutine{Cancelled}@640b79e0\n"
     ]
    }
   ],
   "source": [
    "fun main() = runBlocking { \n",
    "    \n",
    "    println(\"Program Started.\")\n",
    "\n",
    "    /*\n",
    "    This coroutine scope inherits 'runBlocking' context and job so cancelling request\n",
    "    on it, cancels 'runBlocking' job. This results in an Uncaught run-time exception.\n",
    "    */\n",
    "    coroutineScope {\n",
    "        cancel() // This will throw uncaught cancellation Exception on runBlocking.\n",
    "        println(\"Scope started.\")\n",
    "        launch {\n",
    "            println(\"Hello World from launch\") // Won't be shown\n",
    "        }\n",
    "        println(\"Scope finished.\")\n",
    "    } // <-- cancels at this point; cancellation is applied to 'runBlocking' context.\n",
    "\n",
    "    // Exception breaks the code execution.\n",
    "    println(\"Program finished.\") // Won't print\n",
    "}\n",
    "\n",
    "main()"
   ]
  },
  {
   "cell_type": "code",
   "execution_count": 8,
   "id": "d29c7343-1762-44a7-b80a-a191f9819478",
   "metadata": {},
   "outputs": [
    {
     "name": "stdout",
     "output_type": "stream",
     "text": [
      "Program Started.\n",
      "Program finished.\n",
      "Scope started.\n",
      "Scope finished.\n"
     ]
    }
   ],
   "source": [
    "// Catching a cancellation request\n",
    "\n",
    "fun main() = runBlocking { \n",
    "    \n",
    "    println(\"Program Started.\")\n",
    "    \n",
    "    launch {\n",
    "        cancel() \n",
    "        println(\"Scope started.\")\n",
    "        launch {\n",
    "            println(\"Hello World from launch\") // Won't be shown\n",
    "        }\n",
    "\n",
    "        try {\n",
    "            delay(1000) // Cancellation won't happen here because the error has been catched.\n",
    "        } catch (e: Exception) {\n",
    "            // Error can be re-thrown if neccessary.\n",
    "        }\n",
    "        println(\"Scope finished.\")\n",
    "    } \n",
    "\n",
    "    println(\"Program finished.\") \n",
    "}\n",
    "\n",
    "main()"
   ]
  },
  {
   "cell_type": "code",
   "execution_count": 9,
   "id": "06d023a3-ba0d-4e83-8b42-320496b62ed2",
   "metadata": {},
   "outputs": [
    {
     "name": "stdout",
     "output_type": "stream",
     "text": [
      "Program Started.\n",
      "Program finished.\n"
     ]
    }
   ],
   "source": [
    "// 'coroutineScope' inherits its outer coroutine job and cancels it.\n",
    "\n",
    "fun main() = runBlocking { \n",
    "    \n",
    "    println(\"Program Started.\")\n",
    "    \n",
    "    launch {\n",
    "        coroutineScope { // Replace with 'launch' to see what will happen.\n",
    "            cancel()\n",
    "        }\n",
    "        println(\"Hello World.\") // Won't be shown\n",
    "    } \n",
    "\n",
    "    println(\"Program finished.\") \n",
    "}\n",
    "\n",
    "main()"
   ]
  },
  {
   "cell_type": "markdown",
   "id": "6dc39e73-7111-422a-abaa-627571499eac",
   "metadata": {},
   "source": [
    "## Calling `cancel()` in `suspend` Functions"
   ]
  },
  {
   "cell_type": "code",
   "execution_count": 10,
   "id": "9148114b-3db6-41c3-83bb-08224287f59c",
   "metadata": {},
   "outputs": [
    {
     "name": "stdout",
     "output_type": "stream",
     "text": [
      "Program Started.\n",
      "Program finished.\n"
     ]
    }
   ],
   "source": [
    "// 'suspend' functions inherits its outer coroutine job and cancels it.\n",
    "\n",
    "fun main() = runBlocking { \n",
    "\n",
    "    println(\"Program Started.\")\n",
    "    \n",
    "    launch {\n",
    "        // We need to define a nested function to get access to the parent ('runBlocking') context\n",
    "        suspend fun somSus() {\n",
    "            cancel()\n",
    "        }\n",
    "        somSus()\n",
    "        delay(1000)\n",
    "        println(\"Hello World.\") // Won't be shown\n",
    "    } \n",
    "\n",
    "    println(\"Program finished.\") \n",
    "}\n",
    "\n",
    "main()"
   ]
  },
  {
   "cell_type": "markdown",
   "id": "c4bfa1a5-71e7-4e1c-a6f9-9a32e9d10a31",
   "metadata": {},
   "source": [
    "## Using `withContext(NonCancellable) {...}`"
   ]
  },
  {
   "cell_type": "code",
   "execution_count": 11,
   "id": "0888587d-be51-4eaf-998a-a745330d8ce5",
   "metadata": {},
   "outputs": [
    {
     "name": "stdout",
     "output_type": "stream",
     "text": [
      "Program Started.\n",
      "Program finished.\n",
      "Non-cancellable was executed.\n"
     ]
    }
   ],
   "source": [
    "fun main() = runBlocking { \n",
    "\n",
    "    println(\"Program Started.\")\n",
    "    \n",
    "    launch {\n",
    "        cancel()\n",
    "        \n",
    "        // Canellation request just ignores this\n",
    "        withContext(NonCancellable) {\n",
    "            println(\"Non-cancellable was executed.\")\n",
    "        }\n",
    "        \n",
    "        delay(1000)  // Cancelation request applies here \n",
    "        println(\"Hello World.\") // Won't be shown\n",
    "    } \n",
    "\n",
    "    println(\"Program finished.\") \n",
    "}\n",
    "\n",
    "main()"
   ]
  },
  {
   "cell_type": "markdown",
   "id": "274dc956-bb63-498e-b570-36b761ba046a",
   "metadata": {},
   "source": [
    "## Using `withTimeout` and `withTimeoutOrNull`\n",
    "\n",
    "- `withTimeout` throws `TimeoutCancellationException` (which is a subclass of `CancellationException`) when the given time interval is passed.\n",
    "- `withTimeoutOrNull` returns `null` on timeout instead of throwing exceptions."
   ]
  },
  {
   "cell_type": "code",
   "execution_count": 12,
   "id": "675a9741-eeb7-436a-99e3-108d7f236efc",
   "metadata": {},
   "outputs": [
    {
     "name": "stdout",
     "output_type": "stream",
     "text": [
      "Program Started.\n",
      "withTimeout was launched.\n",
      "withTimeout started.\n",
      "wait...\n",
      "Program finished.\n"
     ]
    }
   ],
   "source": [
    "// Using 'withTimeout'\n",
    "\n",
    "fun main() = runBlocking { \n",
    "\n",
    "    println(\"Program Started.\")\n",
    "    \n",
    "    launch root@{\n",
    "        println(\"withTimeout was launched.\")\n",
    "        \n",
    "        // Will cancel 'root' corotoutine job on timeout.\n",
    "        val res = withTimeout(3_000) {\n",
    "            println(\"withTimeout started.\")\n",
    "            println(\"wait...\")\n",
    "            delay(4_000) // a delay longer than timeout \n",
    "            println(\"withTimeout finished.\")\n",
    "            return@withTimeout 1\n",
    "        }\n",
    "        println(\"corotuine finished: $res.\") // Won't be shown on timeout.\n",
    "    }.join()\n",
    "\n",
    "    println(\"Program finished.\") \n",
    "}\n",
    "\n",
    "main()"
   ]
  },
  {
   "cell_type": "code",
   "execution_count": 13,
   "id": "60475df6-14d9-43d6-bd80-7a5bbfae3623",
   "metadata": {},
   "outputs": [
    {
     "name": "stdout",
     "output_type": "stream",
     "text": [
      "Program Started.\n",
      "withTimeout was launched.\n",
      "withTimeout started.\n",
      "wait...\n",
      "corotuine finished: null.\n",
      "Program finished.\n"
     ]
    }
   ],
   "source": [
    "// Using 'withTimeoutOrNull'\n",
    "\n",
    "fun main() = runBlocking { \n",
    "\n",
    "    println(\"Program Started.\")\n",
    "    \n",
    "    launch root@{\n",
    "        println(\"withTimeout was launched.\")\n",
    "\n",
    "        // WON'T cancel 'root' corotoutine job on timeout but returns Null.\n",
    "        val res = withTimeoutOrNull(3_000) {\n",
    "            println(\"withTimeout started.\")\n",
    "            println(\"wait...\")\n",
    "            delay(4_000) // a delay longer than timeout \n",
    "            println(\"withTimeout finished.\")\n",
    "            return@withTimeoutOrNull 1\n",
    "        }\n",
    "        println(\"corotuine finished: $res.\") // Will be shown and on timeout res == Null.\n",
    "    }.join()\n",
    "\n",
    "    println(\"Program finished.\") \n",
    "}\n",
    "\n",
    "main()"
   ]
  },
  {
   "cell_type": "markdown",
   "id": "f0f4bd8a-15c1-4dc3-be9a-299fa8f805bb",
   "metadata": {},
   "source": [
    "## **DYE**: Do Your Experiment"
   ]
  },
  {
   "cell_type": "code",
   "execution_count": 14,
   "id": "e4244d4f-966e-4e51-afad-b3138097db34",
   "metadata": {},
   "outputs": [],
   "source": [
    "// Ready for your codes"
   ]
  }
 ],
 "metadata": {
  "kernelspec": {
   "display_name": "Kotlin",
   "language": "kotlin",
   "name": "kotlin"
  },
  "language_info": {
   "codemirror_mode": "text/x-kotlin",
   "file_extension": ".kt",
   "mimetype": "text/x-kotlin",
   "name": "kotlin",
   "nbconvert_exporter": "",
   "pygments_lexer": "kotlin",
   "version": "1.9.23"
  }
 },
 "nbformat": 4,
 "nbformat_minor": 5
}
