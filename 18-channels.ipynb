{
 "cells": [
  {
   "cell_type": "markdown",
   "id": "3de10075-6f53-4d6d-966e-1df8658be4d9",
   "metadata": {},
   "source": [
    "# Introducing to Kotlin **Channels**"
   ]
  },
  {
   "cell_type": "code",
   "execution_count": null,
   "id": "03f767f2-2e8b-44dd-9617-b97429f2537a",
   "metadata": {},
   "outputs": [],
   "source": [
    "// TBI"
   ]
  }
 ],
 "metadata": {
  "kernelspec": {
   "display_name": "Kotlin",
   "language": "kotlin",
   "name": "kotlin"
  },
  "language_info": {
   "codemirror_mode": "text/x-kotlin",
   "file_extension": ".kt",
   "mimetype": "text/x-kotlin",
   "name": "kotlin",
   "nbconvert_exporter": "",
   "pygments_lexer": "kotlin",
   "version": "1.9.23"
  }
 },
 "nbformat": 4,
 "nbformat_minor": 5
}
