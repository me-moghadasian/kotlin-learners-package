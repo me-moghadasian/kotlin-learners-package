{
 "cells": [
  {
   "cell_type": "markdown",
   "id": "3de10075-6f53-4d6d-966e-1df8658be4d9",
   "metadata": {},
   "source": [
    "# Introducing Kotlin **Channels**\n",
    "\n",
    "- Kotlin **Channels** are a powerful feature of Kotlin **Coroutines** that provide a way to **communicate between coroutines**. They are similar to blocking queues and allow for asynchronous data exchange while providing safe synchronization.\n",
    "- **Non-blocking**: Channels enable asynchronous communication without blocking threads, making it easier to build responsive applications.\n",
    "- **Channels** facilitate communication between coroutines by allowing one coroutine to send data and another to receive it.\n",
    "- **Hot stream**: Unlike flows, channels are **hot streams**, meaming they continuously produce values and can emit data regardless of whether there are active collectors.\n",
    "- Types of Channels:\n",
    "  1. **Rendezvous Channels**: These are the default channels where the sender is suspended until the receiver is ready to receive the data.\n",
    "  2. **Buffered Channels**: These channels *can hold a specified number of elements*, allowing the sender to send data *without waiting for the receiver* until the buffer is full.\n",
    "  3. **Conflated Channels**: These *only keep the latest value sent to the channel*, discarding older values. This is useful for scenarios where only the latest data matters.\n",
    "\n"
   ]
  },
  {
   "cell_type": "code",
   "execution_count": 1,
   "id": "03f767f2-2e8b-44dd-9617-b97429f2537a",
   "metadata": {},
   "outputs": [],
   "source": [
    "// Importing some neccessary libs in jupyter notebook\n",
    "@file:DependsOn(\"org.jetbrains.kotlinx:kotlinx-coroutines-core:1.5.2\")\n",
    "import kotlinx.coroutines.*\n",
    "import kotlin.coroutines.CoroutineContext\n",
    "import kotlinx.coroutines.flow.*\n",
    "import kotlin.system.measureTimeMillis\n",
    "import kotlinx.coroutines.channels.*"
   ]
  },
  {
   "cell_type": "markdown",
   "id": "71e584dc-7896-4aa0-82d0-700523f3aa3f",
   "metadata": {},
   "source": [
    "## Creating Rendezvous Channels\n",
    "\n",
    "- **Rendezvous** channels, *suspend* when they `send` a value until it is received."
   ]
  },
  {
   "cell_type": "code",
   "execution_count": 2,
   "id": "54d56775-380b-42da-b648-85873834e4a8",
   "metadata": {},
   "outputs": [
    {
     "name": "stdout",
     "output_type": "stream",
     "text": [
      "Sent value: 0\n",
      "Received value: 0\n",
      "Sent value: 1\n",
      "Received value: 1\n",
      "Sent value: 2\n",
      "Received value: 2\n",
      "Sent value: 3\n",
      "Received value: 3\n",
      "Sent value: 4\n",
      "Received value: 4\n"
     ]
    },
    {
     "data": {
      "text/plain": [
       "StandaloneCoroutine{Completed}@3248e063"
      ]
     },
     "execution_count": 2,
     "metadata": {},
     "output_type": "execute_result"
    }
   ],
   "source": [
    "// Creating a simple rendezvouse channel\n",
    "\n",
    "fun main() = runBlocking {\n",
    "\n",
    "    /*\n",
    "    This channel has no buffer. It is a rendezvous channel.\n",
    "    So it emits new data when the previous one is collected by a receiver.\n",
    "    */\n",
    "    val channel = Channel<Int>() // Creating a channel that carries Int data\n",
    "\n",
    "    // Launching a coroutine to send values\n",
    "    launch {\n",
    "        repeat(5) { x ->\n",
    "            delay(500)\n",
    "            println(\"Sent value: $x\")\n",
    "            channel.send(x) // Sending values to the channel. Suspends here until a receiver collects the value. \n",
    "        }\n",
    "        \n",
    "        /* \n",
    "        It means that no more elements will/can be sent through the channel.\n",
    "        But receiver can still recieve all data already sent through channel.\n",
    "        */\n",
    "        channel.close() // Closing the channel\n",
    "    }\n",
    "\n",
    "    // Launching a coroutine to receive values\n",
    "    launch {\n",
    "        \n",
    "        for (x in 1 until 6) { // Receives the channel data\n",
    "            delay(1000)\n",
    "            val v = channel.receive() \n",
    "            println(\"Received value: $v\") // Print received values\n",
    "        }\n",
    "\n",
    "        // Or alternatively we can use 'receive'\n",
    "        /*\n",
    "        for (v in channel) { // Receives the channel data\n",
    "            delay(1000)\n",
    "            println(\"received value: $v\") // Print received values\n",
    "        }\n",
    "        */\n",
    "    }\n",
    "}\n",
    "\n",
    "main()"
   ]
  },
  {
   "cell_type": "markdown",
   "id": "9afb81d5-9cd6-4aef-af77-2f016135afc9",
   "metadata": {},
   "source": [
    "## Creating Buffered Channels\n",
    "\n",
    "- A **buffered** channel can be created by `Channel<Int>(SIZE)`.\n",
    "- **Buffered** channels, *suspend* when they `send` a value only **IF** the buffer is full.\n",
    "- Buffers are first-in-first-out (**FIFO**)."
   ]
  },
  {
   "cell_type": "code",
   "execution_count": 3,
   "id": "059677f5-c595-4580-8998-d16777502296",
   "metadata": {},
   "outputs": [
    {
     "name": "stdout",
     "output_type": "stream",
     "text": [
      "Sent value: 0\n",
      "Sent value: 1\n",
      "Sent value: 2\n",
      "Sent value: 3\n",
      "Receiving values started.\n",
      "Sent value: 4\n",
      "Received value: 0\n",
      "Sent value: 5\n",
      "Received value: 1\n",
      "Sent value: 6\n",
      "Received value: 2\n",
      "Sent value: 7\n",
      "Received value: 3\n",
      "Sent value: 8\n",
      "Received value: 4\n",
      "Sent value: 9\n",
      "Received value: 5\n",
      "Received value: 6\n",
      "Received value: 7\n",
      "Received value: 8\n",
      "Received value: 9\n"
     ]
    },
    {
     "data": {
      "text/plain": [
       "StandaloneCoroutine{Completed}@2e0ac167"
      ]
     },
     "execution_count": 3,
     "metadata": {},
     "output_type": "execute_result"
    }
   ],
   "source": [
    "// Creating a simple buffered channel\n",
    "\n",
    "fun main() = runBlocking {\n",
    "\n",
    "    /*\n",
    "    This channel has a buffer with size 3.\n",
    "    The buffer allows 3 values to be sent without suspending.\n",
    "    The producer will only suspend when the buffer is full (i.e., 3 elements).\n",
    "    */\n",
    "    // IMPORTANT: Buffer is first-in-first-out (FIFO)\n",
    "    val channel = Channel<Int>(3) // Creating a channel that carries Int data\n",
    "\n",
    "    // Launching a coroutine to send values\n",
    "    launch {\n",
    "        repeat(10) { x ->\n",
    "            delay(500)\n",
    "            println(\"Sent value: $x\")\n",
    "            channel.send(x) // Suspends here if buffer is full (after sending 3 values).\n",
    "        }\n",
    "        \n",
    "        /* \n",
    "        It means that no more elements will/can be sent through the channel.\n",
    "        But receiver can recieve all data already sent through channel.\n",
    "        */\n",
    "        channel.close() // Closing the channel\n",
    "    }\n",
    "\n",
    "    // Launching a coroutine to receive values\n",
    "    launch {\n",
    "        // The receiver starts after a 5-second delay, giving the producer enough time to fill the buffer.\n",
    "        delay(5_000)\n",
    "        println(\"Receiving values started.\")\n",
    "        for (v in channel) { // Receives the channel data\n",
    "            delay(1000)\n",
    "            println(\"Received value: $v\") // Print received values\n",
    "        }\n",
    "    }\n",
    "}\n",
    "\n",
    "main()"
   ]
  },
  {
   "cell_type": "markdown",
   "id": "febecdc5-3230-44d2-beb1-244a9ce62520",
   "metadata": {},
   "source": [
    "## Creating Conflated Channels\n",
    "\n",
    "- A **conflated** channel can be created by `Channel<Int>(Channel.CONFLATED)`.\n",
    "- In a **conflated** channel, a slow receiver might lose data because the channel *only holds latest* data.\n",
    "- In a **conflated** channel, `send` **never suspends**. The channel only holds the most recent value, discarding any previous ones if new data is sent before the receiver collects it.\n"
   ]
  },
  {
   "cell_type": "code",
   "execution_count": 4,
   "id": "a22712f8-5d55-491c-85c5-53dfda5fea3a",
   "metadata": {},
   "outputs": [
    {
     "name": "stdout",
     "output_type": "stream",
     "text": [
      "Sent value: 0\n",
      "Sent value: 1\n",
      "Sent value: 2\n",
      "Sent value: 3\n",
      "Receiving values started.\n",
      "Sent value: 4\n",
      "Received value: 3\n",
      "Sent value: 5\n",
      "Received value: 4\n",
      "Sent value: 6\n",
      "Received value: 5\n",
      "Sent value: 7\n",
      "Received value: 6\n",
      "Sent value: 8\n",
      "Received value: 7\n",
      "Sent value: 9\n",
      "Received value: 8\n",
      "Received value: 9\n"
     ]
    },
    {
     "data": {
      "text/plain": [
       "StandaloneCoroutine{Completed}@9c02129"
      ]
     },
     "execution_count": 4,
     "metadata": {},
     "output_type": "execute_result"
    }
   ],
   "source": [
    "// Creating a simple conflated channel\n",
    "\n",
    "fun main() = runBlocking {\n",
    "\n",
    "    /*\n",
    "    This channel is conflated, meaning it will only keep the most recent value.\n",
    "    If the receiver is slow, older values will be dropped, and the latest will be sent.\n",
    "    */\n",
    "    val channel = Channel<Int>(Channel.CONFLATED) // Creating a conflated channel\n",
    "\n",
    "    // Launching a coroutine to send values\n",
    "    launch {\n",
    "        repeat(10) { x ->\n",
    "            delay(1000)\n",
    "            println(\"Sent value: $x\")\n",
    "            channel.send(x) // Conflated channel will only keep the most recent value.\n",
    "        }\n",
    "        \n",
    "        channel.close()\n",
    "    }\n",
    "\n",
    "    // Launching a coroutine to receive values\n",
    "    launch {\n",
    "        // The receiver starts after a 5-second delay, meaning the earlier values will be lost.\n",
    "        delay(5_000)\n",
    "        println(\"Receiving values started.\")\n",
    "        for (v in channel) { // Receives the most recent value in the conflated channel.\n",
    "            delay(1000)\n",
    "            println(\"Received value: $v\") // Prints the latest value from the conflated channel.\n",
    "        }\n",
    "    }\n",
    "}\n",
    "\n",
    "main() // In conflated channel, a slow receiver might lose data because the channel only holds latest data.\n"
   ]
  },
  {
   "cell_type": "markdown",
   "id": "9682d3d7-c46a-492d-bdc8-d56e13dea621",
   "metadata": {},
   "source": [
    "## Receiving Channel Data from Multiple Coroutines\n",
    "\n",
    "- Unlike flows, channels can have **multiple cuncurrent receivers**. This is called **Fan-out**.\n",
    "- Channels can be **shared** between **multiple consumers**. Multiple receivers can read from the same channel concurrently.\n",
    "- Collectors **compete to collect** data from channel; faster ones get more data."
   ]
  },
  {
   "cell_type": "code",
   "execution_count": 5,
   "id": "c1a53769-c4e5-4b68-ad31-a8eac5eeaca5",
   "metadata": {},
   "outputs": [
    {
     "name": "stdout",
     "output_type": "stream",
     "text": [
      "Sent value: 0\n",
      "Sent value: 1\n",
      "Sent value: 2\n",
      "Sent value: 3\n",
      "Sent value: 4\n",
      "Sent value: 5\n",
      "Received value in corotuine 2: 1\n",
      "Sent value: 6\n",
      "Received value in corotuine 1: 0\n",
      "Received value in corotuine 2: 2\n",
      "Sent value: 7\n",
      "Sent value: 8\n",
      "Received value in corotuine 2: 4\n",
      "Sent value: 9\n",
      "Received value in corotuine 1: 3\n",
      "Received value in corotuine 2: 5\n",
      "Received value in corotuine 2: 7\n",
      "Received value in corotuine 1: 6\n",
      "Received value in corotuine 2: 8\n",
      "Received value in corotuine 1: 9\n"
     ]
    },
    {
     "data": {
      "text/plain": [
       "StandaloneCoroutine{Completed}@206cfe94"
      ]
     },
     "execution_count": 5,
     "metadata": {},
     "output_type": "execute_result"
    }
   ],
   "source": [
    "// Receiving channel data from two different coroutines\n",
    "\n",
    "fun main() = runBlocking {\n",
    "\n",
    "    val channel = Channel<Int>(3) \n",
    "\n",
    "    // Launching a coroutine to send values\n",
    "    launch {\n",
    "        repeat(10) { x ->\n",
    "            println(\"Sent value: $x\")\n",
    "            channel.send(x) \n",
    "        }\n",
    "        channel.close() // Closing the channel\n",
    "    }\n",
    "\n",
    "    /*\n",
    "    The first reciever that sends a receive request, gets the data.\n",
    "    */\n",
    "    \n",
    "    // Launching the first coroutine to receive values\n",
    "    launch {\n",
    "        for (v in channel) { \n",
    "            delay(1000)\n",
    "            println(\"Received value in corotuine 1: $v\") // Print received values\n",
    "        }\n",
    "    }\n",
    "\n",
    "    // Launching the second coroutine to receive values\n",
    "    launch {\n",
    "        for (v in channel) { // Receives the channel data\n",
    "            delay(500)\n",
    "            println(\"Received value in corotuine 2: $v\") // Print received values\n",
    "        }\n",
    "    }\n",
    "}\n",
    "\n",
    "main()"
   ]
  },
  {
   "cell_type": "markdown",
   "id": "601ac510-a5cb-4471-81f6-fa1616ef4e3f",
   "metadata": {},
   "source": [
    "## Sending Data through Channel from Multiple Coroutines\n",
    "\n",
    "- Multiple coroutines may send to the same channel. This is called **Fan-in**.\n",
    "- Channels can be used for **communication** between coroutines, where **one or more** producers send data to **one or more** consumers."
   ]
  },
  {
   "cell_type": "code",
   "execution_count": 6,
   "id": "14f50bfd-d0d1-43dc-b31f-72c9465c09a3",
   "metadata": {},
   "outputs": [
    {
     "name": "stdout",
     "output_type": "stream",
     "text": [
      "Sent value from coroutine 1: 1\n",
      "Sent value from coroutine 2: 6\n",
      "Sent value from coroutine 1: 2\n",
      "Sent value from coroutine 1: 3\n",
      "Sent value from coroutine 2: 7\n",
      "Sent value from coroutine 1: 4\n",
      "Received value: 1\n",
      "Sent value from coroutine 2: 8\n",
      "Received value: 6\n",
      "Sent value from coroutine 1: 5\n",
      "Received value: 2\n",
      "Sent value from coroutine 2: 9\n",
      "Received value: 3\n",
      "Received value: 7\n",
      "Sent value from coroutine 2: 10\n",
      "Received value: 4\n",
      "Received value: 8\n"
     ]
    },
    {
     "data": {
      "text/plain": [
       "StandaloneCoroutine{Cancelled}@616ce725"
      ]
     },
     "execution_count": 6,
     "metadata": {},
     "output_type": "execute_result"
    }
   ],
   "source": [
    "// Sending data through the channel from two coroutines\n",
    "\n",
    "fun main() = runBlocking {\n",
    "\n",
    "    val channel = Channel<Int>(3) \n",
    "\n",
    "    launch {\n",
    "        coroutineScope { // Closing the channel after 2 seconds\n",
    "            // Launching the first coroutine to send values\n",
    "            launch {\n",
    "                for (x in 1 until 6) {\n",
    "                    delay(100)\n",
    "                    println(\"Sent value from coroutine 1: $x\")\n",
    "                    channel.send(x) \n",
    "                }\n",
    "            }\n",
    "\n",
    "            // Launching the second coroutine to send values\n",
    "            launch {\n",
    "                for (x in 6 until 11) {\n",
    "                    delay(200)\n",
    "                    println(\"Sent value from coroutine 2: $x\")\n",
    "                    channel.send(x) \n",
    "                }\n",
    "            }\n",
    "        }\n",
    "        channel.cancel()\n",
    "    }\n",
    "    \n",
    "    \n",
    "    // Launching a coroutine to receive values\n",
    "    launch {\n",
    "        for (v in channel) { \n",
    "            delay(1000)\n",
    "            println(\"Received value: $v\") // Print received values\n",
    "        }\n",
    "    }\n",
    "}\n",
    "\n",
    "main()"
   ]
  },
  {
   "cell_type": "markdown",
   "id": "2e907cfb-6e88-462b-befc-246071ce0f9a",
   "metadata": {},
   "source": [
    "## Channel Producers and `ReceiveChannel`\n",
    "\n",
    "- We can use `produce` **corotuine builder** to create and return a specific type of channel, e.g. `ReceiveChannel`.\n",
    "- `ReceiveChannel` is a channel that can only be used to receive data; we cannot send data to it anywhere else outside of the `produce` corotuine builder.\n",
    "- When using `produce` **corotuine builder**, the resulting channel has a default buffer size 16."
   ]
  },
  {
   "cell_type": "code",
   "execution_count": 7,
   "id": "f8cee81f-1e3d-433e-8586-873dfead3880",
   "metadata": {},
   "outputs": [
    {
     "name": "stdout",
     "output_type": "stream",
     "text": [
      "Produced value: 1\n",
      "Produced value: 2\n",
      "Produced value: 3\n",
      "Produced value: 4\n",
      "Received value: 1\n",
      "Produced value: 5\n",
      "Produced value: 6\n",
      "Received value: 2\n",
      "Produced value: 7\n",
      "Received value: 3\n",
      "Produced value: 8\n",
      "Received value: 4\n",
      "Produced value: 9\n",
      "Received value: 5\n",
      "Received value: 6\n",
      "Received value: 7\n",
      "Received value: 8\n",
      "Received value: 9\n"
     ]
    },
    {
     "data": {
      "text/plain": [
       "StandaloneCoroutine{Completed}@4ff4aed5"
      ]
     },
     "execution_count": 7,
     "metadata": {},
     "output_type": "execute_result"
    }
   ],
   "source": [
    "// Using 'produce' cortoutine builder to create a 'ReceiveChannel'\n",
    "@OptIn(kotlinx.coroutines.ExperimentalCoroutinesApi::class)\n",
    "\n",
    "/*\n",
    "The coroutine builder 'produce' creates a 'ReceiveChannel'.\n",
    "We can set the buffer size by 'capacity = bufferSize'\n",
    "\n",
    "IMPORTANT: To define 'produce' outside of a coroutine scope, \n",
    "it needs to be defined as an extension function of `CoroutineScope` \n",
    "to receive the coroutine context of its caller. \n",
    "*/\n",
    "\n",
    "fun CoroutineScope.myProducer(): ReceiveChannel<Int> = produce(capacity = 3) {\n",
    "    for (x in 1 until 10) { \n",
    "        delay(250)\n",
    "        println(\"Produced value: $x\")\n",
    "        send(x)\n",
    "    }\n",
    "    \n",
    "    // Explicitly close the channel (optional, as it will close automatically)\n",
    "    // channel.close()\n",
    "}\n",
    "\n",
    "\n",
    "fun main() = runBlocking {\n",
    "\n",
    "    val channel = myProducer() // Creating a receiver channel\n",
    "    \n",
    "    // Launching a coroutine to receive values\n",
    "    launch {\n",
    "        for (v in channel) { \n",
    "            delay(1000)\n",
    "            println(\"Received value: $v\") // Print received values\n",
    "        }\n",
    "    }\n",
    "\n",
    "}\n",
    "\n",
    "main()"
   ]
  },
  {
   "cell_type": "markdown",
   "id": "c285a244-2676-44aa-8daa-dfc76a83558a",
   "metadata": {},
   "source": [
    "## Piplines\n",
    "\n",
    "- We can use `produce` and `ReceiveChannel` to create a pipeline of channels and data"
   ]
  },
  {
   "cell_type": "code",
   "execution_count": 8,
   "id": "de12a97b-f695-4fdf-93ea-5f094051febd",
   "metadata": {},
   "outputs": [
    {
     "name": "stdout",
     "output_type": "stream",
     "text": [
      "Received value is 1\n",
      "Received value is 2\n",
      "Received value is 3\n",
      "Received value is 4\n",
      "Received value is 5\n",
      "Received value is 6\n",
      "Received value is 7\n",
      "Received value is 8\n",
      "Received value is 9\n"
     ]
    },
    {
     "data": {
      "text/plain": [
       "StandaloneCoroutine{Completed}@39c761e2"
      ]
     },
     "execution_count": 8,
     "metadata": {},
     "output_type": "execute_result"
    }
   ],
   "source": [
    "// Creating a pipeline\n",
    "@OptIn(kotlinx.coroutines.ExperimentalCoroutinesApi::class)\n",
    "\n",
    "// The first channel creates numbers\n",
    "fun CoroutineScope.firstProducer(): ReceiveChannel<Int> = produce {\n",
    "    for (x in 1 until 10) { \n",
    "        delay(250)\n",
    "        send(x)\n",
    "    }\n",
    "}\n",
    "\n",
    "// The second channel creates a string using the data received from the first channel\n",
    "fun CoroutineScope.secondProducer(channel: ReceiveChannel<Int>): ReceiveChannel<String> = produce {\n",
    "    for (x in channel) { \n",
    "        delay(100)\n",
    "        send(\"value is $x\")\n",
    "    }\n",
    "}\n",
    "\n",
    "fun main() = runBlocking {\n",
    "\n",
    "    val baseChannel = firstProducer() // Creating base producer\n",
    "    val channel = secondProducer(baseChannel) // Creating a receiver channel\n",
    "    \n",
    "    // Launching a coroutine to receive values\n",
    "    launch {\n",
    "        for (v in channel) { \n",
    "            delay(1000)\n",
    "            println(\"Received $v\") // Print received values\n",
    "        }\n",
    "    }\n",
    "\n",
    "}\n",
    "\n",
    "main()"
   ]
  },
  {
   "cell_type": "markdown",
   "id": "5c718bf8-7fb8-4424-b101-c1ae61662524",
   "metadata": {},
   "source": [
    "## **DYE**: Do Your Experiment"
   ]
  },
  {
   "cell_type": "code",
   "execution_count": 9,
   "id": "5f7cde2a-3677-4ca7-86c9-9c64d26582ad",
   "metadata": {},
   "outputs": [],
   "source": [
    "// Ready for your codes"
   ]
  }
 ],
 "metadata": {
  "kernelspec": {
   "display_name": "Kotlin",
   "language": "kotlin",
   "name": "kotlin"
  },
  "language_info": {
   "codemirror_mode": "text/x-kotlin",
   "file_extension": ".kt",
   "mimetype": "text/x-kotlin",
   "name": "kotlin",
   "nbconvert_exporter": "",
   "pygments_lexer": "kotlin",
   "version": "1.9.23"
  }
 },
 "nbformat": 4,
 "nbformat_minor": 5
}
