{
 "cells": [
  {
   "cell_type": "markdown",
   "id": "eb595055-09e7-4313-9d41-f9432e93a264",
   "metadata": {},
   "source": [
    "# An Introduction to Kotlin **Flows**"
   ]
  },
  {
   "cell_type": "code",
   "execution_count": null,
   "id": "6d344608-26e4-41dc-9d9e-5ed9b780142d",
   "metadata": {},
   "outputs": [],
   "source": [
    "// TBI"
   ]
  }
 ],
 "metadata": {
  "kernelspec": {
   "display_name": "Kotlin",
   "language": "kotlin",
   "name": "kotlin"
  },
  "language_info": {
   "codemirror_mode": "text/x-kotlin",
   "file_extension": ".kt",
   "mimetype": "text/x-kotlin",
   "name": "kotlin",
   "nbconvert_exporter": "",
   "pygments_lexer": "kotlin",
   "version": "1.9.23"
  }
 },
 "nbformat": 4,
 "nbformat_minor": 5
}
