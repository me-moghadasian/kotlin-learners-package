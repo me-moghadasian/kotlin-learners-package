{
 "cells": [
  {
   "cell_type": "markdown",
   "id": "4a3b8949-2d27-4a49-9261-6107427a70f1",
   "metadata": {},
   "source": [
    "# Kotlin **Asynchronous/Concurren** Programming **Best Practices**"
   ]
  },
  {
   "cell_type": "code",
   "execution_count": 3,
   "id": "7c70c98f-81ad-4204-b6d8-dad8f5c7a545",
   "metadata": {},
   "outputs": [],
   "source": [
    "// Importing some neccessary libs in jupyter notebook\n",
    "@file:DependsOn(\"org.jetbrains.kotlinx:kotlinx-coroutines-core:1.5.2\")\n",
    "import kotlinx.coroutines.*\n",
    "import java.util.concurrent.Executors\n",
    "import kotlin.coroutines.CoroutineContext"
   ]
  },
  {
   "cell_type": "code",
   "execution_count": 4,
   "id": "a208351b-0f08-4c50-9e71-a944a834b30c",
   "metadata": {},
   "outputs": [],
   "source": [
    "// Use 'runBlocking' only at the entry of your program\n",
    "fun main() = runBlocking {\n",
    "    println(\"Hi\")\n",
    "}"
   ]
  },
  {
   "cell_type": "code",
   "execution_count": 10,
   "id": "09726dbc-f52f-450d-809d-ec0e83311919",
   "metadata": {},
   "outputs": [
    {
     "name": "stdout",
     "output_type": "stream",
     "text": [
      "fetched\n"
     ]
    }
   ],
   "source": [
    "// Try using 'suspend' functions to better organise your code\n",
    "\n",
    "suspend fun fetchBackend() {\n",
    "    // Fetch your backend\n",
    "    println(\"fetched\")\n",
    "}\n",
    "fun main() = runBlocking {\n",
    "    fetchBackend()\n",
    "}\n",
    "main()"
   ]
  },
  {
   "cell_type": "code",
   "execution_count": 11,
   "id": "595ba97a-9e6b-402d-b78d-68099e91089b",
   "metadata": {},
   "outputs": [
    {
     "name": "stdout",
     "output_type": "stream",
     "text": [
      "fetching started.\n",
      "end-point 0 fetched\n",
      "end-point 1 fetched\n",
      "end-point 2 fetched\n",
      "end-point 3 fetched\n",
      "end-point 4 fetched\n"
     ]
    },
    {
     "data": {
      "text/plain": [
       "[StandaloneCoroutine{Completed}@57f451b1, StandaloneCoroutine{Completed}@d2eed32, StandaloneCoroutine{Completed}@4cb433e5, StandaloneCoroutine{Completed}@40ef030b, StandaloneCoroutine{Completed}@3563ab7e]"
      ]
     },
     "execution_count": 11,
     "metadata": {},
     "output_type": "execute_result"
    }
   ],
   "source": [
    "// Use 'coroutineScope' if you wanna 'launch' multiple requests\n",
    "suspend fun fetchBackend() = coroutineScope {\n",
    "    // Fetch your backend\n",
    "    println(\"fetching started.\")\n",
    "    List(5) { i ->\n",
    "        launch { println(\"end-point $i fetched\") }\n",
    "    }\n",
    "    \n",
    "}\n",
    "fun main() = runBlocking {\n",
    "    fetchBackend()\n",
    "}\n",
    "main()"
   ]
  },
  {
   "cell_type": "code",
   "execution_count": 21,
   "id": "535852f1-66ae-4252-a138-673b0294058a",
   "metadata": {},
   "outputs": [
    {
     "name": "stdout",
     "output_type": "stream",
     "text": [
      "fetching started.\n",
      "end-point 0 fetched\n",
      "end-point 1 fetched\n",
      "end-point 2 fetched\n",
      "end-point 3 fetched\n",
      "end-point 4 fetched\n",
      "fetching finished.\n",
      "fetch result: [0, 1, 4, 9, 16]\n"
     ]
    }
   ],
   "source": [
    "/*\n",
    "Use 'coroutineScope', 'async' and 'awaitAll' if you wanna launch multiple requests\n",
    "and get the result.\n",
    "*/\n",
    "\n",
    "suspend fun fetchBackend() = coroutineScope {\n",
    "    // Fetch your backend\n",
    "    println(\"fetching started.\")\n",
    "    val reqs = List(5) { i ->\n",
    "        async { \n",
    "            println(\"end-point $i fetched\") \n",
    "            i*i\n",
    "        }\n",
    "    }\n",
    "    val res = reqs.awaitAll()\n",
    "    println(\"fetching finished.\")\n",
    "    return@coroutineScope res\n",
    "}\n",
    "fun main() = runBlocking {\n",
    "    val res = fetchBackend()\n",
    "    println(\"fetch result: $res\")\n",
    "}\n",
    "main()"
   ]
  },
  {
   "cell_type": "code",
   "execution_count": 22,
   "id": "498827fe-02d6-4829-955b-cafe0d207a3a",
   "metadata": {},
   "outputs": [
    {
     "name": "stdout",
     "output_type": "stream",
     "text": [
      "fetching started.\n",
      "end-point 0 fetched\n",
      "end-point 1 fetched\n",
      "end-point 2 fetched\n",
      "end-point 3 fetched\n",
      "end-point 4 fetched\n",
      "fetching finished.\n",
      "fetch result: [0, 1, 4, 9, 16]\n"
     ]
    }
   ],
   "source": [
    "/* \n",
    "Use 'withContext' to create a coroutine scope \n",
    "with is run on the given dispatcher.\n",
    "*/\n",
    "\n",
    "suspend fun fetchBackend() = withContext(Dispatchers.IO) {\n",
    "    // Fetch your backend on IO threads pool\n",
    "    println(\"fetching started.\")\n",
    "    val reqs = List(5) { i ->\n",
    "        async { \n",
    "            println(\"end-point $i fetched\") \n",
    "            i*i\n",
    "        }\n",
    "    }\n",
    "    val res = reqs.awaitAll()\n",
    "    println(\"fetching finished.\")\n",
    "    return@withContext res\n",
    "}\n",
    "fun main() = runBlocking {\n",
    "    val res = fetchBackend()\n",
    "    println(\"fetch result: $res\")\n",
    "}\n",
    "main()"
   ]
  },
  {
   "cell_type": "code",
   "execution_count": 46,
   "id": "160a4561-f02d-45ce-b605-03df92b388db",
   "metadata": {},
   "outputs": [
    {
     "name": "stdout",
     "output_type": "stream",
     "text": [
      "Doing important started.\n",
      "imp{0} done, imp{11} done, imp{12} done, imp{10} done, imp{13} done, imp{14} done, imp{15} done, imp{16} done, imp{17} done, imp{18} done, imp{19} done, imp{20} done, imp{21} done, imp{22} done, imp{23} done, imp{24} done, imp{25} done, imp{26} done, imp{27} done, imp{33} done, imp{28} done, imp{29} done, imp{30} done, imp{34} done, imp{31} done, imp{32} done, imp{35} done, imp{36} done, imp{37} done, imp{38} done, imp{39} done, imp{40} done, imp{41} done, imp{43} done, imp{42} done, imp{44} done, imp{45} done, imp{46} done, imp{47} done, imp{48} done, imp{49} done, imp{50} done, imp{51} done, imp{52} done, imp{53} done, imp{54} done, imp{55} done, imp{56} done, imp{57} done, imp{58} done, imp{59} done, imp{60} done, imp{61} done, imp{62} done, imp{63} done, imp{66} done, imp{64} done, imp{65} done, imp{67} done, imp{68} done, imp{69} done, imp{70} done, imp{71} done, imp{72} done, imp{73} done, imp{82} done, imp{74} done, imp{75} done, imp{76} done, imp{77} done, imp{84} done, imp{78} done, imp{79} done, imp{80} done, imp{81} done, imp{83} done, imp{85} done, imp{86} done, imp{87} done, imp{88} done, imp{89} done, imp{90} done, imp{91} done, imp{2} done, imp{4} done, imp{3} done, imp{6} done, imp{5} done, imp{7} done, imp{92} done, imp{8} done, imp{93} done, imp{94} done, imp{95} done, imp{96} done, imp{97} done, imp{98} done, imp{1} done, imp{99} done, imp{9} done, \n",
      "Doing important finished.\n",
      "Doing important result: 328350\n"
     ]
    }
   ],
   "source": [
    "// Only create custom 'CoroutineScope' when it is neccessary.\n",
    "\n",
    "val threadNo = 10\n",
    "val contextJob = Job()\n",
    "val contextDispatcher = Executors.newFixedThreadPool(threadNo).asCoroutineDispatcher()\n",
    "val context: CoroutineContext = contextDispatcher + contextJob + CoroutineName(\"Powerful but heavy Scope\")\n",
    "val myScope = CoroutineScope(context)\n",
    "\n",
    "suspend fun doImportant(): List<Int> {\n",
    "    // Fetch your backend\n",
    "    println(\"Doing important started.\")\n",
    "    val reqs = List(100) { i ->\n",
    "        myScope.async { \n",
    "            delay(1000)\n",
    "            print(\"imp{$i} done, \") \n",
    "            i*i\n",
    "        }\n",
    "    }\n",
    "    val res = reqs.awaitAll()\n",
    "    println(\"\\nDoing important finished.\")\n",
    "    return res\n",
    "}\n",
    "fun main() = runBlocking {\n",
    "    val res = doImportant()\n",
    "    myScope.cancel()\n",
    "    println(\"Doing important result: ${res.sum()}\")\n",
    "}\n",
    "main()                           "
   ]
  },
  {
   "cell_type": "code",
   "execution_count": 47,
   "id": "584dbc58-abab-4d27-82c4-0814e2dacf7b",
   "metadata": {},
   "outputs": [
    {
     "name": "stdout",
     "output_type": "stream",
     "text": [
      "Doing important started.\n",
      "imp{10} done, imp{2} done, imp{3} done, imp{11} done, imp{0} done, imp{12} done, imp{9} done, imp{13} done, imp{1} done, imp{14} done, imp{19} done, imp{15} done, imp{16} done, imp{17} done, imp{18} done, imp{20} done, imp{21} done, imp{22} done, imp{23} done, imp{24} done, imp{4} done, imp{25} done, imp{27} done, imp{26} done, imp{29} done, imp{28} done, imp{30} done, imp{31} done, imp{32} done, imp{33} done, imp{34} done, imp{35} done, imp{36} done, imp{37} done, imp{38} done, imp{39} done, imp{40} done, imp{41} done, imp{42} done, imp{43} done, imp{44} done, imp{45} done, imp{46} done, imp{47} done, imp{48} done, imp{49} done, imp{50} done, imp{51} done, imp{52} done, imp{53} done, imp{54} done, imp{55} done, imp{59} done, imp{56} done, imp{57} done, imp{58} done, imp{60} done, imp{61} done, imp{62} done, imp{63} done, imp{64} done, imp{65} done, imp{66} done, imp{67} done, imp{68} done, imp{69} done, imp{70} done, imp{71} done, imp{72} done, imp{73} done, imp{74} done, imp{75} done, imp{85} done, imp{86} done, imp{76} done, imp{87} done, imp{88} done, imp{77} done, imp{90} done, imp{91} done, imp{78} done, imp{93} done, imp{94} done, imp{79} done, imp{97} done, imp{98} done, imp{99} done, imp{5} done, imp{6} done, imp{7} done, imp{8} done, imp{80} done, imp{81} done, imp{82} done, imp{83} done, imp{84} done, imp{89} done, imp{92} done, imp{95} done, imp{96} done, \n",
      "Doing important finished.\n",
      "Doing important result: 328350\n"
     ]
    }
   ],
   "source": [
    "// Or it is better to do it using 'withContext' as:\n",
    "\n",
    "val threadNo = 10\n",
    "val myDispatcher: CoroutineContext = Executors.newFixedThreadPool(threadNo).asCoroutineDispatcher()\n",
    "\n",
    "suspend fun doImportant(): List<Int> = withContext(myDispatcher) {\n",
    "    // Fetch your backend\n",
    "    println(\"Doing important started.\")\n",
    "    val reqs = List(100) { i ->\n",
    "        async { \n",
    "            delay(1000)\n",
    "            print(\"imp{$i} done, \") \n",
    "            i*i\n",
    "        }\n",
    "    }\n",
    "    val res = reqs.awaitAll()\n",
    "    println(\"\\nDoing important finished.\")\n",
    "    return@withContext res\n",
    "}\n",
    "fun main() = runBlocking {\n",
    "    val res = doImportant()\n",
    "    myDispatcher.cancel()\n",
    "    println(\"Doing important result: ${res.sum()}\")\n",
    "}\n",
    "main()       "
   ]
  },
  {
   "cell_type": "code",
   "execution_count": null,
   "id": "9acb3671-518b-4957-8c1a-97bd00da354c",
   "metadata": {},
   "outputs": [],
   "source": [
    "// Consider finilizing resources when a cancellation request might be received\n",
    "\n"
   ]
  }
 ],
 "metadata": {
  "kernelspec": {
   "display_name": "Kotlin",
   "language": "kotlin",
   "name": "kotlin"
  },
  "language_info": {
   "codemirror_mode": "text/x-kotlin",
   "file_extension": ".kt",
   "mimetype": "text/x-kotlin",
   "name": "kotlin",
   "nbconvert_exporter": "",
   "pygments_lexer": "kotlin",
   "version": "1.9.23"
  }
 },
 "nbformat": 4,
 "nbformat_minor": 5
}
