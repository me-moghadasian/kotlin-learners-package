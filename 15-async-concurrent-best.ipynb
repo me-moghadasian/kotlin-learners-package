{
 "cells": [
  {
   "cell_type": "markdown",
   "id": "4a3b8949-2d27-4a49-9261-6107427a70f1",
   "metadata": {},
   "source": [
    "# **Asynchronous/Concurren** Programming **Best Practices**"
   ]
  },
  {
   "cell_type": "code",
   "execution_count": null,
   "id": "a208351b-0f08-4c50-9e71-a944a834b30c",
   "metadata": {},
   "outputs": [],
   "source": []
  }
 ],
 "metadata": {
  "kernelspec": {
   "display_name": "Kotlin",
   "language": "kotlin",
   "name": "kotlin"
  },
  "language_info": {
   "codemirror_mode": "text/x-kotlin",
   "file_extension": ".kt",
   "mimetype": "text/x-kotlin",
   "name": "kotlin",
   "nbconvert_exporter": "",
   "pygments_lexer": "kotlin",
   "version": "1.9.23"
  }
 },
 "nbformat": 4,
 "nbformat_minor": 5
}
