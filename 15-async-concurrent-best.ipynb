{
 "cells": [
  {
   "cell_type": "markdown",
   "id": "4a3b8949-2d27-4a49-9261-6107427a70f1",
   "metadata": {},
   "source": [
    "# Kotlin **Asynchronous/Concurren** Programming **Best Practises**\n",
    "\n",
    "- **NEVER** make your code complicated. The previous sections (11-14) were prepared solely for demonstration and explanation purposes. We must follow best practices and implement our logic in the clearest way possible. Always aim to design your code in the most straightforward way; otherwise, debugging and code modifications will become difficult.\n",
    "- Be sure to consult other **resources** and **communities** as well.\n",
    "- Remember: **DYE** – Do Your Experiment. Testing and experimenting yourself is key to truly understanding and mastering the concepts."
   ]
  },
  {
   "cell_type": "code",
   "execution_count": 12,
   "id": "7c70c98f-81ad-4204-b6d8-dad8f5c7a545",
   "metadata": {},
   "outputs": [],
   "source": [
    "// Importing some neccessary libs in jupyter notebook\n",
    "@file:DependsOn(\"org.jetbrains.kotlinx:kotlinx-coroutines-core:1.5.2\")\n",
    "import kotlinx.coroutines.*\n",
    "import java.util.concurrent.Executors\n",
    "import kotlin.coroutines.CoroutineContext"
   ]
  },
  {
   "cell_type": "code",
   "execution_count": 2,
   "id": "a208351b-0f08-4c50-9e71-a944a834b30c",
   "metadata": {},
   "outputs": [],
   "source": [
    "// Use 'runBlocking' only at the entry of your program.\n",
    "fun main() = runBlocking {\n",
    "    println(\"Hi\")\n",
    "}"
   ]
  },
  {
   "cell_type": "code",
   "execution_count": 3,
   "id": "09726dbc-f52f-450d-809d-ec0e83311919",
   "metadata": {},
   "outputs": [
    {
     "name": "stdout",
     "output_type": "stream",
     "text": [
      "fetched\n"
     ]
    }
   ],
   "source": [
    "// Try using 'suspend' functions to better organise your code.\n",
    "\n",
    "suspend fun fetchBackend() {\n",
    "    // Fetch your backend\n",
    "    println(\"fetched\")\n",
    "}\n",
    "fun main() = runBlocking {\n",
    "    fetchBackend()\n",
    "}\n",
    "main()"
   ]
  },
  {
   "cell_type": "code",
   "execution_count": 4,
   "id": "595ba97a-9e6b-402d-b78d-68099e91089b",
   "metadata": {},
   "outputs": [
    {
     "name": "stdout",
     "output_type": "stream",
     "text": [
      "fetching started.\n",
      "end-point 0 fetched\n",
      "end-point 1 fetched\n",
      "end-point 2 fetched\n",
      "end-point 3 fetched\n",
      "end-point 4 fetched\n"
     ]
    },
    {
     "data": {
      "text/plain": [
       "[StandaloneCoroutine{Completed}@77169011, StandaloneCoroutine{Completed}@7dad756d, StandaloneCoroutine{Completed}@12f8dea4, StandaloneCoroutine{Completed}@5c280955, StandaloneCoroutine{Completed}@1f7d8cd9]"
      ]
     },
     "execution_count": 4,
     "metadata": {},
     "output_type": "execute_result"
    }
   ],
   "source": [
    "// Use 'coroutineScope' if you wanna 'launch' multiple requests in a specific scope.\n",
    "suspend fun fetchBackend() = coroutineScope {\n",
    "    // Fetch your backend\n",
    "    println(\"fetching started.\")\n",
    "    List(5) { i ->\n",
    "        launch { println(\"end-point $i fetched\") }\n",
    "    }\n",
    "    \n",
    "}\n",
    "fun main() = runBlocking {\n",
    "    fetchBackend()\n",
    "}\n",
    "main()"
   ]
  },
  {
   "cell_type": "code",
   "execution_count": 5,
   "id": "535852f1-66ae-4252-a138-673b0294058a",
   "metadata": {},
   "outputs": [
    {
     "name": "stdout",
     "output_type": "stream",
     "text": [
      "fetching started.\n",
      "end-point 0 fetched\n",
      "end-point 1 fetched\n",
      "end-point 2 fetched\n",
      "end-point 3 fetched\n",
      "end-point 4 fetched\n",
      "fetching finished.\n",
      "fetch result: [0, 1, 4, 9, 16]\n"
     ]
    }
   ],
   "source": [
    "/*\n",
    "Use 'coroutineScope', 'async' and 'awaitAll' if you wanna launch multiple requests\n",
    "and get the result.\n",
    "You can also use 'launch' and 'join/joinAll'. \n",
    "*/\n",
    "\n",
    "suspend fun fetchBackend() = coroutineScope {\n",
    "    // Fetch your backend\n",
    "    println(\"fetching started.\")\n",
    "    val reqs = List(5) { i ->\n",
    "        async { \n",
    "            println(\"end-point $i fetched\") \n",
    "            i*i\n",
    "        }\n",
    "    }\n",
    "    val res = reqs.awaitAll()\n",
    "    println(\"fetching finished.\")\n",
    "    return@coroutineScope res\n",
    "}\n",
    "fun main() = runBlocking {\n",
    "    val res = fetchBackend()\n",
    "    println(\"fetch result: $res\")\n",
    "}\n",
    "main()"
   ]
  },
  {
   "cell_type": "code",
   "execution_count": 6,
   "id": "498827fe-02d6-4829-955b-cafe0d207a3a",
   "metadata": {},
   "outputs": [
    {
     "name": "stdout",
     "output_type": "stream",
     "text": [
      "fetching started.\n",
      "end-point 0 fetched\n",
      "end-point 2 fetched\n",
      "end-point 3 fetched\n",
      "end-point 1 fetched\n",
      "end-point 4 fetched\n",
      "fetching finished.\n",
      "fetch result: [0, 1, 4, 9, 16]\n"
     ]
    }
   ],
   "source": [
    "/* \n",
    "Use 'withContext' to create a coroutine scope \n",
    "which is run on the given dispatcher.\n",
    "*/\n",
    "\n",
    "suspend fun fetchBackend() = withContext(Dispatchers.IO) {\n",
    "    // Fetch your backend on IO threads pool\n",
    "    println(\"fetching started.\")\n",
    "    val reqs = List(5) { i ->\n",
    "        async { \n",
    "            println(\"end-point $i fetched\") \n",
    "            i*i\n",
    "        }\n",
    "    }\n",
    "    val res = reqs.awaitAll()\n",
    "    println(\"fetching finished.\")\n",
    "    return@withContext res\n",
    "}\n",
    "fun main() = runBlocking {\n",
    "    val res = fetchBackend()\n",
    "    println(\"fetch result: $res\")\n",
    "}\n",
    "main()"
   ]
  },
  {
   "cell_type": "code",
   "execution_count": 7,
   "id": "160a4561-f02d-45ce-b605-03df92b388db",
   "metadata": {},
   "outputs": [
    {
     "name": "stdout",
     "output_type": "stream",
     "text": [
      "Doing important started.\n",
      "imp{9} done, imp{4} done, imp{5} done, imp{8} done, imp{7} done, imp{6} done, imp{3} done, imp{0} done, imp{1} done, imp{2} done, imp{10} done, imp{11} done, imp{12} done, imp{13} done, imp{14} done, imp{15} done, imp{16} done, imp{17} done, imp{18} done, imp{19} done, imp{20} done, imp{21} done, imp{22} done, imp{23} done, imp{28} done, imp{24} done, imp{25} done, imp{26} done, imp{27} done, imp{29} done, imp{33} done, imp{30} done, imp{31} done, imp{34} done, imp{32} done, imp{35} done, imp{36} done, imp{37} done, imp{38} done, imp{41} done, imp{39} done, imp{40} done, imp{42} done, imp{43} done, imp{44} done, imp{45} done, imp{46} done, imp{47} done, imp{48} done, imp{50} done, imp{52} done, imp{49} done, imp{51} done, imp{53} done, imp{54} done, imp{56} done, imp{55} done, imp{57} done, imp{60} done, imp{58} done, imp{59} done, imp{62} done, imp{61} done, imp{63} done, imp{64} done, imp{65} done, imp{67} done, imp{68} done, imp{72} done, imp{69} done, imp{70} done, imp{73} done, imp{74} done, imp{75} done, imp{85} done, imp{86} done, imp{87} done, imp{88} done, imp{89} done, imp{90} done, imp{91} done, imp{92} done, imp{93} done, imp{94} done, imp{76} done, imp{77} done, imp{95} done, imp{98} done, imp{71} done, imp{99} done, imp{66} done, imp{84} done, imp{78} done, imp{79} done, imp{80} done, imp{81} done, imp{82} done, imp{83} done, imp{96} done, imp{97} done, \n",
      "Doing important finished.\n",
      "Doing important result: 328350\n"
     ]
    }
   ],
   "source": [
    "// Only create custom 'CoroutineScope' when it is neccessary.\n",
    "\n",
    "val threadNo = 10\n",
    "val contextJob = Job()\n",
    "val contextDispatcher = Executors.newFixedThreadPool(threadNo).asCoroutineDispatcher()\n",
    "val context: CoroutineContext = contextDispatcher + contextJob + CoroutineName(\"Powerful but heavy Scope\")\n",
    "val myScope = CoroutineScope(context)\n",
    "\n",
    "suspend fun doImportant(): List<Int> {\n",
    "    // Fetch your backend\n",
    "    println(\"Doing important started.\")\n",
    "    val reqs = List(100) { i ->\n",
    "        myScope.async { \n",
    "            delay(1000)\n",
    "            print(\"imp{$i} done, \") \n",
    "            i*i\n",
    "        }\n",
    "    }\n",
    "    val res = reqs.awaitAll()\n",
    "    println(\"\\nDoing important finished.\")\n",
    "    return res\n",
    "}\n",
    "fun main() = runBlocking {\n",
    "    val res = doImportant()\n",
    "    myScope.cancel()\n",
    "    println(\"Doing important result: ${res.sum()}\")\n",
    "}\n",
    "main()                           "
   ]
  },
  {
   "cell_type": "code",
   "execution_count": 8,
   "id": "584dbc58-abab-4d27-82c4-0814e2dacf7b",
   "metadata": {},
   "outputs": [
    {
     "name": "stdout",
     "output_type": "stream",
     "text": [
      "Doing important started.\n",
      "imp{1} done, imp{0} done, imp{3} done, imp{4} done, imp{5} done, imp{6} done, imp{7} done, imp{9} done, imp{10} done, imp{11} done, imp{12} done, imp{2} done, imp{13} done, imp{14} done, imp{17} done, imp{15} done, imp{18} done, imp{16} done, imp{19} done, imp{20} done, imp{21} done, imp{22} done, imp{23} done, imp{24} done, imp{25} done, imp{26} done, imp{27} done, imp{28} done, imp{29} done, imp{30} done, imp{31} done, imp{33} done, imp{32} done, imp{34} done, imp{35} done, imp{37} done, imp{36} done, imp{38} done, imp{43} done, imp{39} done, imp{40} done, imp{41} done, imp{42} done, imp{44} done, imp{45} done, imp{46} done, imp{47} done, imp{48} done, imp{8} done, imp{49} done, imp{50} done, imp{51} done, imp{52} done, imp{53} done, imp{54} done, imp{55} done, imp{56} done, imp{57} done, imp{58} done, imp{59} done, imp{60} done, imp{61} done, imp{62} done, imp{63} done, imp{64} done, imp{65} done, imp{67} done, imp{66} done, imp{68} done, imp{69} done, imp{70} done, imp{71} done, imp{72} done, imp{82} done, imp{73} done, imp{83} done, imp{84} done, imp{85} done, imp{86} done, imp{87} done, imp{88} done, imp{89} done, imp{90} done, imp{92} done, imp{93} done, imp{94} done, imp{95} done, imp{96} done, imp{97} done, imp{98} done, imp{99} done, imp{74} done, imp{75} done, imp{76} done, imp{77} done, imp{78} done, imp{79} done, imp{80} done, imp{81} done, imp{91} done, \n",
      "Doing important finished.\n",
      "Doing important result: 328350\n"
     ]
    }
   ],
   "source": [
    "// Or it is better to do it using 'withContext' as:\n",
    "\n",
    "val threadNo = 10\n",
    "val myDispatcher: CoroutineContext = Executors.newFixedThreadPool(threadNo).asCoroutineDispatcher()\n",
    "\n",
    "suspend fun doImportant(): List<Int> = withContext(myDispatcher) {\n",
    "    // Fetch your backend\n",
    "    println(\"Doing important started.\")\n",
    "    val reqs = List(100) { i ->\n",
    "        async { \n",
    "            delay(1000)\n",
    "            print(\"imp{$i} done, \") \n",
    "            i*i\n",
    "        }\n",
    "    }\n",
    "    val res = reqs.awaitAll()\n",
    "    println(\"\\nDoing important finished.\")\n",
    "    return@withContext res\n",
    "}\n",
    "fun main() = runBlocking {\n",
    "    val res = doImportant()\n",
    "    myDispatcher.cancel()\n",
    "    println(\"Doing important result: ${res.sum()}\")\n",
    "}\n",
    "main()       "
   ]
  },
  {
   "cell_type": "code",
   "execution_count": 9,
   "id": "9acb3671-518b-4957-8c1a-97bd00da354c",
   "metadata": {},
   "outputs": [
    {
     "name": "stdout",
     "output_type": "stream",
     "text": [
      "Program Started\n",
      "Critical part of the code started.\n",
      "Critical part of the code encountered an exception.\n",
      "Finalization has been done.\n"
     ]
    },
    {
     "data": {
      "text/plain": [
       "StandaloneCoroutine{Completed}@631f0cf3"
      ]
     },
     "execution_count": 9,
     "metadata": {},
     "output_type": "execute_result"
    }
   ],
   "source": [
    "/*\n",
    "Consider finalising things in critical part of your code\n",
    "when a cancellation request might be received.\n",
    "*/\n",
    "\n",
    "fun main() = runBlocking {\n",
    "    launch {\n",
    "        withTimeoutOrNull(3000) {\n",
    "            println(\"Program Started\")\n",
    "            delay(1000)\n",
    "            criticalPart() \n",
    "            println(\"Program Finished\")\n",
    "        } \n",
    "    }\n",
    "}\n",
    "\n",
    "suspend fun criticalPart() {\n",
    "    try {\n",
    "        println(\"Critical part of the code started.\")\n",
    "        delay(3000)\n",
    "        println(\"Critical part of the code finished.\")\n",
    "    } finally {\n",
    "        println(\"Critical part of the code encountered an exception.\")\n",
    "        println(\"Finalization has been done.\")\n",
    "    }\n",
    "    \n",
    "}\n",
    "main()"
   ]
  },
  {
   "cell_type": "code",
   "execution_count": 10,
   "id": "27b8d0c9-0197-4778-9c2d-56ec731d72a2",
   "metadata": {},
   "outputs": [
    {
     "name": "stdout",
     "output_type": "stream",
     "text": [
      "Program Started\n",
      "Critical part of the code started.\n",
      "A cancellation request was received: Timed out waiting for 3000 ms\n",
      "Critical part of the code encountered an exception.\n",
      "Finalization has been done.\n"
     ]
    },
    {
     "data": {
      "text/plain": [
       "StandaloneCoroutine{Completed}@53220354"
      ]
     },
     "execution_count": 10,
     "metadata": {},
     "output_type": "execute_result"
    }
   ],
   "source": [
    "/*\n",
    "You can catch a cancellation error (and re-throw it if you want)\n",
    "*/\n",
    "\n",
    "fun main() = runBlocking {\n",
    "    launch {\n",
    "        withTimeoutOrNull(3000) {\n",
    "            println(\"Program Started\")\n",
    "            delay(1000)\n",
    "            criticalPart() \n",
    "            println(\"Program Finished\")\n",
    "        } \n",
    "    }\n",
    "}\n",
    "\n",
    "suspend fun criticalPart() {\n",
    "    try {\n",
    "        println(\"Critical part of the code started.\")\n",
    "        delay(3000)\n",
    "    } catch(e: CancellationException) {\n",
    "        println(\"A cancellation request was received: ${e.message}\")\n",
    "    } catch(e: Exception) {\n",
    "        println(\"Other exceptions happened: ${e.message}\")\n",
    "    } finally {\n",
    "        println(\"Critical part of the code encountered an exception.\")\n",
    "        println(\"Finalization has been done.\")\n",
    "    }\n",
    "    delay(1000) // Cancellation request still exists and will apply here at this suspension point.\n",
    "    println(\"Critical part of the code finished.\")  // Won't be shown\n",
    "}\n",
    "main()"
   ]
  },
  {
   "cell_type": "code",
   "execution_count": 11,
   "id": "142a891a-4d05-4c91-9a72-d7415e2f49ad",
   "metadata": {},
   "outputs": [
    {
     "name": "stdout",
     "output_type": "stream",
     "text": [
      "Program Started\n",
      "Critical part of the code started.\n",
      "Critical part of the code finished.\n"
     ]
    },
    {
     "data": {
      "text/plain": [
       "StandaloneCoroutine{Completed}@3e4761ac"
      ]
     },
     "execution_count": 11,
     "metadata": {},
     "output_type": "execute_result"
    }
   ],
   "source": [
    "// Or you can use non-cancellable\n",
    "\n",
    "fun main() = runBlocking {\n",
    "    launch {\n",
    "        withTimeoutOrNull(3000) {\n",
    "            println(\"Program Started\")\n",
    "            delay(1000)\n",
    "            criticalPart() \n",
    "            delay(1000)  // Cancels here\n",
    "            println(\"Program Finished\")  // Won't run\n",
    "        } \n",
    "    }\n",
    "}\n",
    "\n",
    "suspend fun criticalPart() = withContext(NonCancellable) {\n",
    "    println(\"Critical part of the code started.\")\n",
    "    delay(3000)\n",
    "    println(\"Critical part of the code finished.\") \n",
    "}\n",
    "main()"
   ]
  },
  {
   "cell_type": "code",
   "execution_count": null,
   "id": "dee13ef2-153c-4b4f-8ae8-e867e31c4e4e",
   "metadata": {},
   "outputs": [],
   "source": []
  }
 ],
 "metadata": {
  "kernelspec": {
   "display_name": "Kotlin",
   "language": "kotlin",
   "name": "kotlin"
  },
  "language_info": {
   "codemirror_mode": "text/x-kotlin",
   "file_extension": ".kt",
   "mimetype": "text/x-kotlin",
   "name": "kotlin",
   "nbconvert_exporter": "",
   "pygments_lexer": "kotlin",
   "version": "1.9.23"
  }
 },
 "nbformat": 4,
 "nbformat_minor": 5
}
