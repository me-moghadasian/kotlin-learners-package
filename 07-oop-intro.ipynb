{
 "cells": [
  {
   "cell_type": "markdown",
   "id": "a4b1492b-6467-4470-9c42-b36820a2069d",
   "metadata": {},
   "source": [
    "# Introducing **Object Oriented Programming**"
   ]
  },
  {
   "cell_type": "markdown",
   "id": "f1ee2973-830e-4ae6-9488-b1b46bdba8d7",
   "metadata": {},
   "source": [
    "## Inheritance\n",
    "\n",
    "* Inheritance allows a class to inherit properties and methods from another class. This helps in reusing code and establishing a hierarchy.\n",
    "\n",
    "* In Kotlin, you use the `open` keyword to make a class inheritable and the `:` syntax to inherit from a class."
   ]
  },
  {
   "cell_type": "code",
   "execution_count": 1,
   "id": "5d2ebd3c-289e-4dcc-9767-19f34e15f8d9",
   "metadata": {},
   "outputs": [],
   "source": [
    "// Explaining simple inheritance\n",
    "\n",
    "// Superclass\n",
    "open class Animal\n",
    "\n",
    "// A subclass\n",
    "class Dog : Animal()  // Calling superclass' constructor [here, it is the default constructor]\n",
    "\n",
    "// Another subclass\n",
    "class Cat : Animal() // Calling superclass' constructor [here, it is the default constructor]"
   ]
  },
  {
   "cell_type": "code",
   "execution_count": 2,
   "id": "3daa371a-6b3d-4582-8888-439bad2e996f",
   "metadata": {},
   "outputs": [
    {
     "name": "stdout",
     "output_type": "stream",
     "text": [
      "Animal makes a sound.\n",
      "A cat meows\n",
      "Animal makes a sound.\n",
      "A dog barks\n"
     ]
    }
   ],
   "source": [
    "// Inheriting methods [non-private members are inherited]\n",
    "\n",
    "open class Animal {\n",
    "    fun speak() {\n",
    "        println(\"Animal makes a sound.\")\n",
    "    }\n",
    "}\n",
    "\n",
    "class Dog : Animal()  {\n",
    "    fun bark() {\n",
    "        speak();  // Dog inherits 'speak' from its superclass\n",
    "        println(\"A dog barks\")\n",
    "    }\n",
    "}\n",
    "\n",
    "class Cat : Animal() {\n",
    "    fun meow() {\n",
    "        speak(); // Cat inherits 'speak' from its superclass\n",
    "        println(\"A cat meows\")\n",
    "    }\n",
    "}\n",
    "\n",
    "val cat = Cat()\n",
    "cat.meow()\n",
    "\n",
    "val dog = Dog()\n",
    "dog.bark()"
   ]
  },
  {
   "cell_type": "code",
   "execution_count": 3,
   "id": "8f30f50a-0536-4058-aeca-d7110fe1e710",
   "metadata": {},
   "outputs": [
    {
     "name": "stdout",
     "output_type": "stream",
     "text": [
      "Chicco makes a sound.\n",
      "Chicco (Persian) meows\n",
      "cat's name: Chicco\n",
      "Titi makes a sound.\n",
      "Titi (Golden) barks\n",
      "Dogs's name: Titi\n"
     ]
    }
   ],
   "source": [
    "// Inheriting properties [non-private members are inherited]\n",
    "\n",
    "open class Animal(val name: String) {\n",
    "    private val somePrivateMember = \"A private member\"\n",
    "    \n",
    "    protected fun speak() { // The protected member will be inherited\n",
    "        println(\"${name} makes a sound.\")\n",
    "    }\n",
    "}\n",
    "\n",
    "// 'name' in  'Dog(name: String,...' is just a parameter not 'Dog' property\n",
    "class Dog(name: String, val breed: String) : Animal(name)  {\n",
    "    // Dog inherits 'name' from its superclass\n",
    "    fun bark() {\n",
    "        // Dog inherits 'speak' from its superclass\n",
    "        speak(); \n",
    "        println(\"${name} (${breed}) barks\")\n",
    "    }\n",
    "}\n",
    "\n",
    "// 'name' in  'Cat(name: String,...' is just a parameter not 'Cat' property\n",
    "class Cat(name: String, val breed: String) : Animal(name) {\n",
    "    // Cat inherits 'name' from its superclass\n",
    "    fun meow() {\n",
    "        // Cat inherits 'speak' from its superclass\n",
    "        speak(); \n",
    "        println(\"${name} (${breed}) meows\")\n",
    "    }\n",
    "}\n",
    "\n",
    "val animal = Animal(\"Lolo\")\n",
    "// animal.speak()  // Thorws an exception\n",
    "\n",
    "val cat = Cat(\"Chicco\", \"Persian\")\n",
    "cat.meow()\n",
    "println(\"cat's name: ${cat.name}\")\n",
    "\n",
    "val dog = Dog(\"Titi\", \"Golden\")\n",
    "dog.bark()\n",
    "println(\"Dogs's name: ${dog.name}\")"
   ]
  },
  {
   "cell_type": "code",
   "execution_count": 4,
   "id": "400d5b04-c538-4ab7-9165-774857481653",
   "metadata": {},
   "outputs": [
    {
     "name": "stdout",
     "output_type": "stream",
     "text": [
      "Animal's primary constructor is called.\n",
      "Cat's primary constructor is called.\n"
     ]
    }
   ],
   "source": [
    "// Chaining subclass-supercalss primary constructors\n",
    "\n",
    "open class Animal(val name: String) {\n",
    "    init {\n",
    "        println(\"Animal's primary constructor is called.\")\n",
    "    }\n",
    "}\n",
    "\n",
    "class Cat(name: String, val breed: String) : Animal(name) {\n",
    "    init {\n",
    "        println(\"Cat's primary constructor is called.\")\n",
    "    }\n",
    "}\n",
    "\n",
    "// The constructor chain: Animal's primary -> Cat's primary\n",
    "val cat = Cat(\"Chicco\", \"Persian\")"
   ]
  },
  {
   "cell_type": "code",
   "execution_count": 5,
   "id": "7b3811e6-9b95-4cfb-a971-17249505b49c",
   "metadata": {},
   "outputs": [
    {
     "name": "stdout",
     "output_type": "stream",
     "text": [
      "Animal's primary constructor is called.\n",
      "Cat's primary constructor is called.\n",
      "Cat's secondary constructor is called.\n"
     ]
    }
   ],
   "source": [
    "// Chaining subclass-supercalss constructors through secondary constructor\n",
    "\n",
    "open class Animal(val name: String) {\n",
    "    init {\n",
    "        println(\"Animal's primary constructor is called.\")\n",
    "    }\n",
    "}\n",
    "\n",
    "/*\n",
    "Calls Animal's primary constructor, then Cat's primary constructor. \n",
    "*/\n",
    "class Cat(name: String) : Animal(name) {\n",
    "    init {\n",
    "        println(\"Cat's primary constructor is called.\")\n",
    "    }\n",
    "\n",
    "    var breed = \"\"\n",
    "    \n",
    "    constructor (name: String, breed: String) : this(name) { // Calls its primary constructor\n",
    "        this.breed = breed\n",
    "        println(\"Cat's secondary constructor is called.\")\n",
    "    }\n",
    "}\n",
    "\n",
    "// Using secondary constructor.\n",
    "// The constructor chain: Animal's primary -> Cat's primary -> Cat's secondary\n",
    "val cat = Cat(\"Chicco\", \"Persian\")"
   ]
  },
  {
   "cell_type": "code",
   "execution_count": 6,
   "id": "c37f3f40-4d14-4989-b108-cd19120962e8",
   "metadata": {},
   "outputs": [
    {
     "name": "stdout",
     "output_type": "stream",
     "text": [
      "Animal's primary constructor is called.\n",
      "Cat's default constructor is called.\n",
      "Cat's secondary constructor is called.\n"
     ]
    }
   ],
   "source": [
    "\n",
    "// Chaining subclass-supercalss constructors when the primary constructor does not exist in the subclass\n",
    "\n",
    "open class Animal(val name: String) {\n",
    "    init {\n",
    "        println(\"Animal's primary constructor is called.\")\n",
    "    }\n",
    "}\n",
    "\n",
    "class Cat : Animal { // There is no call to superclass constructor here bacause Cat does not have primary constructor\n",
    "    init {\n",
    "        println(\"Cat's default constructor is called.\")\n",
    "    }\n",
    "\n",
    "    var breed = \"\"\n",
    "\n",
    "    /*\n",
    "    Since Cat has no primary constructor it must directly call its super class constructor using 'super' keyword.\n",
    "    */\n",
    "    constructor (name: String, breed: String) : super(name) {\n",
    "        this.breed = breed\n",
    "        println(\"Cat's secondary constructor is called.\")\n",
    "    }\n",
    "}\n",
    "\n",
    "// The constructor chain: Animal's primary -> Cat's default -> Cat's secondary\n",
    "val cat = Cat(\"Chicco\", \"Persian\")"
   ]
  },
  {
   "cell_type": "markdown",
   "id": "3538df67-1863-4cfc-b3d1-d154f686f468",
   "metadata": {},
   "source": [
    "## Polymorphism\n",
    "\n",
    "* Polymorphism allows objects to be treated as instances of their parent class rather than their actual class. \n",
    "This can be achieved through **method overriding** (runtime polymorphism) and **method overloading** (compile-time polymorphism).\n",
    "\n",
    "* In Kotlin, method overriding is done using the `override` keyword."
   ]
  },
  {
   "cell_type": "code",
   "execution_count": 7,
   "id": "a3227477-d5f8-4c81-ac28-0b2a89bfb2ad",
   "metadata": {},
   "outputs": [
    {
     "name": "stdout",
     "output_type": "stream",
     "text": [
      "Loly runs with normal speed.\n",
      "Loly runs with speed 10.\n",
      "Lolylo runs with normal speed.\n",
      "Lolylo runs with speed 10.\n"
     ]
    }
   ],
   "source": [
    "// Method overloading\n",
    "\n",
    "open class Animal(val name: String) {\n",
    "    // These two methods have the same name but different aparameters\n",
    "    fun run() {\n",
    "        println(\"$name runs with normal speed.\")\n",
    "    }\n",
    "\n",
    "    fun run(speed: Int) {\n",
    "        println(\"$name runs with speed $speed.\")\n",
    "    }\n",
    "}\n",
    "\n",
    "val animal = Animal(\"Loly\")\n",
    "animal.run()\n",
    "animal.run(10)\n",
    "\n",
    "// Suggestion: use default parameters instead; it is cleared most of the time.\n",
    "open class AnimalModified(val name: String) {\n",
    "    // A method with default parameter\n",
    "    fun run(speed: Int = 0) {\n",
    "        if (speed == 0) println(\"$name runs with normal speed.\") else println(\"$name runs with speed $speed.\")\n",
    "    }\n",
    "}\n",
    "\n",
    "val animalMod = AnimalModified(\"Lolylo\")\n",
    "animalMod.run()\n",
    "animalMod.run(10)"
   ]
  },
  {
   "cell_type": "code",
   "execution_count": 8,
   "id": "274cbb01-6fc9-4f9f-94b7-99de00eb7bc8",
   "metadata": {},
   "outputs": [
    {
     "name": "stdout",
     "output_type": "stream",
     "text": [
      "Rob runs with normal speed.\n",
      "Cats are fast animals.\n"
     ]
    }
   ],
   "source": [
    "// Method overriding\n",
    "\n",
    "open class Animal(val name: String) {\n",
    "    \n",
    "    // The keyword 'open' is used so that subclass can override this function\n",
    "    // The 'run' function is 'protected' here\n",
    "    open protected fun run(speed: Int = 0) {\n",
    "        if (speed == 0) println(\"$name runs with normal speed.\") else println(\"$name runs with speed $speed.\")\n",
    "    }\n",
    "}\n",
    "\n",
    "class Cat(name: String) :  Animal(name) {\n",
    "    // The keyword 'override' is used to override the superclass function\n",
    "    // The 'run' function is overriden as 'public' here\n",
    "    override public fun run(speed: Int) {\n",
    "        super.run(speed) // Optionally, superclass 'run' can be called.\n",
    "        println(\"Cats are fast animals.\") // Additional implementations is added.\n",
    "    }\n",
    "}\n",
    "\n",
    "val rob = Cat(\"Rob\")\n",
    "rob.run()"
   ]
  },
  {
   "cell_type": "code",
   "execution_count": 9,
   "id": "0712f8be-07bc-49c5-aaef-95a5ec6edd16",
   "metadata": {},
   "outputs": [
    {
     "name": "stdout",
     "output_type": "stream",
     "text": [
      "Rob is a Scottish cat.\n",
      "Rob is a Maine Coon cat.\n"
     ]
    }
   ],
   "source": [
    "// Property overriding\n",
    "\n",
    "open class Animal(val name: String) {\n",
    "    // The keyword 'open' is used so that subclass can override this property\n",
    "    open protected val breed: String = \"NOT_SPECIFIED\"\n",
    "}\n",
    "\n",
    "class Cat(name: String, bread: String) :  Animal(name) {\n",
    "    // The keyword 'override' MUST be used to override the superclass property\n",
    "    // The 'breed' property is overriden as 'public' here\n",
    "    // The 'breed' property is now a 'var' not 'val'\n",
    "    override public var breed: String = bread\n",
    "}\n",
    "\n",
    "val rob = Cat(\"Rob\", \"Scottish\")\n",
    "println(\"${rob.name} is a ${rob.breed} cat.\")\n",
    "rob.breed = \"Maine Coon\"\n",
    "println(\"${rob.name} is a ${rob.breed} cat.\")"
   ]
  },
  {
   "cell_type": "markdown",
   "id": "083cc932-3e07-4b11-b184-d17ed9378817",
   "metadata": {},
   "source": [
    "## Abstraction\n",
    "\n",
    "* Abstraction involves hiding complex implementation details and showing only the necessary features of an object.\n",
    "\n",
    "* In Kotlin, you can achieve abstraction using abstract classes and interfaces. An abstract class cannot be instantiated and can have abstract methods that must be implemented by subclasses."
   ]
  },
  {
   "cell_type": "code",
   "execution_count": 10,
   "id": "7bf8b45e-0c3c-41c1-b4b3-d16291b2ff6d",
   "metadata": {},
   "outputs": [
    {
     "name": "stdout",
     "output_type": "stream",
     "text": [
      "Hello\n",
      "Cats are fast animals.\n",
      "Rob is a Persian cat.\n",
      "Rob is a Maine Coon cat.\n"
     ]
    }
   ],
   "source": [
    "// Overriding abstract class members\n",
    "\n",
    "// Class must be labelled as abstract\n",
    "abstract class Animal(val name: String) {\n",
    "\n",
    "    // Abstract classes can have non-abstract members\n",
    "    fun speak() {\n",
    "        println(\"Hello\")\n",
    "    }\n",
    "    \n",
    "    // The keyword 'abstract' is used so that subclass override this function.\n",
    "    // The 'run' function is 'protected' here.\n",
    "    // There is no implementation.\n",
    "    abstract protected fun run()  // 'run' cannot have body\n",
    "    abstract protected val breed: String  // 'breed' cannot be initialized\n",
    "}\n",
    "\n",
    "\n",
    "// All abstract members MUST be overriden\n",
    "class Cat(name: String, breed: String) :  Animal(name) {\n",
    "    // The keyword 'override' MUST be used to override the superclass function.\n",
    "    // The 'run' function is overriden as 'public' here\n",
    "    override public fun run() {\n",
    "        // super.run(speed) // superclass 'run' cannot be called because it is abstract memeber\n",
    "        println(\"Cats are fast animals.\") // Additional implementations is added.\n",
    "    }\n",
    "\n",
    "    // The keyword 'override' MUST be used to override the superclass property\n",
    "    // The 'breed' property is overriden as 'public' here\n",
    "    // The 'breed' property is now a 'var' not 'val'\n",
    "    override public var breed: String = breed\n",
    "}\n",
    "\n",
    "val rob = Cat(\"Rob\", \"Persian\")\n",
    "rob.speak()\n",
    "rob.run()\n",
    "println(\"${rob.name} is a ${rob.breed} cat.\")\n",
    "rob.breed = \"Maine Coon\"\n",
    "println(\"${rob.name} is a ${rob.breed} cat.\")"
   ]
  },
  {
   "cell_type": "code",
   "execution_count": null,
   "id": "4d9f2212-309d-4fbb-8d51-0c7f755ed2f9",
   "metadata": {},
   "outputs": [],
   "source": []
  }
 ],
 "metadata": {
  "kernelspec": {
   "display_name": "Kotlin",
   "language": "kotlin",
   "name": "kotlin"
  },
  "language_info": {
   "codemirror_mode": "text/x-kotlin",
   "file_extension": ".kt",
   "mimetype": "text/x-kotlin",
   "name": "kotlin",
   "nbconvert_exporter": "",
   "pygments_lexer": "kotlin",
   "version": "1.9.23"
  }
 },
 "nbformat": 4,
 "nbformat_minor": 5
}
