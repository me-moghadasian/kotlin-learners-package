{
 "cells": [
  {
   "cell_type": "markdown",
   "id": "4cb0eed6-eb56-48e2-8a28-867af591e625",
   "metadata": {},
   "source": [
    "# Introducing **Functions**\n",
    "- Functions are introduced.\n",
    "- Type-check and type conversions are briefly covered.\n",
    "- Type aliasing is introduced.\n",
    "- Anonymous functions are explaind.\n",
    "- High-order functions are discussed briefly."
   ]
  },
  {
   "cell_type": "markdown",
   "id": "981166c7-f2b7-4c13-b8c1-90df97a8a3fc",
   "metadata": {},
   "source": [
    "## Simple functions"
   ]
  },
  {
   "cell_type": "code",
   "execution_count": 1,
   "id": "745429a5-3f40-474a-a2d3-4081f0ddeccf",
   "metadata": {},
   "outputs": [
    {
     "name": "stdout",
     "output_type": "stream",
     "text": [
      "Addition result: 9\n",
      "multiplication result: 20\n"
     ]
    }
   ],
   "source": [
    "// Defining simple function\n",
    "// We use 'fun' to declare a function\n",
    "// We specify the type of parameters as \"variable: type\"\n",
    "// We specify the type of function return as \"fun funName(...): type {...}\"\n",
    "fun add(a: Int, b: Int): Int {\n",
    "    val result = a + b\n",
    "    return result;\n",
    "}\n",
    "println(\"Addition result: ${add(5, 4)}\")\n",
    "\n",
    "// Function with no return\n",
    "// We use \"Unit\" as return type when there is no value to return; we can also omitt \": Unit\" part\n",
    "fun multiply(a: Int, b: Int): Unit { \n",
    "    val result = a * b\n",
    "    println(\"multiplication result: $result\")\n",
    "    return;\n",
    "}\n",
    "multiply(5, 4)"
   ]
  },
  {
   "cell_type": "markdown",
   "id": "8d3e889c-69e7-490e-8466-dd51da306f57",
   "metadata": {},
   "source": [
    "## Defining functions by expression"
   ]
  },
  {
   "cell_type": "code",
   "execution_count": 2,
   "id": "40ff6957-bc50-44b9-800f-35cd77aeef92",
   "metadata": {},
   "outputs": [
    {
     "name": "stdout",
     "output_type": "stream",
     "text": [
      "Single line function result: 7\n",
      "'run' block in progress...\n",
      "Run block function result: -1\n"
     ]
    }
   ],
   "source": [
    "// Single functions\n",
    "fun add(a: Double, b: Float) = a + b\n",
    "println(\"Single line function result: ${add(3, 4)}\")\n",
    "\n",
    "// using 'run' block\n",
    "fun subtract(a: Int, b: Int) = run {\n",
    "    println(\"'run' block in progress...\")\n",
    "    a - b // Returns\n",
    "}\n",
    "println(\"Run block function result: ${subtract(3, 4)}\")"
   ]
  },
  {
   "cell_type": "markdown",
   "id": "26265503-d182-458f-89e7-61244ca11c1a",
   "metadata": {},
   "source": [
    "## Using type-check operator **is** and type-cast operators **as** and **as?**\n",
    "**NOTE**: these operators usage is mostly related to *superclass-subclass* that we will cover it later and explain the usage in more details. For now, just an introduction is given.\n"
   ]
  },
  {
   "cell_type": "code",
   "execution_count": 3,
   "id": "97c439eb-0fb3-40c5-a9f0-e4b43576ed3e",
   "metadata": {},
   "outputs": [
    {
     "name": "stdout",
     "output_type": "stream",
     "text": [
      "Int\n",
      "kotlin.Int\n",
      "class kotlin.Int\n",
      "The varibale 'a' is an 'Int'\n",
      "The varibale 'a' is an 'Any'\n",
      "The varibale 'number' is a Double\n",
      "The varibale 'text' is a String\n"
     ]
    }
   ],
   "source": [
    "// Introducing 'is'\n",
    "\n",
    "/* Getting a variable type name: \n",
    "we use 'variable::class.simpleName', 'variable::class.qualifiedName' or variable::class for this\n",
    "*/\n",
    "val a = 1\n",
    "println(a::class.simpleName) // Output: Int\n",
    "println(a::class.qualifiedName) // Output: kotlin.Int\n",
    "println(a::class) // Output: class kotlin.Int\n",
    "\n",
    "// Using `is` to check variable type\n",
    "if (a is Int) {\n",
    "    println(\"The varibale 'a' is an 'Int'\")\n",
    "}\n",
    "\n",
    "if (a is Any) {\n",
    "    println(\"The varibale 'a' is an 'Any'\") // 'Int' is subtype of 'Any' so the result is true\n",
    "}\n",
    "\n",
    "val number = 10.0\n",
    "val text = \"Hello\"\n",
    "\n",
    "if (number is Double) {\n",
    "    println(\"The varibale 'number' is a Double\")\n",
    "}\n",
    "\n",
    "if (text is String) {\n",
    "    println(\"The varibale 'text' is a String\")\n",
    "}"
   ]
  },
  {
   "cell_type": "code",
   "execution_count": 4,
   "id": "cd90f9b2-77c1-4fb3-b05a-689c9036a09c",
   "metadata": {},
   "outputs": [
    {
     "name": "stdout",
     "output_type": "stream",
     "text": [
      "the variable 'intNumber': 10\n",
      "Cast is not possible: java.lang.ClassCastException: class java.lang.String cannot be cast to class java.lang.Integer (java.lang.String and java.lang.Integer are in module java.base of loader 'bootstrap')\n",
      "Safe-cast result: null \n"
     ]
    }
   ],
   "source": [
    "// Introducing 'as' and 'as?'\n",
    "\n",
    "// Using 'as': This is not safe and might throw an exception\n",
    "val anyNumber: Any = 10\n",
    "val intNumber = anyNumber as Int\n",
    "println(\"the variable 'intNumber': $intNumber\")\n",
    "\n",
    "try {\n",
    "    val anyText: Any = \"Hello\"\n",
    "    val intText = anyText as Int // This will throw a ClassCastException\n",
    "} catch(e: Exception) {\n",
    "    println(\"Cast is not possible: ${e}\")\n",
    "}\n",
    "\n",
    "// Using 'as?': This is safe and will return null if cast is not possible\n",
    "val anyText: Any = \"Hello\"\n",
    "val intText = anyText as? Int \n",
    "println(\"Safe-cast result: ${intText} \")"
   ]
  },
  {
   "cell_type": "code",
   "execution_count": 5,
   "id": "d60109a6-1b2d-4a67-8ac9-ffae80b2fae4",
   "metadata": {},
   "outputs": [
    {
     "name": "stdout",
     "output_type": "stream",
     "text": [
      "Safe-cast with Elvis result: 0 and its type is: Int\n"
     ]
    }
   ],
   "source": [
    "// Using 'as?' \n",
    "\n",
    "/* We can combine 'as?' with elvis operator '?:' if we are not interested in 'null' \n",
    "or we want to provide a default value just in case the cast fails.\n",
    "*/\n",
    "val anyText: Any = \"Hello\"\n",
    "val intText = anyText as? Int ?: 0\n",
    "print(\"Safe-cast with Elvis result: ${intText} \")\n",
    "\n",
    "val intTextType = intText::class.simpleName\n",
    "println(\"and its type is: ${intTextType}\")"
   ]
  },
  {
   "cell_type": "markdown",
   "id": "28fa94c0-92a5-432c-986f-d1272bf06abf",
   "metadata": {},
   "source": [
    "## A funcion with parameter of type **Any**"
   ]
  },
  {
   "cell_type": "code",
   "execution_count": 6,
   "id": "c7cc9e09-e26d-4995-a64b-f30a62f0eaf4",
   "metadata": {},
   "outputs": [
    {
     "name": "stdout",
     "output_type": "stream",
     "text": [
      "Addition result 1: 9\n",
      "Addition result 2: 7\n",
      "Addition result 2: 4\n"
     ]
    }
   ],
   "source": [
    "// Using variable of Any type\n",
    "\n",
    "// Now we can send an 'Any' parameter to function, then cast it\n",
    "fun addAny(a: Int, b: Any): Int {\n",
    "    val bSafe = (b as? Int) ?: 0\n",
    "    val result = a + bSafe\n",
    "    return result;\n",
    "}\n",
    "val b: Any = 5\n",
    "val addResult = addAny(4, b)\n",
    "\n",
    "println(\"Addition result 1: $addResult\")\n",
    "println(\"Addition result 2: ${addAny(4, 3)}\")\n",
    "println(\"Addition result 2: ${addAny(4, \"Hello\")}\")"
   ]
  },
  {
   "cell_type": "markdown",
   "id": "c4699662-e721-4c0a-b7fb-1bbae5be3547",
   "metadata": {},
   "source": [
    "## Function reference and checking its type"
   ]
  },
  {
   "cell_type": "code",
   "execution_count": 7,
   "id": "cdfb6a40-53d0-4a64-b42b-9d24690a03f3",
   "metadata": {},
   "outputs": [
    {
     "name": "stdout",
     "output_type": "stream",
     "text": [
      "passed\n"
     ]
    }
   ],
   "source": [
    "// Getting a function's reference\n",
    "\n",
    "// Let's define a simple function\n",
    "// This function has its own type\n",
    "// The type is defined like: '([parameter1Type], [parameter2Type], ...) -> [returnType]'\n",
    "fun simpleFun(a: Int, b: Double): String {\n",
    "    return \"Hello World ${a+b}\"\n",
    "}\n",
    "\n",
    "// Les's get the function reference and check the type\n",
    "// We can get a function reference by '::functionName'\n",
    "val funReference = ::simpleFun\n",
    "if (funReference is (Int, Double) -> String) {\n",
    "    println(\"passed\")\n",
    "}\n"
   ]
  },
  {
   "cell_type": "markdown",
   "id": "cfd66cd1-0a73-48b6-a9cb-57be3919a584",
   "metadata": {},
   "source": [
    "## Type aliasing"
   ]
  },
  {
   "cell_type": "code",
   "execution_count": 8,
   "id": "8f066767-a4ef-4d1f-bf44-f435f9f102a8",
   "metadata": {},
   "outputs": [
    {
     "name": "stdout",
     "output_type": "stream",
     "text": [
      "passed\n"
     ]
    }
   ],
   "source": [
    "// Type aliasing is a way to simplify compex types like function and lambda types\n",
    "\n",
    "// Let's define this function\n",
    "fun simpleFun(a: Int, b: Double): String = \"Hello World ${a+b}\"\n",
    "\n",
    "// Its type is (Int, Double) -> String\n",
    "// We can create a type alias as simple as:\n",
    "typealias simpleFunctionType = (Int, Double) -> String\n",
    "\n",
    "// Let's do the type-check again\n",
    "if (::simpleFun is simpleFunctionType) println(\"passed\")"
   ]
  },
  {
   "cell_type": "markdown",
   "id": "568b106b-3820-459b-ae5c-eaf35ff54319",
   "metadata": {},
   "source": [
    "## High-order functions\n",
    "**NOTE**: High-order functions mostly tied to *Lambdas* but here we give a simple taste of its meaning"
   ]
  },
  {
   "cell_type": "code",
   "execution_count": 9,
   "id": "8b17f750-2138-4b96-bf3c-526b96e4aa03",
   "metadata": {},
   "outputs": [
    {
     "name": "stdout",
     "output_type": "stream",
     "text": [
      "A message from high order function: Hi\n",
      "Result of simpleFun: Hello World 2024\n"
     ]
    }
   ],
   "source": [
    "// Sending function's reference to another function to be executed there\n",
    "\n",
    "// Let's first define our function that is going to be send to another function\n",
    "fun simpleFun(a: Int, b: Int): String = \"Hello World ${a+b}\"\n",
    "\n",
    "// Let's first do the type aliasing for simplicity\n",
    "typealias simpleFunctionType = (Int, Int) -> String\n",
    "\n",
    "/* \n",
    "Now, we define a high order function that \n",
    "accepts a function of given type 'simpleFunctionType' as the second parameter\n",
    "*/\n",
    "fun simpleHighOrderFun(str: String, sfn: simpleFunctionType) {\n",
    "    println(\"A message from high order function: ${str}\")\n",
    "    val res = sfn(2000, 24)\n",
    "    println(\"Result of simpleFun: ${res}\")\n",
    "}\n",
    "\n",
    "// Now we call the high-order function and send it simpleFun reference\n",
    "simpleHighOrderFun(\"Hi\", ::simpleFun)"
   ]
  },
  {
   "cell_type": "markdown",
   "id": "955f4234-a72c-44a6-8175-dbecc1c6026c",
   "metadata": {},
   "source": [
    "## Anonymous functions [Functions without a name]"
   ]
  },
  {
   "cell_type": "code",
   "execution_count": 3,
   "id": "4ace99f4-c0f9-4a74-bdd1-240c449668f7",
   "metadata": {},
   "outputs": [
    {
     "name": "stdout",
     "output_type": "stream",
     "text": [
      "anonFun result: 10\n",
      "simpleAnonFun result: 20\n"
     ]
    }
   ],
   "source": [
    "// Introducing anonymous function\n",
    "\n",
    "// Anonyous functions are functions without a name and we only get their references\n",
    "// As you can see, name is missing after 'fun' but we need to assign the reference to a variable to use the fun later\n",
    "// Or we can directly pass them to a high-order function.\n",
    "val anonFunRef = fun (a: Int): Int {\n",
    "    return a*2\n",
    "}\n",
    "\n",
    "// Or we can define them in one line\n",
    "val simpleAnonFunRef = fun (a: Int) = a*2 // A bit confusing ;D\n",
    "\n",
    "// Let's call them\n",
    "val anonRes = anonFunRef(5) // We can also use 'anonFunRef.invoke(5)'\n",
    "val simpleAnonRes = simpleAnonFunRef(10)\n",
    "\n",
    "println(\"anonFun result: ${anonRes}\")\n",
    "println(\"simpleAnonFun result: ${simpleAnonRes(10)}\")"
   ]
  },
  {
   "cell_type": "code",
   "execution_count": null,
   "id": "162d2029-9d6f-463a-8619-87b4be3e9c2c",
   "metadata": {},
   "outputs": [],
   "source": []
  }
 ],
 "metadata": {
  "kernelspec": {
   "display_name": "Kotlin",
   "language": "kotlin",
   "name": "kotlin"
  },
  "language_info": {
   "codemirror_mode": "text/x-kotlin",
   "file_extension": ".kt",
   "mimetype": "text/x-kotlin",
   "name": "kotlin",
   "nbconvert_exporter": "",
   "pygments_lexer": "kotlin",
   "version": "1.9.23"
  }
 },
 "nbformat": 4,
 "nbformat_minor": 5
}
