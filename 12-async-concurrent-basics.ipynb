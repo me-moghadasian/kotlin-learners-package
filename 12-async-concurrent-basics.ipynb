{
 "cells": [
  {
   "cell_type": "markdown",
   "id": "f09e8985-93c9-45bc-b38d-ed32b8bb420d",
   "metadata": {},
   "source": [
    "# Kotlin **Asynchronous/Concurrrent** Programming Basics\n",
    "\n",
    "- **Coroutine scopes** and **launching** simple **coroutines** are discussed."
   ]
  },
  {
   "cell_type": "code",
   "execution_count": 1,
   "id": "60cef961-19a4-4dc4-8fc3-e50e0a238e92",
   "metadata": {},
   "outputs": [],
   "source": [
    "// Importing some neccessary libs in jupyter notebook\n",
    "@file:DependsOn(\"org.jetbrains.kotlinx:kotlinx-coroutines-core:1.5.2\")\n",
    "import kotlinx.coroutines.*\n",
    "import java.util.concurrent.Executors\n",
    "import kotlin.coroutines.CoroutineContext"
   ]
  },
  {
   "cell_type": "markdown",
   "id": "010e6a91-0247-4d92-a9fc-cdd0ffc3f721",
   "metadata": {},
   "source": [
    "## Coroutine Scopes\n",
    "\n",
    "- Two fundamental **coroutine bilders** in Kotlin are `runBlocking` and `coroutineScope`.\n",
    "- Both create **coroutine scopes** then we can run our coroutines in their scope.\n",
    "- All codes in the defined scopes (either launched or direct alls) should complete running so that the scop finishes.\n",
    "- `coroutineScope` builder returns a suspend function but `runBlocking` acts as normal function and blocks the assigned thread for itself.\n",
    "- In a **coroutine scope**, code execution is structured as: **Run**->**Suspend/Finish?**->**Run Jobs**->**Repeat/Procceed?**->**Finish and Return**."
   ]
  },
  {
   "cell_type": "code",
   "execution_count": 2,
   "id": "856f4be2-c5aa-4bf1-931c-68ba843fbfee",
   "metadata": {},
   "outputs": [
    {
     "name": "stdout",
     "output_type": "stream",
     "text": [
      "Program started\n",
      "The thread is not blocked. Just wait for resume ... \n",
      "The thread is not blocked; resumed \n",
      "Hello World\n",
      "somSuspendFun finished\n",
      "Result code is: 1\n",
      "Program finished\n"
     ]
    }
   ],
   "source": [
    "// Using 'coroutineScope' coroutine builder\n",
    "\n",
    "/*              --------------- IMPORTANT ---------------\n",
    "Intentionally, we limit the context to only 1 thread to see the non-blocking nature of coroutines.\n",
    "Creating custom 'CoroutineContext' will be discussed in more detailes later. \n",
    "*/\n",
    "val threadNo = 1\n",
    "val context: CoroutineContext = Executors.newFixedThreadPool(threadNo).asCoroutineDispatcher()\n",
    "//              -----------------------------------------\n",
    "\n",
    "// Defining the entry point with 'runBlocking'\n",
    "fun main() = runBlocking(context) { // the defined  'context' limits execution to 1 thread.\n",
    "    //.............runBlocking coroutine scope.................\n",
    "    println(\"Program started\")\n",
    "    \n",
    "    launch { // Lets launch a coroutine to see if the thread gets blocked by other suspend functions.\n",
    "        println(\"The thread is not blocked. Just wait for resume ... \")\n",
    "        delay(1000)\n",
    "        println(\"The thread is not blocked; resumed \")\n",
    "    }\n",
    "\n",
    "    val result = somSuspendFun()\n",
    "    println(\"Result code is: $result\")\n",
    "    \n",
    "    println(\"Program finished\")\n",
    "}\n",
    "\n",
    "// Creating a suspend function using 'coroutineScope' builder\n",
    "// 'suspend' keyword is used here because the coroutine is not a blocking function but a suspending one.\n",
    "suspend fun somSuspendFun(): Int = coroutineScope { // Only for experiment, change 'coroutineScope' to 'runBlocking' to see how execution gets blocked\n",
    "    //.............somSuspendFun coroutine scope.................\n",
    "    // This function isolates its execution scope from outer scopes.\n",
    "    // This function has its own scope, but (as default,) inherits its context from the outer block, e.g runBlocking.\n",
    "    // So it uses runBlocking context and its only thread.\n",
    " \n",
    "    delay(5_000) // somSuspendFun will suspend for 5 seconds.\n",
    "\n",
    "    // Let's also launch a coroutine in this scope.\n",
    "    // REMEMBER: 'launch' can only launch coroutines in a coroutine scope.\n",
    "    launch { // This will be executed after 'println(\"Hello World\")' because launched jobs are queued.\n",
    "        println(\"somSuspendFun finished\")\n",
    "    }\n",
    "\n",
    "    println(\"Hello World\")\n",
    "    \n",
    "    1 // The lambda retruns an Int which is the return value of 'somSuspendFun'\n",
    "    // we can also use 'return@coroutineScope 1'\n",
    "}\n",
    "\n",
    "// IMPORTANT: somSuspendFun does not block the thread; when it gets suspended, other jobs (if any) get executed.\n",
    "main()\n",
    "\n",
    "/* \n",
    "VERY INPORTANT: We are responsible for the context lifecycle management\n",
    "because we have defined a dedicated 'job' for it;\n",
    "we must 'cancel()' it when we are done.\n",
    "*/\n",
    "context.cancel() "
   ]
  },
  {
   "cell_type": "markdown",
   "id": "e5fe69b2-4f33-430a-97bb-7960480f8b63",
   "metadata": {},
   "source": [
    "## Launching coroutines by `launch/async`, returning a `Job/Deferred` objects and awaiting for the result"
   ]
  },
  {
   "cell_type": "code",
   "execution_count": 3,
   "id": "fb43198e-7010-4d41-86df-43ff56716c4b",
   "metadata": {},
   "outputs": [
    {
     "name": "stdout",
     "output_type": "stream",
     "text": [
      "Program started\n",
      "Hello\n",
      "Program finished\n"
     ]
    }
   ],
   "source": [
    "// Getting the 'Job' instance and joining\n",
    "\n",
    "fun main() = runBlocking { \n",
    "    //.............runBlocking coroutine scope.................\n",
    "    println(\"Program started\")\n",
    "\n",
    "    // REMEMBER: 'launch' can only launch coroutines in a coroutine scope.\n",
    "    // 'launch' queues the coroutine.\n",
    "    // 'launch' coroutine builder returns a 'Job' instance\n",
    "    val job: Job = launch { // 'launch' coroutine builder, returns a 'Job'. \n",
    "        println(\"Hello\")\n",
    "        // 'launch' returns 'Unit'\n",
    "    }\n",
    "\n",
    "    // It is possible to await for launch execution. 'join()' is a suspend function.\n",
    "    // Code suspends here until the 'job' completes.\n",
    "    job.join() // Comment this code to see the difference in execution order.\n",
    "    \n",
    "    println(\"Program finished\")\n",
    "}\n",
    "\n",
    "main()"
   ]
  },
  {
   "cell_type": "code",
   "execution_count": 4,
   "id": "46d98a53-da33-460a-bfda-f04d694d6b0f",
   "metadata": {},
   "outputs": [
    {
     "name": "stdout",
     "output_type": "stream",
     "text": [
      "Program started\n",
      "Waiting for both jobs to finish...\n",
      "Job 1 finished with result: Job 1 result\n",
      "Job 2 finished with result: Job 2 result\n",
      "Program finished\n"
     ]
    }
   ],
   "source": [
    "// Getting the 'Deferred' instance and awaiting for the result\n",
    "\n",
    "// The structure async/await is somehow similar to JavaScript async/await\n",
    "fun main() = runBlocking {\n",
    "    //.............runBlocking coroutine scope.................\n",
    "    println(\"Program started\")\n",
    "    \n",
    "    // 'async' is similar to 'launch' with the difference that it can return a value.\n",
    "    // A differed is a generic 'Deferred<[Return Type]>' type. Generics will be covered later.\n",
    "    val deferred1: Deferred<String> = async {\n",
    "        delay(1000L)\n",
    "        \"Job 1 result\"\n",
    "    }\n",
    "\n",
    "    val deferred2: Deferred<String> = async {\n",
    "        delay(500L)\n",
    "        \"Job 2 result\"\n",
    "    }\n",
    "\n",
    "    // Await the results of both deferred.\n",
    "    println(\"Waiting for both jobs to finish...\")\n",
    "    val result1 = deferred1.await()  // Wait for the first job to complete and get the result\n",
    "    val result2 = deferred2.await()  // Wait for the second job to complete and get the result\n",
    "\n",
    "    // Print the results\n",
    "    println(\"Job 1 finished with result: $result1\")\n",
    "    println(\"Job 2 finished with result: $result2\")\n",
    "\n",
    "    println(\"Program finished\")\n",
    "}\n",
    "\n",
    "main()"
   ]
  },
  {
   "cell_type": "code",
   "execution_count": 5,
   "id": "ea14738f-fd55-4c8e-b174-3087218e1b84",
   "metadata": {},
   "outputs": [
    {
     "name": "stdout",
     "output_type": "stream",
     "text": [
      "Program started\n",
      "Waiting for both jobs to finish...\n",
      "Job 1 finished with result: Job 1 result\n",
      "Job 2 finished with result: Job 2 result\n",
      "Program finished\n"
     ]
    }
   ],
   "source": [
    "// Using 'awaitAll'\n",
    "\n",
    "fun main() = runBlocking {\n",
    "    //.............runBlocking coroutine scope.................\n",
    "    println(\"Program started\")\n",
    "    \n",
    "    val deferred1 = async {\n",
    "        delay(1000L)\n",
    "        \"Job 1 result\"\n",
    "    }\n",
    "\n",
    "    val deferred2 = async {\n",
    "        delay(500L)\n",
    "        \"Job 2 result\"\n",
    "    }\n",
    "\n",
    "    // Await the results of both jobs using awaitAll()\n",
    "    println(\"Waiting for both jobs to finish...\")\n",
    "    val results = awaitAll(deferred1, deferred2)  // Wait for both jobs to complete\n",
    "\n",
    "    // Print the results\n",
    "    println(\"Job 1 finished with result: ${results[0]}\")\n",
    "    println(\"Job 2 finished with result: ${results[1]}\")\n",
    "\n",
    "    println(\"Program finished\")\n",
    "}\n",
    "\n",
    "main()"
   ]
  },
  {
   "cell_type": "code",
   "execution_count": 6,
   "id": "549bb464-6ce3-433d-9be9-4d279f228c71",
   "metadata": {},
   "outputs": [
    {
     "name": "stdout",
     "output_type": "stream",
     "text": [
      "Program started\n",
      "Waiting for both jobs to finish...\n",
      "Job 2 finished after 0.5 seconds\n",
      "Job 1 finished after 1 second\n",
      "Program finished\n"
     ]
    }
   ],
   "source": [
    "// 'joinAll' is also available for 'Job's\n",
    "\n",
    "fun main() = runBlocking {\n",
    "    //.............runBlocking coroutine scope.................\n",
    "    println(\"Program started\")\n",
    "\n",
    "    // Declare job1 and job2 as Job variables\n",
    "    val job1 = launch {\n",
    "        delay(1000L)\n",
    "        println(\"Job 1 finished after 1 second\")\n",
    "    }\n",
    "\n",
    "    val job2 = launch {\n",
    "        delay(500L)\n",
    "        println(\"Job 2 finished after 0.5 seconds\")\n",
    "    }\n",
    "\n",
    "    // Await for all launched jobs to finish using joinAll()\n",
    "    println(\"Waiting for both jobs to finish...\")\n",
    "    joinAll(job1, job2)  // Wait for all jobs to complete\n",
    "\n",
    "    println(\"Program finished\")\n",
    "}\n",
    "\n",
    "main()"
   ]
  },
  {
   "cell_type": "code",
   "execution_count": null,
   "id": "4b7b05ae-c782-4e8c-a260-0cfb859916d2",
   "metadata": {},
   "outputs": [],
   "source": []
  }
 ],
 "metadata": {
  "kernelspec": {
   "display_name": "Kotlin",
   "language": "kotlin",
   "name": "kotlin"
  },
  "language_info": {
   "codemirror_mode": "text/x-kotlin",
   "file_extension": ".kt",
   "mimetype": "text/x-kotlin",
   "name": "kotlin",
   "nbconvert_exporter": "",
   "pygments_lexer": "kotlin",
   "version": "1.9.23"
  }
 },
 "nbformat": 4,
 "nbformat_minor": 5
}
