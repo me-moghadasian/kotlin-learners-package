{
 "cells": [
  {
   "cell_type": "markdown",
   "id": "b605405e-8748-4f5a-ae62-51a544f583f3",
   "metadata": {},
   "source": [
    "# Discussing Coroutines **Context**"
   ]
  },
  {
   "cell_type": "code",
   "execution_count": 1,
   "id": "35d85820-1f1e-4f6d-8d80-35cde9494277",
   "metadata": {},
   "outputs": [],
   "source": [
    "// Importing some neccessary libs in jupyter notebook\n",
    "@file:DependsOn(\"org.jetbrains.kotlinx:kotlinx-coroutines-core:1.5.2\")\n",
    "import kotlinx.coroutines.*\n",
    "import java.util.concurrent.Executors"
   ]
  },
  {
   "cell_type": "markdown",
   "id": "3da6a69c-0163-4a73-b08f-b5a41e556d84",
   "metadata": {},
   "source": [
    "## Coroutine `Context`\n",
    "\n",
    "- A coroutine **context** in Kotlin is a set of elements that define the behavior of a coroutine. It holds information such as the **dispatcher** (which determines which *thread* or *threads* the coroutine runs on), a **Job** that *controls the lifecycle* of the coroutine, and other optional elements that can customize coroutine execution.\n",
    "\n",
    "1. `Job`\n",
    "    - A `Job` controls the lifecycle of the coroutine. It can be used to track and manage the coroutine's state (active, canceled, or completed).\n",
    "    - The `Job` is part of the **context**, and every coroutine has an associated `Job`.\n",
    "3. `CoroutineDispatcher`\n",
    "    - `Dispatchers.Default`: Uses a shared background pool of threads and is optimized for CPU-intensive tasks.\n",
    "    - `Dispatchers.IO`: Optimized for I/O-bound tasks such as reading from files or network operations.\n",
    "    - `Dispatchers.Main`: Confines the execution to the main thread, often used for updating UI components.\n",
    "    - `Dispatchers.Unconfined`: The coroutine starts on the current thread but can resume on different threads. It is less commonly used.\n",
    "    - **Customised Dispatcher**: It is possible to create a customised dispatcher with a given number of threads.\n",
    "5. `CoroutineName`\n",
    "   - A `CoroutineName` is an optional element that gives a name to a coroutine for debugging purposes."
   ]
  },
  {
   "cell_type": "code",
   "execution_count": 2,
   "id": "42f9ccb8-8bc0-4211-90e7-2bd7a12473bf",
   "metadata": {},
   "outputs": [
    {
     "name": "stdout",
     "output_type": "stream",
     "text": [
      "Program started \n",
      " `running on [BlockingCoroutine{Active}@44d17435, BlockingEventLoop@6f29e41d]`\n",
      "Hello: \n",
      " `running on [CoroutineName(MyContext), StandaloneCoroutine{Active}@dcb9eb2, Dispatchers.Default]`\n",
      "world: \n",
      "  `running on [DeferredCoroutine{Active}@78c78a09, BlockingEventLoop@6f29e41d]`\n",
      "Program finished \n",
      " `running on [BlockingCoroutine{Active}@44d17435, BlockingEventLoop@6f29e41d]`\n"
     ]
    }
   ],
   "source": [
    "// Launching a coroutine with a given context\n",
    "\n",
    "// As we saw, 'runBlocking' can also accept a customised context like 'runBlocking(context) {}'\n",
    "fun main() = runBlocking { \n",
    "    //.............runBlocking coroutine scope.................\n",
    "    println(\"Program started \\n `running on $coroutineContext`\")\n",
    "\n",
    "    // Let's create a customized context\n",
    "    // The creations structure is like [CoroutineDispatcher]+[Job]+[CoroutineName]\n",
    "    val context = Dispatchers.Default + CoroutineName(\"MyContext\")\n",
    "\n",
    "    // Then launch a coroutine using the created context\n",
    "    val job = launch(context) {\n",
    "        // 'coroutineContext' has the reference to the context of the coroutine\n",
    "        println(\"Hello: \\n `running on $coroutineContext`\")\n",
    "    }\n",
    "    job.join()\n",
    "\n",
    "    // Inherits its context from its outer scope, e.g. runBlocking\n",
    "    async {\n",
    "        println(\"world: \\n  `running on $coroutineContext`\")\n",
    "    }.await() // We can also 'join' the returned job like this \n",
    "    \n",
    "    println(\"Program finished \\n `running on $coroutineContext`\")\n",
    "}\n",
    "\n",
    "main()"
   ]
  },
  {
   "cell_type": "code",
   "execution_count": 3,
   "id": "e7d6c99c-853d-45ee-88db-b265ceaf0a31",
   "metadata": {},
   "outputs": [
    {
     "name": "stdout",
     "output_type": "stream",
     "text": [
      "Program started\n",
      "Hello: \n",
      " `running on [CoroutineName(MyContext1), StandaloneCoroutine{Active}@733f5c2, Dispatchers.Default]`\n",
      "World: \n",
      " `running on [CoroutineName(MyContext2), DeferredCoroutine{Active}@42317b40, Dispatchers.Default]`\n",
      "Program finished\n"
     ]
    }
   ],
   "source": [
    "// Explicitly defining the 'Job' and launching a coroutine with a given context\n",
    "\n",
    "fun main() = runBlocking { \n",
    "    //.............runBlocking coroutine scope.................\n",
    "    println(\"Program started\")\n",
    "\n",
    "    // Let's create customized contexts\n",
    "    \n",
    "    /* \n",
    "    The creations structure is like [CoroutineDispatcher]+[Job]+[CoroutineName]\n",
    "    'context1' inherits the 'Job' from the outer scope, e.g. 'runBlocking'. \n",
    "    */\n",
    "    val context1 = Dispatchers.Default + CoroutineName(\"MyContext1\")\n",
    "    \n",
    "    /* \n",
    "    'context2' has its own job and it can be used to control\n",
    "    the lifecyle of the launched corotuines within 'context2'; there might be several coroutines\n",
    "    launched in this context.\n",
    "    */\n",
    "    val contextJob = Job();\n",
    "    val context2 = Dispatchers.Default + contextJob + CoroutineName(\"MyContext2\")\n",
    "    \n",
    "    // Then launch a coroutine using the created context\n",
    "    val job1 = launch(context1) {\n",
    "        println(\"Hello: \\n `running on $coroutineContext`\")\n",
    "    }\n",
    "    job1.join()\n",
    "\n",
    "    // Then launch a coroutine using the created context\n",
    "    val job2 = async(context2) {\n",
    "        println(\"World: \\n `running on $coroutineContext`\")\n",
    "    }\n",
    "    job2.await()\n",
    "\n",
    "    /* \n",
    "    VERY INPORTANT: We are responsible for myScope lifecycle management\n",
    "    because we have defined a dedicated 'job' for it;\n",
    "    we must 'cancel()' its 'Job' when we are done.\n",
    "    */\n",
    "    context2.cancel()\n",
    "    println(\"Program finished\")\n",
    "}\n",
    "\n",
    "main()"
   ]
  },
  {
   "cell_type": "markdown",
   "id": "fe333109-ce2c-42ec-b6bb-70241aa436a2",
   "metadata": {},
   "source": [
    "## Using `withContext` to dispatch coroutine execution"
   ]
  },
  {
   "cell_type": "code",
   "execution_count": 4,
   "id": "08aeda7c-2267-4588-b0d9-7291bfeac50f",
   "metadata": {},
   "outputs": [],
   "source": [
    "// Switching the context using 'withContext'"
   ]
  },
  {
   "cell_type": "markdown",
   "id": "cd16751f-313b-49e7-ae91-301e93443611",
   "metadata": {},
   "source": [
    "## Corouitne `Context` with `CoroutineScope`"
   ]
  },
  {
   "cell_type": "code",
   "execution_count": 5,
   "id": "8674dca4-76e1-4655-ae3c-ba73416ba819",
   "metadata": {},
   "outputs": [
    {
     "name": "stdout",
     "output_type": "stream",
     "text": [
      "Program started: \n",
      " `running on [BlockingCoroutine{Active}@42898046, BlockingEventLoop@23154fdd]`\n",
      "Hello World 0: \n",
      " `running on [ScopeCoroutine{Active}@5d621cd5, BlockingEventLoop@23154fdd]`\n",
      "Hello World 1: \n",
      " `running on [CoroutineName(MyContext), StandaloneCoroutine{Active}@13de43ba, Dispatchers.IO]`\n",
      "Hello World 2: \n",
      " `running on [CoroutineName(MyContext), StandaloneCoroutine{Active}@54596e27, Dispatchers.IO]`\n",
      "Program finished: \n",
      " `running on [BlockingCoroutine{Active}@42898046, BlockingEventLoop@23154fdd]`\n"
     ]
    }
   ],
   "source": [
    "// Assigning a customised context to a a custom coroutine scope\n",
    "\n",
    "fun main() = runBlocking { \n",
    "    //.............runBlocking coroutine scope.................\n",
    "    println(\"Program started: \\n `running on $coroutineContext`\")\n",
    "\n",
    "    // Let's create customized contexts\n",
    "    val contextJob = Job()\n",
    "    val context = Dispatchers.IO + contextJob + CoroutineName(\"MyContext\")\n",
    "\n",
    "    // coroutineScope(context) {} // Will not work; this coroutine builder does not accept 'Context'\n",
    "    \n",
    "    // Inherits its context form the outer scope\n",
    "    coroutineScope {\n",
    "        println(\"Hello World 0: \\n `running on $coroutineContext`\")\n",
    "        // There is an option to use 'launch' with the given context\n",
    "        launch(context) { println(\"Hello World 1: \\n `running on $coroutineContext`\") }\n",
    "    }\n",
    "\n",
    "    // But we can directly define a scope and launch jobs in that scope\n",
    "    val myScope = CoroutineScope(context)\n",
    "    // Now, the launch notations is [My Coroutine Scope].[launch{}/asnyc{}]\n",
    "    val job = myScope.launch { \n",
    "        println(\"Hello World 2: \\n `running on $coroutineContext`\")\n",
    "    }\n",
    "    job.join()\n",
    "    /* \n",
    "    VERY INPORTANT: We are responsible for myScope lifecycle management\n",
    "    because we have defined a dedicated 'job' for it;\n",
    "    we must 'cancel()' its 'Job' when we are done.\n",
    "    */\n",
    "    myScope.cancel() \n",
    "    \n",
    "    println(\"Program finished: \\n `running on $coroutineContext`\")\n",
    "}\n",
    "\n",
    "main()"
   ]
  },
  {
   "cell_type": "code",
   "execution_count": 6,
   "id": "f33bb454-27e0-4ff4-a8f2-e9191f6d15c8",
   "metadata": {},
   "outputs": [
    {
     "name": "stdout",
     "output_type": "stream",
     "text": [
      "Program started: \n",
      " `running on [BlockingCoroutine{Active}@574ec766, BlockingEventLoop@778078e2]`\n",
      "Job 1 started on thread: pool-1-thread-2\n",
      "Job 2 started on thread: pool-1-thread-3\n",
      "Job 0 started on thread: pool-1-thread-1\n",
      "Job 3 started on thread: pool-1-thread-4\n",
      "Job 4 started on thread: pool-1-thread-5\n",
      "Job 5 started on thread: pool-1-thread-6\n",
      "Job 6 started on thread: pool-1-thread-1\n",
      "Job 7 started on thread: pool-1-thread-3\n",
      "Job 8 started on thread: pool-1-thread-4\n",
      "Job 9 started on thread: pool-1-thread-2\n",
      "Job 2 finished on thread: pool-1-thread-6\n",
      "Job 1 finished on thread: pool-1-thread-5\n",
      "Job 0 finished on thread: pool-1-thread-1\n",
      "Job 3 finished on thread: pool-1-thread-3\n",
      "Job 4 finished on thread: pool-1-thread-4\n",
      "Job 5 finished on thread: pool-1-thread-2\n",
      "Job 7 finished on thread: pool-1-thread-5\n",
      "Job 6 finished on thread: pool-1-thread-6\n",
      "Job 8 finished on thread: pool-1-thread-1\n",
      "Job 9 finished on thread: pool-1-thread-3\n",
      "Program finished: \n",
      " `running on [BlockingCoroutine{Active}@574ec766, BlockingEventLoop@778078e2]`\n"
     ]
    }
   ],
   "source": [
    "// Creating multi-threaded context\n",
    "\n",
    "fun main() = runBlocking { \n",
    "    //.............runBlocking coroutine scope.................\n",
    "    println(\"Program started: \\n `running on $coroutineContext`\")\n",
    "\n",
    "    /* \n",
    "    VERY IMPORTANT: Threads are resource-intensive, so it's important to create them judiciously. \n",
    "    In most cases, it's better to rely on Kotlin's default dispatchers (Dispatchers.Default, Dispatchers.IO).\n",
    "    */\n",
    "    // Let's create customized multi-thread contexts\n",
    "    val threadNo = 6\n",
    "    val contextJob = Job()\n",
    "    val contextDispatcher = Executors.newFixedThreadPool(threadNo).asCoroutineDispatcher()\n",
    "    val context = contextDispatcher + contextJob + CoroutineName(\"MyContext\")\n",
    "\n",
    "    // But we can directly define a scope and launch jobs in that scope\n",
    "    val myScope = CoroutineScope(context)\n",
    "    \n",
    "    // Launch multiple jobs in this custom scope\n",
    "    val jobs = List(10) { i ->\n",
    "        myScope.launch {\n",
    "            println(\"Job $i started on thread: ${Thread.currentThread().name}\")\n",
    "            delay(1000L)  // Simulating some work\n",
    "            println(\"Job $i finished on thread: ${Thread.currentThread().name}\")\n",
    "        }\n",
    "    }\n",
    "\n",
    "    // Wait for all jobs to complete\n",
    "    jobs.joinAll()\n",
    "    /* \n",
    "    VERY INPORTANT: We are responsible for myScope lifecycle management\n",
    "    because we have defined a dedicated 'job' for it;\n",
    "    we must 'cancel()' its 'Job' when we are done.\n",
    "    */\n",
    "    myScope.cancel() // cancels its job\n",
    "    \n",
    "    println(\"Program finished: \\n `running on $coroutineContext`\")\n",
    "}\n",
    "\n",
    "main()"
   ]
  },
  {
   "cell_type": "code",
   "execution_count": null,
   "id": "2b84d543-a67e-47f0-9bca-e0cb41665825",
   "metadata": {},
   "outputs": [],
   "source": []
  }
 ],
 "metadata": {
  "kernelspec": {
   "display_name": "Kotlin",
   "language": "kotlin",
   "name": "kotlin"
  },
  "language_info": {
   "codemirror_mode": "text/x-kotlin",
   "file_extension": ".kt",
   "mimetype": "text/x-kotlin",
   "name": "kotlin",
   "nbconvert_exporter": "",
   "pygments_lexer": "kotlin",
   "version": "1.9.23"
  }
 },
 "nbformat": 4,
 "nbformat_minor": 5
}
