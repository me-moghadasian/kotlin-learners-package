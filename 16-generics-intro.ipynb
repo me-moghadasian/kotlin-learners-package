{
 "cells": [
  {
   "cell_type": "markdown",
   "id": "fa965c36-32ac-44ec-a2d5-4841d7bea724",
   "metadata": {},
   "source": [
    "# A Brief Introduction to **Generics**"
   ]
  },
  {
   "cell_type": "code",
   "execution_count": null,
   "id": "07762b15-1531-4396-9378-9606e695efef",
   "metadata": {},
   "outputs": [],
   "source": [
    "// TBI"
   ]
  }
 ],
 "metadata": {
  "kernelspec": {
   "display_name": "Kotlin",
   "language": "kotlin",
   "name": "kotlin"
  },
  "language_info": {
   "codemirror_mode": "text/x-kotlin",
   "file_extension": ".kt",
   "mimetype": "text/x-kotlin",
   "name": "kotlin",
   "nbconvert_exporter": "",
   "pygments_lexer": "kotlin",
   "version": "1.9.23"
  }
 },
 "nbformat": 4,
 "nbformat_minor": 5
}
