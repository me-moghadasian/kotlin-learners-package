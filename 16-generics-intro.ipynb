{
 "cells": [
  {
   "cell_type": "markdown",
   "id": "fa965c36-32ac-44ec-a2d5-4841d7bea724",
   "metadata": {},
   "source": [
    "# A Brief Introduction to **Generics**\n",
    "\n",
    "- **Generic** functions and classes are briefly introduced."
   ]
  },
  {
   "cell_type": "markdown",
   "id": "945e1ab1-5f08-49fe-a8da-4f91f540aaa8",
   "metadata": {},
   "source": [
    "## Simple Generic Functions\n",
    "\n",
    "- **Generic** functions use **type parameters** to allow the function to operate on various types while still maintaining type safety. The type parameters are specified within angle brackets `<>` and can be used as placeholders for types in the function's parameters and return type.\n",
    "- We can create a generic function like:\n",
    "  ```kotlin\n",
    "  fun <T> funName(param: T): T {}\n",
    "  ```"
   ]
  },
  {
   "cell_type": "code",
   "execution_count": 1,
   "id": "8b51f3b5-1793-4fc9-8fae-43c02cadfa5f",
   "metadata": {},
   "outputs": [
    {
     "name": "stdout",
     "output_type": "stream",
     "text": [
      "r1: 3\n",
      "r2: Hello World\n"
     ]
    }
   ],
   "source": [
    "// Simple generic function\n",
    "\n",
    "fun <T> genFun(param: T): T {\n",
    "    return param\n",
    "}\n",
    "\n",
    "val r1 = genFun(3)\n",
    "val r2 = genFun(\"Hello World\")\n",
    "println(\"r1: ${r1}\")\n",
    "println(\"r2: ${r2}\")"
   ]
  },
  {
   "cell_type": "code",
   "execution_count": 2,
   "id": "3949bbdb-6a40-421c-a380-92a5226bc554",
   "metadata": {},
   "outputs": [
    {
     "name": "stdout",
     "output_type": "stream",
     "text": [
      "[1, 2, 3], Hello\n",
      "3.1, {1=hello, 2=world}\n"
     ]
    }
   ],
   "source": [
    "// Multiple 'type paramters'\n",
    "\n",
    "fun <T, D> genFun(param1: T, param2: D): Unit {\n",
    "    print(param1.toString())\n",
    "    print(\", \")\n",
    "    print(param2.toString())\n",
    "    print(\"\\n\")\n",
    "    return\n",
    "}\n",
    "\n",
    "genFun(listOf(1, 2, 3), \"Hello\")\n",
    "genFun(3.1, mapOf( 1 to \"hello\", 2 to \"world\"))"
   ]
  },
  {
   "cell_type": "code",
   "execution_count": 3,
   "id": "a0fdf44a-ba33-4222-abaf-878545e5547b",
   "metadata": {},
   "outputs": [
    {
     "data": {
      "text/plain": [
       "4.0"
      ]
     },
     "execution_count": 3,
     "metadata": {},
     "output_type": "execute_result"
    }
   ],
   "source": [
    "// Applying constraint on subtypes\n",
    "\n",
    "// 'T' must be a subtype of 'Number'\n",
    "fun <T : Number> addNumbers(a: T, b: T): Double {\n",
    "    return a.toDouble() + b.toDouble()\n",
    "}\n",
    "\n",
    "addNumbers(1L, 3.0f)"
   ]
  },
  {
   "cell_type": "markdown",
   "id": "9c958326-13fa-40c5-a7ed-199c9763be90",
   "metadata": {},
   "source": [
    "## `reified` **type parameters** with `inline` function\n",
    "\n",
    "- In Kotlin, an **inline function** is a function that is marked with the `inline` modifier. This means that the function's code is **directly inserted into the calling site** during compilation instead of being called through the usual function call mechanism. This can **lead to performance improvements** and more efficient use of resources, especially in scenarios involving higher-order functions (functions that take other functions as parameters).\n",
    "\n",
    "- In `inline` function, the **type parameter** can be marked as `reified`"
   ]
  },
  {
   "cell_type": "code",
   "execution_count": 4,
   "id": "ce8285ff-b149-4291-85db-29ee339d3d4c",
   "metadata": {},
   "outputs": [
    {
     "name": "stdout",
     "output_type": "stream",
     "text": [
      "Value: Car(name=BMW)\n",
      "Type: Car\n"
     ]
    }
   ],
   "source": [
    "// Getting access to type parameter by using 'reified'\n",
    "\n",
    "/*\n",
    "Function must be defined as 'inline';\n",
    "*/\n",
    "inline fun <reified T> printTypeInfo(param: T) {\n",
    "    println(\"Value: $param\")\n",
    "    println(\"Type: ${T::class.simpleName}\") // Accessing the reified type\n",
    "}\n",
    "\n",
    "data class Car(val name: String)\n",
    "printTypeInfo(Car(\"BMW\"))"
   ]
  },
  {
   "cell_type": "markdown",
   "id": "fb662756-ed25-46ad-bd56-c9383827ec47",
   "metadata": {},
   "source": [
    "## Generic Classes\n",
    "\n",
    "- In Kotlin, **generic classes** allow you to define classes with type parameters, enabling you to create reusable components that can operate on various types while maintaining type safety.\n",
    "- We can create a generic class like:\n",
    "  ```kotlin\n",
    "  class GenClass<T>(param: T) {}\n",
    "  ```\n",
    "- Examples of native generic classes are: `List<T>`, `Map<K, V>`, `Set<T>`, ..."
   ]
  },
  {
   "cell_type": "code",
   "execution_count": 5,
   "id": "22d0a245-18e3-47d0-a2ad-f44efbc6ba21",
   "metadata": {},
   "outputs": [
    {
     "name": "stdout",
     "output_type": "stream",
     "text": [
      "Car(name=Lamborghini)\n",
      "Car(name=Lamborghini)\n"
     ]
    }
   ],
   "source": [
    "// Creating a simple generic class\n",
    "\n",
    "class GenClass<T : Any>(val value: T) {\n",
    "    fun print(): Unit {\n",
    "        println(value.toString())\n",
    "    }\n",
    "\n",
    "    fun getValueInstance() : T = value\n",
    "}\n",
    "\n",
    "data class Car(val name: String)\n",
    "val myCar = Car(\"Lamborghini\")\n",
    "val genClass = GenClass(myCar)\n",
    "genClass.print()\n",
    "val getMyCar = genClass.getValueInstance()\n",
    "println(\"${getMyCar}\")"
   ]
  },
  {
   "cell_type": "code",
   "execution_count": null,
   "id": "c10b4b3b-fc50-4c2b-a702-a50650dc0ebd",
   "metadata": {},
   "outputs": [],
   "source": []
  }
 ],
 "metadata": {
  "kernelspec": {
   "display_name": "Kotlin",
   "language": "kotlin",
   "name": "kotlin"
  },
  "language_info": {
   "codemirror_mode": "text/x-kotlin",
   "file_extension": ".kt",
   "mimetype": "text/x-kotlin",
   "name": "kotlin",
   "nbconvert_exporter": "",
   "pygments_lexer": "kotlin",
   "version": "1.9.23"
  }
 },
 "nbformat": 4,
 "nbformat_minor": 5
}
