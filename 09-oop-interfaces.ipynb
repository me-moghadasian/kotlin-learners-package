{
 "cells": [
  {
   "cell_type": "markdown",
   "id": "11633163-7b63-4250-b636-20e1beb50240",
   "metadata": {},
   "source": [
    "# Introducing **Interfaces**\n",
    "\n",
    "- Interfaces and **SAM** conversion is explained. "
   ]
  },
  {
   "cell_type": "markdown",
   "id": "4f9d74d1-c625-420f-bcb0-da63a8774416",
   "metadata": {},
   "source": [
    "## Interfaces\n",
    "\n",
    "- Interfaces in Kotlin are similar to abstract classes but they **do not have constructors**.\n",
    "- They can have non-abstract methods.\n",
    "- They are by default **open** to override."
   ]
  },
  {
   "cell_type": "code",
   "execution_count": 1,
   "id": "8103fc15-9504-4ed7-9d4d-44ffa4f3bee6",
   "metadata": {},
   "outputs": [
    {
     "name": "stdout",
     "output_type": "stream",
     "text": [
      "The TWELVE_CYLINDER car started.\n",
      "Wooooombaaaaaaa!!!\n",
      "Ratatata!!!\n"
     ]
    }
   ],
   "source": [
    "// Declaring simple interface\n",
    "\n",
    "// Creating an enum for engne types\n",
    "enum class EngineType() {\n",
    "    FOUR_CYLINDER,\n",
    "    SIX_CYLINDER,\n",
    "    EIGHT_CYLINDER,\n",
    "    TWELVE_CYLINDER,\n",
    "}\n",
    "\n",
    "// The keyword 'interface' is used to define an interface.\n",
    "// Interfaces are open by default and its members can or must be overriden.\n",
    "interface Engine { // Interfaces does not have constructors\n",
    "    // Members are open to be overriden by default\n",
    "    \n",
    "    var engineType: EngineType  // Property initializers are not allowed in interfaces\n",
    "    fun start()\n",
    "\n",
    "    // Interfaces can have non-abstarct functions\n",
    "    fun roar() {\n",
    "        println(\"Wooooombaaaaaaa!!!\")\n",
    "    }\n",
    "}\n",
    "\n",
    "// Declaring class 'Car' that inherits interface 'Engine'\n",
    "class Car(engineType: EngineType) : Engine {\n",
    "\n",
    "    // The class must implement abstarct members\n",
    "    override var engineType = engineType\n",
    "    override fun start() {\n",
    "        println(\"The ${engineType} car started.\")\n",
    "    }\n",
    "\n",
    "    // Optionally, we can override non-abstract function\n",
    "    override fun roar() {\n",
    "        super.roar() // Calling interface implementation\n",
    "        println(\"Ratatata!!!\")\n",
    "    }\n",
    "}\n",
    "val myCar = Car(EngineType.TWELVE_CYLINDER)\n",
    "myCar.start()\n",
    "myCar.roar()"
   ]
  },
  {
   "cell_type": "code",
   "execution_count": 2,
   "id": "5d3061f0-b5ed-4dbf-ab5b-672c4b074ccb",
   "metadata": {},
   "outputs": [
    {
     "name": "stdout",
     "output_type": "stream",
     "text": [
      "A\n",
      "B\n"
     ]
    }
   ],
   "source": [
    "// Inheriting multiple interfaces\n",
    "\n",
    "interface A {\n",
    "    fun foo() { println(\"A\") }\n",
    "}\n",
    "\n",
    "interface B {\n",
    "    fun foo() { println(\"B\") }\n",
    "}\n",
    "\n",
    "// Class 'C' inherits 'A' and 'B' but these have a function with the same name\n",
    "class C : A, B {\n",
    "    override fun foo() {\n",
    "        // structure 'super<[Interface Name]>.[Function Name]' can be used in these cases\n",
    "        super<A>.foo()\n",
    "        super<B>.foo()\n",
    "    }\n",
    "}\n",
    "\n",
    "val c =  C()\n",
    "c.foo()"
   ]
  },
  {
   "cell_type": "markdown",
   "id": "58dfc1b1-51a0-45f9-900c-a8f417011d7a",
   "metadata": {},
   "source": [
    "## Anonymous classes\n",
    "\n",
    "- Anonymous classes can only inherit from **one superclass or interface**. This is a fundamental limitation of anonymous classes in Kotlin."
   ]
  },
  {
   "cell_type": "code",
   "execution_count": 3,
   "id": "1323e30a-5922-40df-91eb-ecfc1501bf98",
   "metadata": {},
   "outputs": [
    {
     "name": "stdout",
     "output_type": "stream",
     "text": [
      "The car started.\n",
      "Wooooombaaaaaaa!!!\n"
     ]
    }
   ],
   "source": [
    "// Creating anonymous classes using an interface\n",
    "interface Engine { \n",
    "    fun start()\n",
    "    fun roar() {\n",
    "        println(\"Wooooombaaaaaaa!!!\")\n",
    "    }\n",
    "}\n",
    "\n",
    "// Declaring an anonymous class and creating its instance\n",
    "// We use 'object : superclass or inteface' structure to inherit from a class or an interface.\n",
    "val myCar = object : Engine { // NOTE: Constructors are not allowed for objects\n",
    "    // The class must implement abstarct members\n",
    "    override fun start() {\n",
    "        println(\"The car started.\")\n",
    "    }\n",
    "}\n",
    "\n",
    "myCar.start()\n",
    "myCar.roar()"
   ]
  },
  {
   "cell_type": "markdown",
   "id": "0aceb3d4-0b3f-4572-b607-9c9127992a49",
   "metadata": {},
   "source": [
    "## Functional Interfaces: **SAM**\n",
    "\n",
    "- An interface with only **one abstract member function** is called a **functional interface**, or a Single Abstract Method (**SAM**) interface. The functional interface can have several non-abstract member functions but only one abstract member function."
   ]
  },
  {
   "cell_type": "code",
   "execution_count": 4,
   "id": "934869ec-f5a2-4c36-bbd9-e171dea30019",
   "metadata": {},
   "outputs": [
    {
     "name": "stderr",
     "output_type": "stream",
     "text": [
      "Line_3.jupyter.kts (17:1 - 11) Unresolved reference: addNumbers"
     ]
    }
   ],
   "source": [
    "// Decalring SAM\n",
    "\n",
    "// To define a SAM the keywords 'fun interface' are used.\n",
    "fun interface SimpleSAM {\n",
    "    fun apply(a: Int, b: Int): Unit\n",
    "\n",
    "    // It can have non-abstract methods\n",
    "}\n",
    "\n",
    "// Using anon classes to creae an instance\n",
    "val addNum = object : SimpleSAM { \n",
    "    override fun apply(a: Int, b: Int) {\n",
    "        val res = a + b\n",
    "        println(\"Result is: $res\")\n",
    "    }\n",
    "}\n",
    "addNumbers.apply(1, 2)\n",
    "\n",
    "// Using SAM conversion to create an instance \n",
    "val addNumSam = SimpleSAM { a: Int, b: Int -> // Simple send a lambda to create the object instance\n",
    "    val res = a + b\n",
    "        println(\"Result is: $res\")\n",
    "}\n",
    "addNumSam.apply(1, 2)"
   ]
  }
 ],
 "metadata": {
  "kernelspec": {
   "display_name": "Kotlin",
   "language": "kotlin",
   "name": "kotlin"
  },
  "language_info": {
   "codemirror_mode": "text/x-kotlin",
   "file_extension": ".kt",
   "mimetype": "text/x-kotlin",
   "name": "kotlin",
   "nbconvert_exporter": "",
   "pygments_lexer": "kotlin",
   "version": "1.9.23"
  }
 },
 "nbformat": 4,
 "nbformat_minor": 5
}
