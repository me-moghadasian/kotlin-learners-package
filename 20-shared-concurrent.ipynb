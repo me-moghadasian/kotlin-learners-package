{
 "cells": [
  {
   "cell_type": "markdown",
   "id": "ca4fd78a-09b2-4c25-8817-bf6b27ea166e",
   "metadata": {},
   "source": [
    "# Concurrency and Shared States\n",
    "\n",
    "- Accessing **shared mutable variables** from **multi-threaded** dispatchers is discussed.\n",
    "- Preventing concurrency issues is addressed using **volatile** variables, **atomic** types and **Mutex**."
   ]
  },
  {
   "cell_type": "code",
   "execution_count": 1,
   "id": "1692b063-4f98-4082-b026-1277fa37f791",
   "metadata": {},
   "outputs": [],
   "source": [
    "@file:DependsOn(\"org.jetbrains.kotlinx:kotlinx-coroutines-core:1.5.2\")\n",
    "import kotlinx.coroutines.*\n",
    "import kotlin.coroutines.CoroutineContext\n",
    "import java.util.concurrent.atomic.AtomicInteger\n",
    "import kotlinx.coroutines.sync.Mutex\n",
    "import kotlinx.coroutines.sync.withLock\n",
    "import kotlin.system.measureTimeMillis"
   ]
  },
  {
   "cell_type": "markdown",
   "id": "7d60faab-a447-4d63-ace7-7c64c2555cfc",
   "metadata": {},
   "source": [
    "## Volatile Variables and `synchronized`\n",
    "\n",
    "- **Use cases**: Simple signaling between threads, sharing state between threads, but with potential race conditions.\n",
    "- A `volatile` variable is a variable that guarantees **visibility across threads**. This means that *any changes made to the variable by one thread will be immediately visible to other threads*.\n",
    "- While `volatile` variables ensure visibility, they **DO NOT guarantee** any specific **ordering** of operations.\n",
    "- It guarantees that any **read or write** to that variable will be directly **from and to main memory**, rather than using thread-local caches.\n",
    "- Using `volatile` variables **can introduce some performance overhead**, as they require additional synchronization mechanisms.\n",
    "- They **DO NOT guarantee** atomicity. For example, operations like incrementing a value `x++` are not atomic, even if `x` is declared `volatile`. We'll need to use **locks** or **atomic** variables (AtomicInteger, etc.) for that.\n",
    "- A `synchronized` block can be used along with `volatile` variables that **blocks** other threads that attempt to access the same section of code while one thread is already executing it. This ensures atomicity."
   ]
  },
  {
   "cell_type": "code",
   "execution_count": 2,
   "id": "d994b2ed-76f3-4c23-a269-f079677f4ee4",
   "metadata": {},
   "outputs": [
    {
     "name": "stdout",
     "output_type": "stream",
     "text": [
      "Counter = 976 [expected is 1000]\n"
     ]
    }
   ],
   "source": [
    "// Examining volatile variables\n",
    "\n",
    "@Volatile // In Kotlin `volatile` is an annotation.\n",
    "var counter = 0 // This variable is shared.\n",
    "\n",
    "fun main() = runBlocking {\n",
    "    withContext(Dispatchers.Default) { // Using a multi-thread dispatcher\n",
    "        val n = 1000\n",
    "        repeat(n) { \n",
    "            launch { \n",
    "                counter++ // This action is not atomic. \n",
    "            }\n",
    "        }\n",
    "    }\n",
    "    println(\"Counter = $counter [expected is 1000]\") \n",
    "}\n",
    "\n",
    "main()"
   ]
  },
  {
   "cell_type": "code",
   "execution_count": 3,
   "id": "6436ed45-389d-4567-b8c2-a7d0cdfab276",
   "metadata": {},
   "outputs": [
    {
     "name": "stdout",
     "output_type": "stream",
     "text": [
      "Volatile Counter = 1000 [expected is 1000]\n"
     ]
    }
   ],
   "source": [
    "// Using 'synchronized' with volatile variables\n",
    "\n",
    "@Volatile \n",
    "var counter = 0 \n",
    "// Let's create an object so 'synchronized' can apply a lock on it.\n",
    "val lock = Any() \n",
    "\n",
    "fun main() = runBlocking {\n",
    "    withContext(Dispatchers.Default) { // Using a multi-thread dispatcher\n",
    "        val n = 1000\n",
    "        repeat(n) { \n",
    "            launch { \n",
    "                /*\n",
    "                The lock object is passed into the 'synchronized' block to ensure that only one thread\n",
    "                at a time can execute the code block within the synchronized(lock) construct. \n",
    "                \n",
    "                When one thread enters the synchronized block with this lock, \n",
    "                other threads trying to enter the same block are forced to \n",
    "                wait until the lock is released (i.e., when the first thread exits the block).\n",
    "\n",
    "                It is common to use 'synchronized(this) {...}' when we want to apply\n",
    "                a change to a volatile property of a class instance.\n",
    "                */\n",
    "\n",
    "                /*\n",
    "                IMPORTANT: a synchronized block, blocks other threads that attempt to access\n",
    "                the same section of code while one thread is already executing it.\n",
    "                */\n",
    "                synchronized(lock) {\n",
    "                    counter++ // This action is not atomic. \n",
    "                }\n",
    "            }\n",
    "        }\n",
    "    }\n",
    "    println(\"Volatile Counter = $counter [expected is 1000]\") \n",
    "}\n",
    "\n",
    "main()"
   ]
  },
  {
   "cell_type": "markdown",
   "id": "4e913249-5eee-48fd-8d5d-5e0dd70c212c",
   "metadata": {},
   "source": [
    "## Atomic Variables\n",
    "\n",
    "- **Use cases**: Implementing counters, flags, or other simple atomic operations.\n",
    "- **Atomic** types in Kotlin provide a way to handle **multi-threaded operations** on **shared variables** safely *without needing complex synchronization mechanisms like locks*.\n",
    "- Operations on atomic types are performed using **low-level CPU** instructions that ensure atomicity without requiring locks, thus **avoiding blocking other threads**.\n",
    "- **Key Atomic Types**:\n",
    "  1. `AtomicInteger`: For atomic operations on integers.\n",
    "  2. `AtomicLong`: For atomic operations on long values.\n",
    "  3. `AtomicBoolean`: For atomic operations on boolean values.\n",
    "  4. `AtomicReference<T>`: For atomic operations on object references.\n",
    "- **Common functions** for primitive atomic types:\n",
    "  1. `incrementAndGet()`: Atomically increments the current value by 1 and returns the updated value.\n",
    "  2. `decrementAndGet()`: Atomically decrements the current value by 1 and returns the updated value.\n",
    "  3. `addAndGet(delta: Int)`: Atomically adds a specified value (delta) to the current value and returns the updated value.\n",
    "  4. `getAndSet(newValue: Int)`: Atomically sets the new value and returns the previous value.\n",
    "  5. `compareAndSet(expected: Int, newValue: Int)`: Atomically updates the value to the `newValue` if the current value equals the `expected` value.\n",
    "- **Common functions** for primitive object references:\n",
    "  1. `get()`: Returns the current value.\n",
    "  2. `set(newValue: T)`: Atomically sets the new value.\n",
    "  3. `compareAndSet(expected: T, newValue: T)`: Compares the current value with the `expected` value and sets a `newValue` if they match.\n",
    "  4. `updateAndGet(updateFunction: (T) -> T)`: Atomically updates the current value using a given function and returns the updated value."
   ]
  },
  {
   "cell_type": "code",
   "execution_count": 4,
   "id": "5cba38f6-3dbd-4aad-b572-e3eee03fcc7a",
   "metadata": {},
   "outputs": [
    {
     "name": "stdout",
     "output_type": "stream",
     "text": [
      "Atomic Counter = 1000 [expected is 1000]\n"
     ]
    }
   ],
   "source": [
    "// Using 'AtomicInteger'\n",
    "\n",
    "// Defining an atomic counter\n",
    "var counter = AtomicInteger(0) \n",
    "\n",
    "fun main() = runBlocking {\n",
    "    withContext(Dispatchers.Default) { // Using a multi-thread dispatcher\n",
    "        val n = 1000\n",
    "        repeat(n) { \n",
    "            launch { \n",
    "                counter.incrementAndGet() // This action is atomic. \n",
    "            }\n",
    "        }\n",
    "    }\n",
    "    println(\"Atomic Counter = $counter [expected is 1000]\") \n",
    "}\n",
    "\n",
    "main()"
   ]
  },
  {
   "cell_type": "markdown",
   "id": "a2d22e33-345a-4fea-9a3d-167392c0ca28",
   "metadata": {},
   "source": [
    "## Using `Mutex`\n",
    "\n",
    "- **Use cases**: Protecting critical sections of code, preventing race conditions.\n",
    "- **Preferred for Coroutines**: A **coroutine-friendly** lock that **suspends** the coroutine *instead of blocking the thread*, which is ideal for non-blocking synchronization. Use it with `withLock` to ensure safe access to shared resources in a coroutine context.\n",
    "- `Mutex` is designed with coroutines in mind, providing a **safe** and idiomatic way to synchronize access to **shared mutable state** within the coroutine context. It fits well within the structured concurrency model of Kotlin, ensuring that locks are **automatically released** when the coroutine scope exits, **reducing the risk of deadlocks and resource leaks**.\n",
    "- `Mutex` can be used with:\n",
    "  1. `.withLock {...}`: This method is used to acquire the lock in a **suspending manner**. The block of code inside the curly braces will execute while holding the lock. Once the block completes, the lock is automatically released.\n",
    "  2. `.tryLock()`:This method **attempts** to acquire the lock without blocking the coroutine. If the lock is already held by another coroutine, `tryLock` will return `false`."
   ]
  },
  {
   "cell_type": "code",
   "execution_count": 5,
   "id": "4c45f2e9-255c-4f75-9d92-898a5de648d9",
   "metadata": {},
   "outputs": [
    {
     "name": "stdout",
     "output_type": "stream",
     "text": [
      "Mutex Counter = 1000 [expected is 1000]\n"
     ]
    }
   ],
   "source": [
    "// Using 'Mutex'\n",
    "\n",
    "// Defining a mutex for synchronization\n",
    "val mutex = Mutex()\n",
    "var counter = 0\n",
    "\n",
    "fun main() = runBlocking {\n",
    "    withContext(Dispatchers.Default) { // Using a multi-thread dispatcher\n",
    "        val n = 1000\n",
    "        repeat(n) { \n",
    "            launch { \n",
    "                mutex.withLock { // Locking the mutex for safe access\n",
    "                    counter++ // This action is now synchronized\n",
    "                }\n",
    "            }\n",
    "        }\n",
    "    }\n",
    "    println(\"Mutex Counter = $counter [expected is 1000]\") \n",
    "}\n",
    "\n",
    "main()"
   ]
  },
  {
   "cell_type": "code",
   "execution_count": 6,
   "id": "85ee008b-9fdb-4218-a79c-16388af3db2c",
   "metadata": {},
   "outputs": [
    {
     "name": "stdout",
     "output_type": "stream",
     "text": [
      "Could not acquire lock for counter increment.\n",
      "Could not acquire lock for counter increment.\n",
      "Could not acquire lock for counter increment.\n",
      "Could not acquire lock for counter increment.\n",
      "Could not acquire lock for counter increment.\n",
      "Could not acquire lock for counter increment.\n",
      "Could not acquire lock for counter increment.\n",
      "Mutex (tryLock) Counter = 9993 [expected is 10000]\n"
     ]
    }
   ],
   "source": [
    "// Using 'tryLock'\n",
    "\n",
    "val mutex = Mutex()\n",
    "var counter = 0\n",
    "\n",
    "fun main() = runBlocking {\n",
    "    val n = 10_000\n",
    "    withContext(Dispatchers.Default) {\n",
    "        repeat(n) {\n",
    "            launch {\n",
    "                // Try to acquire the lock without blocking\n",
    "                if (mutex.tryLock()) {\n",
    "                    try {\n",
    "                        counter++ // Safe access to sharedCounter\n",
    "                    } finally {\n",
    "                        mutex.unlock() // Ensure the lock is released\n",
    "                    }\n",
    "                } else {\n",
    "                    // Handle the case where the lock could not be acquired\n",
    "                    println(\"Could not acquire lock for counter increment.\")\n",
    "                }\n",
    "            }\n",
    "        }\n",
    "    }\n",
    "    println(\"Mutex (tryLock) Counter = $counter [expected is $n]\")\n",
    "}\n",
    "\n",
    "main()"
   ]
  },
  {
   "cell_type": "code",
   "execution_count": 11,
   "id": "511ba565-9071-413b-a355-6f2dcf428bcf",
   "metadata": {},
   "outputs": [
    {
     "name": "stdout",
     "output_type": "stream",
     "text": [
      "Volatile time = 1007 millis\n",
      "Atomic time = 650 millis\n",
      "Mutex time = 1454 millis\n"
     ]
    }
   ],
   "source": [
    "// Comparing performances\n",
    "\n",
    "@Volatile \n",
    "var volCounter = 0 \n",
    "val lock = Any() \n",
    "\n",
    "var atmCounter = AtomicInteger(0) \n",
    "\n",
    "val mutex = Mutex()\n",
    "var mutCounter = 0\n",
    "\n",
    "fun main() = runBlocking {\n",
    "    // Volatile implementation\n",
    "    val volTime = measureTimeMillis {\n",
    "        withContext(Dispatchers.Default) { \n",
    "            val n = 1_000_000\n",
    "            repeat(n) { \n",
    "                launch { synchronized(lock) { volCounter++ } }\n",
    "            }\n",
    "        }\n",
    "    }\n",
    "    println(\"Volatile time = $volTime millis\")\n",
    "\n",
    "    // Atomic implementation\n",
    "    val atmTime = measureTimeMillis {\n",
    "        withContext(Dispatchers.Default) { \n",
    "            val n = 1_000_000\n",
    "            repeat(n) { \n",
    "                launch { atmCounter.incrementAndGet() }\n",
    "            }\n",
    "        }\n",
    "    }\n",
    "    println(\"Atomic time = $atmTime millis\")\n",
    "\n",
    "    // Mutex implementation\n",
    "    val mtxTime = measureTimeMillis {\n",
    "        withContext(Dispatchers.Default) { \n",
    "            val n = 1_000_000\n",
    "            repeat(n) { \n",
    "                launch { mutex.withLock { mutCounter++ } }\n",
    "            }\n",
    "        }\n",
    "    }\n",
    "    println(\"Mutex time = $mtxTime millis\") \n",
    "\n",
    "    /*\n",
    "    IMPORTANT: While Mutex provides a more flexible and safe way to handle complex \n",
    "    synchronization scenarios (e.g., when multiple shared variables need to be updated atomically), \n",
    "    it may incur more overhead than simpler atomic operations or synchronized blocks, \n",
    "    particularly when contention is high.\n",
    "    */\n",
    "}\n",
    "\n",
    "main()"
   ]
  },
  {
   "cell_type": "code",
   "execution_count": null,
   "id": "823187ff-d25e-460b-bc15-bd898d872df8",
   "metadata": {},
   "outputs": [],
   "source": []
  }
 ],
 "metadata": {
  "kernelspec": {
   "display_name": "Kotlin",
   "language": "kotlin",
   "name": "kotlin"
  },
  "language_info": {
   "codemirror_mode": "text/x-kotlin",
   "file_extension": ".kt",
   "mimetype": "text/x-kotlin",
   "name": "kotlin",
   "nbconvert_exporter": "",
   "pygments_lexer": "kotlin",
   "version": "1.9.23"
  }
 },
 "nbformat": 4,
 "nbformat_minor": 5
}
