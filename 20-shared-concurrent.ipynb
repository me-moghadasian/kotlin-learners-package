{
 "cells": [
  {
   "cell_type": "markdown",
   "id": "ca4fd78a-09b2-4c25-8817-bf6b27ea166e",
   "metadata": {},
   "source": [
    "# Concurrency and Shared States"
   ]
  },
  {
   "cell_type": "code",
   "execution_count": null,
   "id": "1692b063-4f98-4082-b026-1277fa37f791",
   "metadata": {},
   "outputs": [],
   "source": []
  }
 ],
 "metadata": {
  "kernelspec": {
   "display_name": "Kotlin",
   "language": "kotlin",
   "name": "kotlin"
  },
  "language_info": {
   "codemirror_mode": "text/x-kotlin",
   "file_extension": ".kt",
   "mimetype": "text/x-kotlin",
   "name": "kotlin",
   "nbconvert_exporter": "",
   "pygments_lexer": "kotlin",
   "version": "1.9.23"
  }
 },
 "nbformat": 4,
 "nbformat_minor": 5
}
