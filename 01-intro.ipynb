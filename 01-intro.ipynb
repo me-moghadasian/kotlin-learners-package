{
 "cells": [
  {
   "cell_type": "markdown",
   "id": "d227ffe8-6481-4476-a363-9a12078594e8",
   "metadata": {},
   "source": [
    "# Kotlin Learners Package\n",
    "\n",
    "## Description\n",
    "\n",
    "This package offers a concise introduction to Kotlin (using JupyterLab), focusing only on the essential concepts and skills. It covers the fundamental topics necessary for understanding and practicing (or reviewing) Kotlin, including:\n",
    "\n",
    "- [Introduction](01-intro.ipynb)\n",
    "- [Functions](02-functions.ipynb)\n",
    "- [Lambdas](03-lambdas.ipynb)\n",
    "- [Collections](04-collections.ipynb)\n",
    "- [Objects](05-objects.ipynb)\n",
    "- [Classes](06-classes.ipynb)\n",
    "- [OOP: Introduction](07-oop-intro.ipynb)\n",
    "- [Useful Kotlin Classes](08-useful-classes.ipynb)\n",
    "- [OOP: Interfaces](09-oop-interfaces.ipynb)\n",
    "- [Equality check, `is` and `as` operators](10-equal-is-as.ipynb)\n",
    "- [Async/Concurrent: Introduction](11-async-concurrent-intro.ipynb)\n",
    "- [Async/Concurrent: Basics](12-async-concurrent-basics.ipynb)\n",
    "- [Async/Concurrent: Coroutine Context](13-async-concurrent-context.ipynb)\n",
    "- [Async/Concurrent: Cooperative Cancellation](14-async-concurrent-cancellation.ipynb)\n",
    "- [Async/Concurrent: Best Practises](15-async-concurrent-best.ipynb)\n",
    "- [Generics](16-generics-intro.ipynb)\n",
    "- [TBD]\n",
    "\n",
    "## Who should use this?\n",
    "\n",
    "This project is designed for **intermediate-level** developers who are looking to deepen their understanding of *core concepts* in [Kotlin](https://kotlinlang.org/). It is particularly beneficial for those who want to expand their knowledge, **review general principles**, or gain a broader perspective on [Kotlin](https://kotlinlang.org/). If you are an **expert** in this field, you might find the material **NOT** directly applicable to advanced scenarios. However, if you are eager to refresh your foundational skills or explore different approaches, this resource may still offer valuable insights\n",
    "\n",
    "## Active Development\n",
    "\n",
    "Please note that this package is *actively being modified and updated*."
   ]
  },
  {
   "cell_type": "markdown",
   "id": "565bb51d-0eb9-4a37-bf81-75660369621a",
   "metadata": {},
   "source": [
    "# Basics of Kotlin\n",
    "## Declaring variables"
   ]
  },
  {
   "cell_type": "markdown",
   "id": "9f0bdfe0-b584-4f79-8683-33d458628310",
   "metadata": {},
   "source": [
    "**NOTE**: The acronym for *RHS* will be used for the Right Hand Side, and *LHS* for the Left Hand Side"
   ]
  },
  {
   "cell_type": "code",
   "execution_count": 1,
   "id": "ad8f32d7-5b0c-4e3a-b1da-f4d7957c3abd",
   "metadata": {},
   "outputs": [],
   "source": [
    "// Declaring variables\n",
    "\n",
    "val a: Int = 1 // CONSTANTS: Must be initialized; \"val\" variabels' value cannot be changed later\n",
    "var c: Double = 1.5 // VARIABLES: Must be initialized; \"var\" variabels' value can be changed later\n",
    "val d: Boolean = true // true/false\n",
    "val f = 1.455 // We can ommit the type if compiler can infer varible type"
   ]
  },
  {
   "cell_type": "markdown",
   "id": "7e18f06f-f5c4-45b2-99ea-3c495d207b1a",
   "metadata": {},
   "source": [
    "**NOTE**: When compiler can determine the type of the variable, you can ommit the type on LHS of \"=\"\n",
    "- `val a: Int = 1` is equivalent to `val a = 1`\n",
    "\n",
    "**NOTE**: There is another verson of declaring variables as `const val SOME_CONST = 1`, but `const val` can be defined on top level, in named objects, or in companion objects. These immutable variables are compile-time constants while `val someConst` is used to define run-time constants. Later, we'll see its usage. Example:\n",
    "\n",
    "```kotlin\n",
    "const val C: String = \"SOME_CONSTANT_KEY\" "
   ]
  },
  {
   "cell_type": "code",
   "execution_count": 2,
   "id": "a216f702-137a-4ff2-bbd0-d2b71e936b52",
   "metadata": {},
   "outputs": [
    {
     "name": "stdout",
     "output_type": "stream",
     "text": [
      "a value: 1, and b plus one is: 3\n"
     ]
    }
   ],
   "source": [
    "// String binding\n",
    "\n",
    "// This is string binding; we have directly used variables in the string\n",
    "// you can use $variable or ${variable} or even ${expression}\n",
    "// Use \"\" for string and '' for Char\n",
    "val a = 1\n",
    "val b = 2\n",
    "val s = \"a value: $a, and b plus one is: ${b+1}\" \n",
    "println(s)\n",
    "val c: Char = 'A' // This is a Char not String"
   ]
  },
  {
   "cell_type": "markdown",
   "id": "60bc67ee-90ea-4c53-9360-203d2c4b023c",
   "metadata": {},
   "source": [
    "## Simple arithmetic operations"
   ]
  },
  {
   "cell_type": "code",
   "execution_count": 3,
   "id": "4dc08997-91b8-4eb8-9328-4fe1118e0140",
   "metadata": {},
   "outputs": [
    {
     "name": "stdout",
     "output_type": "stream",
     "text": [
      "Sum: 15\n",
      "Difference: 5\n",
      "Product: 50\n",
      "Quotient: 3\n",
      "Remainder: 0\n",
      "Incremented x: 6\n",
      "Decremented x: 5\n",
      "Power: 8.0\n"
     ]
    }
   ],
   "source": [
    "// Simple arithetic\n",
    "// Basic arithmetic operations\n",
    "val a = 10\n",
    "val b = 5\n",
    "\n",
    "// Addition\n",
    "val sum = a + b\n",
    "println(\"Sum: $sum\")\n",
    "\n",
    "// Subtraction\n",
    "val difference = a - b\n",
    "println(\"Difference: $difference\")\n",
    "\n",
    "// Multiplication\n",
    "val product = a * b\n",
    "println(\"Product: $product\")\n",
    "\n",
    "// Division\n",
    "/* \n",
    "NOTE: because both variables are integer, the result will be rounded to an integer; change one to double, \n",
    "to get the decimal part.\n",
    "*/\n",
    "val quotient = a / 3\n",
    "println(\"Quotient: $quotient\")\n",
    "\n",
    "// Modulus (remainder)\n",
    "val remainder = a % b\n",
    "println(\"Remainder: $remainder\")\n",
    "\n",
    "// Increment and decrement\n",
    "var x = 5\n",
    "x++ // Increment by 1\n",
    "println(\"Incremented x: $x\")\n",
    "x-- // Decrement by 1\n",
    "println(\"Decremented x: $x\")\n",
    "\n",
    "// Power arithmetic operation\n",
    "val base = 2.0\n",
    "val exponent = 3.0\n",
    "\n",
    "// Using the Math.pow() function\n",
    "val power = Math.pow(base, exponent)\n",
    "println(\"Power: $power\")"
   ]
  },
  {
   "cell_type": "markdown",
   "id": "41a1e67d-6e46-4bdb-9b08-f6da8f80fc5b",
   "metadata": {},
   "source": [
    "## Some explicit conversion"
   ]
  },
  {
   "cell_type": "code",
   "execution_count": 4,
   "id": "a2ca5f35-5750-4268-8d0a-2d16978b85bc",
   "metadata": {},
   "outputs": [
    {
     "name": "stdout",
     "output_type": "stream",
     "text": [
      "doubleValue: 10.0\n",
      "intValueFromChar: 65\n",
      "intValueFromLong: 1000\n",
      "floatValue: 3.14\n",
      "convertingToFloat: 3.14\n"
     ]
    }
   ],
   "source": [
    "// Explicit conversion\n",
    "val intValue = 10\n",
    "val doubleValue = intValue.toDouble() // Convert int to double\n",
    "println(\"doubleValue: $doubleValue\") // Output: doubleValue: 10.0\n",
    "\n",
    "val charValue = 'A'\n",
    "val intValueFromChar = charValue.toInt() // Convert char to int\n",
    "println(\"intValueFromChar: $intValueFromChar\") // Output: intValueFromChar: 65\n",
    "\n",
    "// Explicit conversion required for narrowing conversion\n",
    "val longValue = 1000L // We used 'L' for Long literal\n",
    "val intValueFromLong = longValue.toInt() // Convert Long to Int explicitly\n",
    "println(\"intValueFromLong: $intValueFromLong\") // Output: intValueFromLong: 1000\n",
    "\n",
    "val floatValue = 3.14f // We used 'f' for Float literal\n",
    "println(\"floatValue: $floatValue\") // Output: floatValue: 3.14\n",
    "\n",
    "val convertingToFloat = 3.14.toFloat() // Inferred as Double\n",
    " println(\"convertingToFloat: $convertingToFloat\") // Output: convertingToFloat: 3.14\n"
   ]
  },
  {
   "cell_type": "markdown",
   "id": "91ad807d-023e-4af5-ae1e-63cf4b43049c",
   "metadata": {},
   "source": [
    "## Using **IF-ELSE**"
   ]
  },
  {
   "cell_type": "code",
   "execution_count": 5,
   "id": "66596329-d389-4326-8eac-039365a85205",
   "metadata": {},
   "outputs": [
    {
     "name": "stdout",
     "output_type": "stream",
     "text": [
      "Condition is true.\n",
      "Condition is true.\n",
      "Condition is true.\n",
      "Check result: Condition 7 > 4 true.\n",
      "Check result: Correct\n"
     ]
    }
   ],
   "source": [
    "// Equality check\n",
    "val cond = 5 == 5\n",
    "\n",
    "// Simple if condition\n",
    "if (cond && (7 < 0 || 11 == 11)) {\n",
    "    println(\"Condition is true.\")\n",
    "}\n",
    "\n",
    "if (cond || 4 < 2) {\n",
    "    println(\"Condition is true.\")\n",
    "} else {\n",
    "    println(\"Condition is true.\")\n",
    "}\n",
    "\n",
    "// Single line 'if-else' condition\n",
    "if (cond) println(\"Condition is true.\") else println(\"Condition is true.\")\n",
    "\n",
    "// 'if' condition can return a value; last expression in 'if {}' or 'else {}' blocks will be returned\n",
    "// Both returned values should have the same type\n",
    "val result = if (7 > 4) {\n",
    "    val s = \"Condition 7 > 4 true.\"\n",
    "    s\n",
    "} else {\n",
    "    val s = \"Condition 7 > 4 false.\"\n",
    "    s\n",
    "}\n",
    "println(\"Check result: $result\")\n",
    "\n",
    "// In kotlin there is no ternary operatot; instead use\n",
    "val ternaryReult = if (5 > 6) \"Wrong\" else \"Correct\"\n",
    "println(\"Check result: $ternaryReult\")"
   ]
  },
  {
   "cell_type": "markdown",
   "id": "ed1df217-31c2-4152-931b-54565303853a",
   "metadata": {},
   "source": [
    "## Using **WHEN**\n",
    " \n",
    "**NOTE**: `when` is one of the MOST IMPORTANT structure in kotlin specificaly it is combined whith `sealed classes` that we will talk about it later."
   ]
  },
  {
   "cell_type": "code",
   "execution_count": 6,
   "id": "cba26cb6-424e-49fd-9936-90e686f5872f",
   "metadata": {},
   "outputs": [
    {
     "name": "stdout",
     "output_type": "stream",
     "text": [
      "Tag is 'B'\n",
      "Tag is 'A'\n",
      "Returned value is: 0\n"
     ]
    }
   ],
   "source": [
    "// In Kotlin there is no SWITCH; we use WHEN instead\n",
    "\n",
    "val tag: Char = 'B'\n",
    "when(tag) {\n",
    "    'A' -> println(\"Tag is 'A'\") // We can also use block: 'A' -> { println(\"Tag is 'A'\") }\n",
    "    'B' -> println(\"Tag is 'B'\")\n",
    "    else -> println(\"Tag is not valid'A'\") // Using ELSE for other condition\n",
    "}\n",
    "\n",
    "// WHEN also can return result like if\n",
    "val tagResult = when('A') {\n",
    "    'A' -> { \n",
    "        println(\"Tag is 'A'\") \n",
    "        0 // <-- Returned value\n",
    "    }\n",
    "    'B' -> { \n",
    "        println(\"Tag is 'B'\") \n",
    "        1 // <-- Returned value\n",
    "    }\n",
    "    else -> { \n",
    "        println(\"Tag is not valid'A'\")\n",
    "        -1 // <-- Returned value\n",
    "    }\n",
    "}\n",
    "println(\"Returned value is: $tagResult\")"
   ]
  },
  {
   "cell_type": "markdown",
   "id": "ffc2faaa-e5a4-4754-8e28-94e58dc1a9ea",
   "metadata": {},
   "source": [
    "## Type **Any** and using operator **is** for type-check in **WHEN**\n",
    "**NOTE**: We will talk more about the type `Any` and `is` operator later."
   ]
  },
  {
   "cell_type": "code",
   "execution_count": 7,
   "id": "0b6ff23e-ef25-4074-a419-0ce8c0cfa22f",
   "metadata": {},
   "outputs": [
    {
     "name": "stdout",
     "output_type": "stream",
     "text": [
      "Tag is String\n"
     ]
    }
   ],
   "source": [
    "// We can also check for types.\n",
    "// In Kotlin, the 'Any' type is the supertype of all other types. \n",
    "// This means that every other type in Kotlin is a subtype of Any.\n",
    "// We can use 'is' operator for type check\n",
    "val anyTag: Any = \"red\" // We have defined anyTag type as 'Any'\n",
    "\n",
    "when (anyTag) {\n",
    "    is Char -> println(\"Tag is Char\") // 'is' operator is used for type-check\n",
    "    is String -> println(\"Tag is String\") // anyTag is actually a 'String'\n",
    "    else -> println(\"Tag type is not accepted\")\n",
    "}"
   ]
  },
  {
   "cell_type": "markdown",
   "id": "39a1189c-ccbc-41b7-9434-ad02143a4067",
   "metadata": {},
   "source": [
    "## Exception handling: **TRY-CATCH-FINALY**"
   ]
  },
  {
   "cell_type": "code",
   "execution_count": 8,
   "id": "6412e8ab-cc43-4856-9f8c-3427727eeb37",
   "metadata": {},
   "outputs": [
    {
     "name": "stdout",
     "output_type": "stream",
     "text": [
      "There was an exception: java.lang.ArithmeticException: / by zero\n",
      "There was an arithmetic exception: java.lang.ArithmeticException: / by zero\n",
      "There was an arithmetic exception: java.lang.ArithmeticException: / by zero\n",
      "Finally!\n"
     ]
    }
   ],
   "source": [
    "// Simple try-catch\n",
    "\n",
    "try {\n",
    "    val willThrowError = 1/0\n",
    "} catch(e: Exception) { // e: Exception suggest catching all types of exceptions\n",
    "    println(\"There was an exception: $e\")\n",
    "}\n",
    "\n",
    "// Adding filter to catch blocks\n",
    "try {\n",
    "    val willThrowError = 1/0\n",
    "} catch(e: ArithmeticException) { // e: ArithmeticException catches arithmetic exceptions\n",
    "    println(\"There was an arithmetic exception: $e\")\n",
    "} catch(e: Exception) { // e: Exception suggest catching all types of exceptions\n",
    "    println(\"There was an exception: $e\")\n",
    "}\n",
    "\n",
    "// Adding finally block; no matter exception happens finally block will always executed\n",
    "try {\n",
    "    val willThrowError = 1/0\n",
    "} catch(e: ArithmeticException) { // e: ArithmeticException catches arithmetic exceptions\n",
    "    println(\"There was an arithmetic exception: $e\")\n",
    "} catch(e: Exception) { // e: Exception suggest catching all types of exceptions\n",
    "    println(\"There was an exception: $e\")\n",
    "} finally {\n",
    "    println(\"Finally!\")\n",
    "}"
   ]
  },
  {
   "cell_type": "markdown",
   "id": "74b78afb-471a-474d-8d89-6d0190dd0f18",
   "metadata": {},
   "source": [
    "## Nullables: **Int?**, **Double?**, **Any?**,..."
   ]
  },
  {
   "cell_type": "code",
   "execution_count": 9,
   "id": "081b3334-48cb-4e1d-a8a0-a984d3acaace",
   "metadata": {},
   "outputs": [
    {
     "name": "stdout",
     "output_type": "stream",
     "text": [
      "value: 1\n",
      "value: null\n"
     ]
    }
   ],
   "source": [
    "// In kotlin variables can be null if their type is defined as nullable\n",
    "\n",
    "// By adding '?' at the end of a type we can create nullables: Int?, Double?, String?,...\n",
    "// You cannot assign null to non-nullables\n",
    "var someNullableInteger: Int? = 1\n",
    "println(\"value: $someNullableInteger\")\n",
    "\n",
    "someNullableInteger = null // Set it to null\n",
    "println(\"value: $someNullableInteger\")"
   ]
  },
  {
   "cell_type": "markdown",
   "id": "1677c43a-a6c4-43f5-8407-c121927f1cf1",
   "metadata": {},
   "source": [
    "## Simple null checking by safe-call operator **?.**"
   ]
  },
  {
   "cell_type": "code",
   "execution_count": 10,
   "id": "5b1e5ef7-1d38-40a3-93bd-f4b8580f2742",
   "metadata": {},
   "outputs": [
    {
     "name": "stdout",
     "output_type": "stream",
     "text": [
      "The variable was null\n",
      "3\n"
     ]
    }
   ],
   "source": [
    "// By safe call operator we can prevent exceptions if the variable is null\n",
    "\n",
    "someNullableInteger = null\n",
    "val safeCallResult1 = someNullableInteger?.toString()\n",
    "if (safeCallResult1 != null) println(safeCallResult1) else println(\"The variable was null\")\n",
    "\n",
    "// Repeating by assigning a non-null value\n",
    "someNullableInteger = 3\n",
    "val safeCallResult2 = someNullableInteger?.toString()\n",
    "if (safeCallResult2 != null) println(safeCallResult2) else println(\"The variable was null\")"
   ]
  },
  {
   "cell_type": "markdown",
   "id": "047a3c2b-0429-4f14-9973-ca0ac35727cb",
   "metadata": {},
   "source": [
    "## Using non-null assertion operator **!!**\n",
    "**WARNING**: This should be used very carefully or it will crash your program if there value is null."
   ]
  },
  {
   "cell_type": "code",
   "execution_count": 11,
   "id": "c3c1aff0-c0b8-4bd6-b6c2-260893bbe331",
   "metadata": {},
   "outputs": [
    {
     "name": "stdout",
     "output_type": "stream",
     "text": [
      "Result: 3\n",
      "There was an exception in non-null assertio: java.lang.NullPointerException\n"
     ]
    }
   ],
   "source": [
    "// If we are sure a nullable variable is not null we can use !!\n",
    "someNullableInteger = 3\n",
    "var someInteger = someNullableInteger!! // Type of someInteger is Int now not Int?\n",
    "println(\"Result: $someInteger\")\n",
    "\n",
    "// WARNING: You will face runtime exception if you do non-null assetion on a null value\n",
    "try {\n",
    "    someNullableInteger = null\n",
    "    someInteger = someNullableInteger!!\n",
    "} catch(e: Exception) {\n",
    "    println(\"There was an exception in non-null assertio: ${e}\")\n",
    "}"
   ]
  },
  {
   "cell_type": "markdown",
   "id": "0dd68f6c-2c94-48c7-91f3-d572ebe0ed86",
   "metadata": {},
   "source": [
    " ## Handling null variable situation by **Elvis** operator **?:**"
   ]
  },
  {
   "cell_type": "code",
   "execution_count": 12,
   "id": "5eb0336f-2791-4c3d-9c15-fcae9f61523e",
   "metadata": {},
   "outputs": [
    {
     "name": "stdout",
     "output_type": "stream",
     "text": [
      "it is null\n",
      "result is: 0\n"
     ]
    }
   ],
   "source": [
    "// Null checking\n",
    "\n",
    "// Method 1: using if condition\n",
    "if (someNullableInteger == null) println(\"it is null\") else println(\"value: $someNullableInteger\")\n",
    "\n",
    "// Method 2: using Elvis operator\n",
    "val result = someNullableInteger ?: 0 // if someNullableInteger is null, then RHS of Elvis (?:) will be assigned\n",
    "println(\"result is: ${result}\")"
   ]
  },
  {
   "cell_type": "markdown",
   "id": "b99417ea-8977-49a4-bae6-4de58fd218fc",
   "metadata": {},
   "source": [
    "## Using **?.let {...}** and **Elvis** combination structure\n",
    "\n",
    "**NOTE**: Using **?.let{...}** is a bit more advanced than introduction section but for now, suppose safe-call operator **?** checks if a variable is not null and then **let**s block **{}** to be executed. This block is a **Lambda** that will be discused later."
   ]
  },
  {
   "cell_type": "code",
   "execution_count": 13,
   "id": "59322e19-cc93-4f89-9033-e421ca7b2664",
   "metadata": {},
   "outputs": [
    {
     "name": "stdout",
     "output_type": "stream",
     "text": [
      "it is NOT null. It is: 2\n",
      "it is null\n"
     ]
    }
   ],
   "source": [
    "// Using ?.let{...}\n",
    "\n",
    "someNullableInteger?.let { it ->\n",
    "    // \"it\" gets the value of someNullableInteger if it is not null\n",
    "    // This part of code will only run if someNullableInteger is NOT null\n",
    "    println(\"it is NOT null\")\n",
    "}\n",
    "someNullableInteger = 2\n",
    "someNullableInteger?.let { it -> println(\"it is NOT null. It is: $it\") }\n",
    "\n",
    "someNullableInteger = null\n",
    "/* \n",
    "?.let{...} will be executed if the variable is NOT null and if it IS null, then RHS of Elvis (?:) will be run.\n",
    "This is because LHS of ?: is evaluted to null.\n",
    "*/\n",
    "someNullableInteger?.let { it -> println(\"it is NOT null. It is: $it\") } ?: println(\"it is null\")"
   ]
  },
  {
   "cell_type": "code",
   "execution_count": 14,
   "id": "2e773818-87f8-4106-96ec-49654af23b0b",
   "metadata": {},
   "outputs": [
    {
     "name": "stdout",
     "output_type": "stream",
     "text": [
      "result is: 0\n",
      "result is: 6\n"
     ]
    }
   ],
   "source": [
    "// Returning result using ?.let{...}\n",
    "\n",
    "// With this structure, a result can also be returned based on the null-test\n",
    "/* \n",
    "Last expresion in block {} and RHS of ?: is returned\n",
    "based on the null test.\n",
    "*/\n",
    "\n",
    "someNullableInteger = null\n",
    "// Returns 0 because someNullableInteger is null\n",
    "val result1 = someNullableInteger?.let { it -> it + 1 } ?: 0 // <-- RHS of Elvis, 0, will be returned\n",
    "println(\"result is: $result1\")\n",
    "\n",
    "someNullableInteger = 5\n",
    "// Returns 6 because someNullableInteger is 5\n",
    "val result2: Int = someNullableInteger?.let { it ->\n",
    "    // Adds 1 to someNullableInteger and since it is the last expression in the block, the result will be returned\n",
    "    it + 1 // <-- The result of this expression will be returned\n",
    "} ?: 0\n",
    "println(\"result is: $result2\")"
   ]
  },
  {
   "cell_type": "markdown",
   "id": "7e080601-a070-4ddd-841a-fadaed2749e9",
   "metadata": {},
   "source": [
    "## Using **run {...}** and **\"?.let-?:-run\"** structure\n",
    "\n",
    "**NOTE**: This structure is realy IMPORTANT in kotlin programming.\n",
    "\n",
    "**NOTE**: Using **run {...}** is a bit more advanced than introduction section becuase we are using **lambda** expression here that will be discused later. For now, consider it as a block of code that runs and returns a value. "
   ]
  },
  {
   "cell_type": "code",
   "execution_count": 15,
   "id": "49b1ae2d-59a5-4c88-b9fa-46c3a5639253",
   "metadata": {},
   "outputs": [
    {
     "name": "stdout",
     "output_type": "stream",
     "text": [
      "Run block result: 7\n",
      "let-elvis-run result: 0\n"
     ]
    }
   ],
   "source": [
    "// We can run our codes in a run block and return a value; last expression is returned.\n",
    "\n",
    "val runResult = run {\n",
    "    val x = 1\n",
    "    val y = x*2\n",
    "    y + 5 // <-- returned value\n",
    "}\n",
    "println(\"Run block result: $runResult\")\n",
    "\n",
    "// Using run {...} with Elvis\n",
    "someNullableInteger = null\n",
    "val elvisRunResult: Int = someNullableInteger?.let { it ->\n",
    "    // Adds 1 to someNullableInteger and since it is the last expression in the block, the result will be returned\n",
    "    it + 1 // <-- The result of this expression will be returned\n",
    "} ?: run {\n",
    "    // We can do any calcultion here and return a value\n",
    "    0\n",
    "}\n",
    "println(\"let-elvis-run result: $elvisRunResult\")"
   ]
  },
  {
   "cell_type": "markdown",
   "id": "d6907a9a-d92d-4583-8c0e-42805f33bf42",
   "metadata": {},
   "source": [
    "## Using **FOR** and **WHILE** loops"
   ]
  },
  {
   "cell_type": "code",
   "execution_count": 16,
   "id": "60471b35-672d-4a2b-b520-a703fb1a9a02",
   "metadata": {},
   "outputs": [
    {
     "name": "stdout",
     "output_type": "stream",
     "text": [
      "Example 1: 1\n",
      "Example 1: 2\n",
      "Example 1: 3\n",
      "Example 2: 1\n",
      "Example 2: 3\n",
      "Example 3: 5\n",
      "Example 3: 3\n",
      "Example 3: 1\n",
      "Reapeat loop: 0\n",
      "Reapeat loop: 1\n",
      "Reapeat loop: 2\n",
      "Reapeat loop: 3\n",
      "Reapeat loop: 4\n",
      "While loop: 0, While loop: 1, While loop: 2, \n",
      "Do-While loop: 0, Do-While loop: 1, Do-While loop: 2, "
     ]
    }
   ],
   "source": [
    "// Using range and for loop\n",
    "\n",
    "// Classic way\n",
    "// Example 1: we can use \"a unitl b\" or \"a..b\"\n",
    "val range1 = 1 until 5 // Last number is included in the range \n",
    "for (ele in range1) {\n",
    "    println(\"Example 1: ${ele}\")\n",
    "    // We can use 'break' and 'continue' if needed\n",
    "    if (ele == 3) break\n",
    "}\n",
    "\n",
    "// Example 2\n",
    "val range2 = 1 until 5 step 2 // Step must be positive\n",
    "for (ele in range2) {\n",
    "    println(\"Example 2: ${ele}\")\n",
    "    // We can use 'break' and 'continue' if needed\n",
    "    if (ele == 3) continue\n",
    "}\n",
    "\n",
    "// Example 3\n",
    "val range3 = 5 downTo 1 step 2 // We can ignore step; step must always be positive\n",
    "for (ele in range3) {\n",
    "    println(\"Example 3: ${ele}\")\n",
    "    // We can use 'break' and 'continue' if needed\n",
    "}\n",
    "\n",
    "// NOTE: Again we have used lanbda expression in \"{...}\" we'll talk about it later\n",
    "// Simple repeat: clean and easy; try use this structure more than classic ones if appropriate.\n",
    "repeat(5) { it -> // Gives each value one by one\n",
    "    println(\"Reapeat loop: ${it}\")\n",
    "    // We can NOT use 'break' and 'continue' here; but we can use return with label as 'return@repeat' to break\n",
    "}\n",
    "\n",
    "// Classic while\n",
    "var counter = 0\n",
    "while (counter < 3) {\n",
    "    print(\"While loop: ${counter}, \") // Here we used print instead of println; println goes to new line\n",
    "    counter++\n",
    "    // We can use 'break' and 'continue' if needed\n",
    "}\n",
    "\n",
    "print(\"\\n\") // To add a new line\n",
    "counter = 0\n",
    "do {\n",
    "    print(\"Do-While loop: ${counter}, \") // Here we used print instead of println; println goes to new line\n",
    "    counter++\n",
    "    // We can use 'break' and 'continue' if needed\n",
    "} while (counter < 3)"
   ]
  }
 ],
 "metadata": {
  "kernelspec": {
   "display_name": "Kotlin",
   "language": "kotlin",
   "name": "kotlin"
  },
  "language_info": {
   "codemirror_mode": "text/x-kotlin",
   "file_extension": ".kt",
   "mimetype": "text/x-kotlin",
   "name": "kotlin",
   "nbconvert_exporter": "",
   "pygments_lexer": "kotlin",
   "version": "1.9.23"
  }
 },
 "nbformat": 4,
 "nbformat_minor": 5
}
