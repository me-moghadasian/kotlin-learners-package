{
 "cells": [
  {
   "cell_type": "markdown",
   "id": "7242a31d-7166-418f-9669-165671a6d9c2",
   "metadata": {},
   "source": [
    "# Introducing **Lambdas**\n",
    "- Creating lambdas are introduced.\n",
    "- Usage of lambda in high-order functions is explained.\n",
    "- Labelling blocks has breifly discussed."
   ]
  },
  {
   "cell_type": "markdown",
   "id": "c4a3d18c-ac0f-4912-a384-71f182c7bdfe",
   "metadata": {},
   "source": [
    "## Creating simple **Lambdas**"
   ]
  },
  {
   "cell_type": "code",
   "execution_count": 40,
   "id": "270e58b9-cf3c-463f-aae7-4e781abf9922",
   "metadata": {},
   "outputs": [
    {
     "name": "stdout",
     "output_type": "stream",
     "text": [
      "someFun result: 3\n",
      "someLam result: 3\n",
      "anotherLam result: 3\n"
     ]
    }
   ],
   "source": [
    "// Creating simple lambdas\n",
    "\n",
    "// Suppose this function\n",
    "fun someFun(a: Int, b: Int): Int {\n",
    "    return a+b\n",
    "}\n",
    "\n",
    "// Now equivalent lambda can be created as follows\n",
    "val someLam = {a: Int, b: Int -> \n",
    "    a + b // Last expression result will be returned\n",
    "}\n",
    "\n",
    "println(\"someFun result: ${someFun(1, 2)}\")\n",
    "println(\"someLam result: ${someLam(1, 2)}\")\n",
    "\n",
    "// We can also create lambdas another way by specifying its type on LHS of = as\n",
    "val anotherLam: (Int, Int) -> Int = {x, y -> \n",
    "    x + y // Last expression result will be returned\n",
    "}\n",
    "println(\"anotherLam result: ${anotherLam(1, 2)}\")"
   ]
  },
  {
   "cell_type": "markdown",
   "id": "2546eea7-2af0-4098-b08c-530d4316da72",
   "metadata": {},
   "source": [
    "## **High-order** functions and **Lambdas**"
   ]
  },
  {
   "cell_type": "code",
   "execution_count": 41,
   "id": "d88cb34b-c6cc-4427-9a1f-05d637357421",
   "metadata": {},
   "outputs": [
    {
     "name": "stdout",
     "output_type": "stream",
     "text": [
      "High-order function result 1: 7\n",
      "High-order function result 2: 7\n",
      "Single param. high-order function result: 7\n"
     ]
    }
   ],
   "source": [
    "// Using on-demand lambdas for high-order functions\n",
    "\n",
    "// Let's define a function and a typealias for our parameter\n",
    "typealias actType = (Int, Int) -> Int\n",
    "fun someFun(a: Int, b: Int, c: Int, act: actType): Int {\n",
    "    return a + act(b, c)\n",
    "}\n",
    "\n",
    "// Now we call someFun with a given lambda\n",
    "var res = someFun(1, 2, 3, {x, y -> x * y}) // Lambda parameter types are infered\n",
    "println(\"High-order function result 1: ${res}\")\n",
    "\n",
    "// If in a high-order function, the last expression is lambda, it can also called as\n",
    "res = someFun(1, 2, 3) {x, y ->\n",
    "    x * y\n",
    "}\n",
    "println(\"High-order function result 2: ${res}\")\n",
    "\n",
    "// If our high-order function only takes a lambda it can be called as\n",
    "fun singleParamFun(act: actType): Int { \n",
    "    return 1 + act(2, 3) \n",
    "}\n",
    "// This will be similar to 'run {...}' or '?.let {...}' we used before\n",
    "// singleParamFun taked the block '{...}' as its only parameter\n",
    "res = singleParamFun { x, y ->\n",
    "    x * y\n",
    "}\n",
    "println(\"Single param. high-order function result: ${res}\")\n"
   ]
  },
  {
   "cell_type": "markdown",
   "id": "787ed744-cb7d-4636-b26d-a875148993dc",
   "metadata": {},
   "source": [
    "## Using **Labels** in blocks with `break`, `continue` and `return`\n",
    "**NOTE**: Labels also are used in classes that will be discused later."
   ]
  },
  {
   "cell_type": "code",
   "execution_count": 42,
   "id": "3af79f92-9d5c-444d-85e5-1901e6f9585b",
   "metadata": {},
   "outputs": [
    {
     "name": "stdout",
     "output_type": "stream",
     "text": [
      "The value of acu is 19\n",
      "Result of someFun: 8\n",
      "Result of someFun when lambda has its own label: 8"
     ]
    }
   ],
   "source": [
    "// Labelling lambda and other blocks\n",
    "\n",
    "/* \n",
    "We can label blocks in kotlin using '@' and when we want to use 'return', 'break', ...\n",
    "we can tell kotlin 'return@which', 'break@which'\n",
    "*/\n",
    "// For example a simple 'run {...}' block can be names as:\n",
    "var acu = 0\n",
    "outerLoop@ for (c1 in 1 until 5) {\n",
    "    for (c2 in 1 until 10) {\n",
    "        // NOTE: UNCOMMENT ONE OF THESE LINES TO SEE THE EFFECT\n",
    "        //if (c1 == 3 && c2 == 2) break\n",
    "        if (c1 == 3 && c2 == 2) break@outerLoop\n",
    "        acu = acu + 1\n",
    "    }\n",
    "}\n",
    "println(\"The value of acu is ${acu}\")\n",
    "\n",
    "// Suppose this high-order function that only gets a lambda\n",
    "// Lambda has no parameter and returns an Int\n",
    "\n",
    "fun someFun( cb: () -> Int): Int {\n",
    "    var res = 5\n",
    "    res = res + cb() // add 'cb()' result to 5 and returns\n",
    "    return res\n",
    "}\n",
    "var res = someFun { ->\n",
    "    var acu = 0\n",
    "    repeat(5) { c -> // You can name it anything: c, it, x,...\n",
    "        acu = acu + c\n",
    "        if (c == 2) { \n",
    "            // NOTE: UNCOMMENT ONE OF THESE LINES TO SEE THE EFFECT\n",
    "            // return // This will throw exception: 'return' is not allowed here\n",
    "            //return@repeat // Will break repeat and then lambda returns acu\n",
    "            return@someFun acu // Will return lambda by its calling function name [someFun]; a value should be returned\n",
    "        }\n",
    "    }\n",
    "    acu\n",
    "}\n",
    "println(\"Result of someFun: $res\")\n",
    "\n",
    "// We can also give the lambda itself a label by in this format 'lambdaLabel@{...}':\n",
    "res = someFun ourLambdaName@{ ->\n",
    "    var acu = 0\n",
    "    repeat(5) { c -> // You can name it anything: c, it, x,...\n",
    "        acu = acu + c\n",
    "        if (c == 2) { \n",
    "            // NOTE: UNCOMMENT THESE LINES TO SEE THE EFFECT\n",
    "            return@ourLambdaName acu // Will return lambda by its own label; a value should be returned\n",
    "            //return@someFun acu // Will no longer work because now our lambda has its own label\n",
    "        }\n",
    "    }\n",
    "    acu\n",
    "}\n",
    "print(\"Result of someFun when lambda has its own label: $res\")"
   ]
  },
  {
   "cell_type": "code",
   "execution_count": null,
   "id": "121fc20f-1f36-41fa-9525-aa4220d73c43",
   "metadata": {},
   "outputs": [],
   "source": []
  }
 ],
 "metadata": {
  "kernelspec": {
   "display_name": "Kotlin",
   "language": "kotlin",
   "name": "kotlin"
  },
  "language_info": {
   "codemirror_mode": "text/x-kotlin",
   "file_extension": ".kt",
   "mimetype": "text/x-kotlin",
   "name": "kotlin",
   "nbconvert_exporter": "",
   "pygments_lexer": "kotlin",
   "version": "1.9.23"
  }
 },
 "nbformat": 4,
 "nbformat_minor": 5
}
