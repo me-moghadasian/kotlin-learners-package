{
 "cells": [
  {
   "cell_type": "markdown",
   "id": "34e3b802-a926-4cf1-a77e-9b4fd37cb3c9",
   "metadata": {},
   "source": [
    "# Introducing **Collections**\n"
   ]
  },
  {
   "cell_type": "markdown",
   "id": "900b090c-20e9-4fc1-8669-00f6b607148c",
   "metadata": {},
   "source": [
    "## List\n",
    "An ordered collection that allows duplicate elements."
   ]
  },
  {
   "cell_type": "markdown",
   "id": "653047d0-d887-4762-a4e2-183a842febf0",
   "metadata": {},
   "source": [
    "## Set\n",
    "A collection that does not allow duplicate elements and has no specific order."
   ]
  },
  {
   "cell_type": "markdown",
   "id": "7fa4a87d-00bd-4d7a-9fdf-a2b76828feba",
   "metadata": {},
   "source": [
    "## Map\n",
    "A collection of key-value pairs where each key is unique."
   ]
  },
  {
   "cell_type": "markdown",
   "id": "967a3fb9-185c-406f-89d7-f1afdd225d68",
   "metadata": {},
   "source": [
    "## HashMap\n",
    " HashMap is an implementation of the MutableMap interface that uses a hash table for storage. It does not guarantee any specific order of the key-value pairs. The primary advantage of HashMap is its efficient lookup times"
   ]
  },
  {
   "cell_type": "markdown",
   "id": "1ecf86bc-5751-4f12-b6ce-0dd1324c3521",
   "metadata": {},
   "source": [
    "## LinkedHashMap\n",
    " LinkedHashMap is another implementation of the MutableMap interface. It maintains a linked list of entries to preserve the insertion order. This means that when iterating over the map, the entries are returned in the order they were added. It combines the fast access time of HashMap with the ability to maintain order"
   ]
  },
  {
   "cell_type": "markdown",
   "id": "9f6149e9-6467-4e5f-ab28-b919b10bc71e",
   "metadata": {},
   "source": [
    "## Sequence\n",
    "A collection of key-value pairs where each key is unique."
   ]
  },
  {
   "cell_type": "code",
   "execution_count": null,
   "id": "766a448d-1d1c-44c6-abf7-00165ce83448",
   "metadata": {},
   "outputs": [],
   "source": []
  }
 ],
 "metadata": {
  "kernelspec": {
   "display_name": "Kotlin",
   "language": "kotlin",
   "name": "kotlin"
  },
  "language_info": {
   "codemirror_mode": "text/x-kotlin",
   "file_extension": ".kt",
   "mimetype": "text/x-kotlin",
   "name": "kotlin",
   "nbconvert_exporter": "",
   "pygments_lexer": "kotlin",
   "version": "1.9.23"
  }
 },
 "nbformat": 4,
 "nbformat_minor": 5
}
