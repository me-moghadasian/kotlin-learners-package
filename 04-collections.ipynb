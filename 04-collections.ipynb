{
 "cells": [
  {
   "cell_type": "markdown",
   "id": "34e3b802-a926-4cf1-a77e-9b4fd37cb3c9",
   "metadata": {},
   "source": [
    "# Introducing **Collections**\n"
   ]
  }
 ],
 "metadata": {
  "kernelspec": {
   "display_name": "Kotlin",
   "language": "kotlin",
   "name": "kotlin"
  },
  "language_info": {
   "codemirror_mode": "text/x-kotlin",
   "file_extension": ".kt",
   "mimetype": "text/x-kotlin",
   "name": "kotlin",
   "nbconvert_exporter": "",
   "pygments_lexer": "kotlin",
   "version": "1.9.23"
  }
 },
 "nbformat": 4,
 "nbformat_minor": 5
}
